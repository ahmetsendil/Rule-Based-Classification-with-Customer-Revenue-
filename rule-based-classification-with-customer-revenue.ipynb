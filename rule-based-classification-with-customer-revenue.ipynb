{
 "cells": [
  {
   "cell_type": "markdown",
   "id": "bc5c779c",
   "metadata": {
    "papermill": {
     "duration": 0.013439,
     "end_time": "2025-02-24T18:00:49.755848",
     "exception": false,
     "start_time": "2025-02-24T18:00:49.742409",
     "status": "completed"
    },
    "tags": []
   },
   "source": [
    "**Rule-Based Classification for Calculating Potential Customer Revenue**"
   ]
  },
  {
   "cell_type": "markdown",
   "id": "5731baa0",
   "metadata": {
    "papermill": {
     "duration": 0.012196,
     "end_time": "2025-02-24T18:00:49.781981",
     "exception": false,
     "start_time": "2025-02-24T18:00:49.769785",
     "status": "completed"
    },
    "tags": []
   },
   "source": [
    "**Business Problem**\n",
    "\n",
    "A company wants to create new customer profiles (personas) based on certain characteristics of its existing customers using a level-based approach. The goal is to create segments according to these new customer definitions and estimate how much potential new customers could contribute to the company on average. For example, it is desired to estimate how much an average 25-year-old male iOS user from Turkey might contribute to the company."
   ]
  },
  {
   "cell_type": "markdown",
   "id": "84ae4f84",
   "metadata": {
    "papermill": {
     "duration": 0.012628,
     "end_time": "2025-02-24T18:00:49.807604",
     "exception": false,
     "start_time": "2025-02-24T18:00:49.794976",
     "status": "completed"
    },
    "tags": []
   },
   "source": [
    "**Data Set Story**\n",
    "\n",
    "The Persona.csv dataset contains information about the prices of products sold by an international company and some demographic details of the users who purchased these products. The dataset is derived from records of each sales transaction. This means that the data is not aggregated, and a user with specific demographic characteristics may have made multiple purchases."
   ]
  },
  {
   "cell_type": "markdown",
   "id": "ab69a9fb",
   "metadata": {
    "papermill": {
     "duration": 0.01256,
     "end_time": "2025-02-24T18:00:49.832272",
     "exception": false,
     "start_time": "2025-02-24T18:00:49.819712",
     "status": "completed"
    },
    "tags": []
   },
   "source": [
    "**Variables :**\n",
    "* PRICE – Müşterinin harcama tutarı \n",
    "* SOURCE – Müşterinin bağlandığı cihaz türü \n",
    "* SEX – Müşterinin cinsiyeti \n",
    "* COUNTRY – Müşterinin ülkesi \n",
    "* AGE – Müşterinin yaşı"
   ]
  },
  {
   "cell_type": "code",
   "execution_count": 1,
   "id": "856285e7",
   "metadata": {
    "_cell_guid": "b1076dfc-b9ad-4769-8c92-a6c4dae69d19",
    "_uuid": "8f2839f25d086af736a60e9eeb907d3b93b6e0e5",
    "execution": {
     "iopub.execute_input": "2025-02-24T18:00:49.859530Z",
     "iopub.status.busy": "2025-02-24T18:00:49.859104Z",
     "iopub.status.idle": "2025-02-24T18:00:51.048648Z",
     "shell.execute_reply": "2025-02-24T18:00:51.047247Z"
    },
    "papermill": {
     "duration": 1.207087,
     "end_time": "2025-02-24T18:00:51.051773",
     "exception": false,
     "start_time": "2025-02-24T18:00:49.844686",
     "status": "completed"
    },
    "tags": []
   },
   "outputs": [
    {
     "name": "stdout",
     "output_type": "stream",
     "text": [
      "/kaggle/input/persona-data-set-0/persona.csv\n"
     ]
    }
   ],
   "source": [
    "# This Python 3 environment comes with many helpful analytics libraries installed\n",
    "# It is defined by the kaggle/python Docker image: https://github.com/kaggle/docker-python\n",
    "# For example, here's several helpful packages to load\n",
    "\n",
    "import numpy as np # linear algebra\n",
    "import pandas as pd # data processing, CSV file I/O (e.g. pd.read_csv)\n",
    "\n",
    "# Input data files are available in the read-only \"../input/\" directory\n",
    "# For example, running this (by clicking run or pressing Shift+Enter) will list all files under the input directory\n",
    "\n",
    "import os\n",
    "for dirname, _, filenames in os.walk('/kaggle/input'):\n",
    "    for filename in filenames:\n",
    "        print(os.path.join(dirname, filename))\n",
    "\n",
    "# You can write up to 20GB to the current directory (/kaggle/working/) that gets preserved as output when you create a version using \"Save & Run All\" \n",
    "# You can also write temporary files to /kaggle/temp/, but they won't be saved outside of the current session"
   ]
  },
  {
   "cell_type": "code",
   "execution_count": 2,
   "id": "a8210c4f",
   "metadata": {
    "execution": {
     "iopub.execute_input": "2025-02-24T18:00:51.082129Z",
     "iopub.status.busy": "2025-02-24T18:00:51.081585Z",
     "iopub.status.idle": "2025-02-24T18:00:51.087097Z",
     "shell.execute_reply": "2025-02-24T18:00:51.085785Z"
    },
    "papermill": {
     "duration": 0.022461,
     "end_time": "2025-02-24T18:00:51.088895",
     "exception": false,
     "start_time": "2025-02-24T18:00:51.066434",
     "status": "completed"
    },
    "tags": []
   },
   "outputs": [],
   "source": [
    "import pandas as pd\n",
    "pd.set_option(\"display.max_rows\", 100)\n",
    "pd.set_option(\"display.width\", 500)\n",
    "import warnings\n",
    "warnings.simplefilter(action=\"ignore\", category=FutureWarning)"
   ]
  },
  {
   "cell_type": "code",
   "execution_count": 3,
   "id": "3d728a04",
   "metadata": {
    "execution": {
     "iopub.execute_input": "2025-02-24T18:00:51.115925Z",
     "iopub.status.busy": "2025-02-24T18:00:51.115581Z",
     "iopub.status.idle": "2025-02-24T18:00:51.182307Z",
     "shell.execute_reply": "2025-02-24T18:00:51.181071Z"
    },
    "papermill": {
     "duration": 0.083157,
     "end_time": "2025-02-24T18:00:51.184755",
     "exception": false,
     "start_time": "2025-02-24T18:00:51.101598",
     "status": "completed"
    },
    "tags": []
   },
   "outputs": [
    {
     "data": {
      "text/html": [
       "<div>\n",
       "<style scoped>\n",
       "    .dataframe tbody tr th:only-of-type {\n",
       "        vertical-align: middle;\n",
       "    }\n",
       "\n",
       "    .dataframe tbody tr th {\n",
       "        vertical-align: top;\n",
       "    }\n",
       "\n",
       "    .dataframe thead th {\n",
       "        text-align: right;\n",
       "    }\n",
       "</style>\n",
       "<table border=\"1\" class=\"dataframe\">\n",
       "  <thead>\n",
       "    <tr style=\"text-align: right;\">\n",
       "      <th></th>\n",
       "      <th>PRICE</th>\n",
       "      <th>SOURCE</th>\n",
       "      <th>SEX</th>\n",
       "      <th>COUNTRY</th>\n",
       "      <th>AGE</th>\n",
       "    </tr>\n",
       "  </thead>\n",
       "  <tbody>\n",
       "    <tr>\n",
       "      <th>0</th>\n",
       "      <td>39</td>\n",
       "      <td>android</td>\n",
       "      <td>male</td>\n",
       "      <td>bra</td>\n",
       "      <td>17</td>\n",
       "    </tr>\n",
       "    <tr>\n",
       "      <th>1</th>\n",
       "      <td>39</td>\n",
       "      <td>android</td>\n",
       "      <td>male</td>\n",
       "      <td>bra</td>\n",
       "      <td>17</td>\n",
       "    </tr>\n",
       "    <tr>\n",
       "      <th>2</th>\n",
       "      <td>49</td>\n",
       "      <td>android</td>\n",
       "      <td>male</td>\n",
       "      <td>bra</td>\n",
       "      <td>17</td>\n",
       "    </tr>\n",
       "    <tr>\n",
       "      <th>3</th>\n",
       "      <td>29</td>\n",
       "      <td>android</td>\n",
       "      <td>male</td>\n",
       "      <td>tur</td>\n",
       "      <td>17</td>\n",
       "    </tr>\n",
       "    <tr>\n",
       "      <th>4</th>\n",
       "      <td>49</td>\n",
       "      <td>android</td>\n",
       "      <td>male</td>\n",
       "      <td>tur</td>\n",
       "      <td>17</td>\n",
       "    </tr>\n",
       "  </tbody>\n",
       "</table>\n",
       "</div>"
      ],
      "text/plain": [
       "   PRICE   SOURCE   SEX COUNTRY  AGE\n",
       "0     39  android  male     bra   17\n",
       "1     39  android  male     bra   17\n",
       "2     49  android  male     bra   17\n",
       "3     29  android  male     tur   17\n",
       "4     49  android  male     tur   17"
      ]
     },
     "execution_count": 3,
     "metadata": {},
     "output_type": "execute_result"
    }
   ],
   "source": [
    "df = pd.read_csv(\"/kaggle/input/persona-data-set-0/persona.csv\")\n",
    "df.head()"
   ]
  },
  {
   "cell_type": "code",
   "execution_count": 4,
   "id": "38c8477b",
   "metadata": {
    "execution": {
     "iopub.execute_input": "2025-02-24T18:00:51.214622Z",
     "iopub.status.busy": "2025-02-24T18:00:51.214279Z",
     "iopub.status.idle": "2025-02-24T18:00:51.246371Z",
     "shell.execute_reply": "2025-02-24T18:00:51.244775Z"
    },
    "papermill": {
     "duration": 0.048254,
     "end_time": "2025-02-24T18:00:51.248703",
     "exception": false,
     "start_time": "2025-02-24T18:00:51.200449",
     "status": "completed"
    },
    "tags": []
   },
   "outputs": [
    {
     "name": "stdout",
     "output_type": "stream",
     "text": [
      "################ Shape ##############\n",
      "(5000, 5)\n",
      "################ Types ##############\n",
      "PRICE       int64\n",
      "SOURCE     object\n",
      "SEX        object\n",
      "COUNTRY    object\n",
      "AGE         int64\n",
      "dtype: object\n",
      "################ Head ###############\n",
      "   PRICE   SOURCE   SEX COUNTRY  AGE\n",
      "0     39  android  male     bra   17\n",
      "1     39  android  male     bra   17\n",
      "2     49  android  male     bra   17\n",
      "3     29  android  male     tur   17\n",
      "4     49  android  male     tur   17\n",
      "################ Tail ###############\n",
      "      PRICE   SOURCE     SEX COUNTRY  AGE\n",
      "4995     29  android  female     bra   31\n",
      "4996     29  android  female     bra   31\n",
      "4997     29  android  female     bra   31\n",
      "4998     39  android  female     bra   31\n",
      "4999     29  android  female     bra   31\n",
      "################ NA ###############\n",
      "PRICE      0\n",
      "SOURCE     0\n",
      "SEX        0\n",
      "COUNTRY    0\n",
      "AGE        0\n",
      "dtype: int64\n",
      "################ Quantiles ###############\n",
      "        count     mean        std   min    0%    5%   50%   95%   99%  100%   max\n",
      "PRICE  5000.0  34.1320  12.464897   9.0   9.0  19.0  39.0  49.0  59.0  59.0  59.0\n",
      "AGE    5000.0  23.5814   8.995908  15.0  15.0  15.0  21.0  43.0  53.0  66.0  66.0\n"
     ]
    }
   ],
   "source": [
    "def check_df(dataframe, head=5):\n",
    "    print(\"################ Shape ##############\")\n",
    "    print(dataframe.shape)\n",
    "    print('################ Types ##############')\n",
    "    print(dataframe.dtypes)\n",
    "    print('################ Head ###############')\n",
    "    print(dataframe.head(head))\n",
    "    print('################ Tail ###############')\n",
    "    print(dataframe.tail(head))\n",
    "    print('################ NA ###############')\n",
    "    print(dataframe.isnull().sum())\n",
    "    print('################ Quantiles ###############')\n",
    "    print(dataframe.describe([0, 0.05, 0.50, 0.95, 0.99, 1]).T)\n",
    "\n",
    "check_df(df)"
   ]
  },
  {
   "cell_type": "markdown",
   "id": "259deb62",
   "metadata": {
    "papermill": {
     "duration": 0.013335,
     "end_time": "2025-02-24T18:00:51.276376",
     "exception": false,
     "start_time": "2025-02-24T18:00:51.263041",
     "status": "completed"
    },
    "tags": []
   },
   "source": [
    "Soru 2: Kaç unique SOURCE vardır? Frekansları nedir?"
   ]
  },
  {
   "cell_type": "code",
   "execution_count": 5,
   "id": "ae101f48",
   "metadata": {
    "execution": {
     "iopub.execute_input": "2025-02-24T18:00:51.308843Z",
     "iopub.status.busy": "2025-02-24T18:00:51.308465Z",
     "iopub.status.idle": "2025-02-24T18:00:51.322264Z",
     "shell.execute_reply": "2025-02-24T18:00:51.319789Z"
    },
    "papermill": {
     "duration": 0.033936,
     "end_time": "2025-02-24T18:00:51.324663",
     "exception": false,
     "start_time": "2025-02-24T18:00:51.290727",
     "status": "completed"
    },
    "tags": []
   },
   "outputs": [
    {
     "data": {
      "text/plain": [
       "2"
      ]
     },
     "execution_count": 5,
     "metadata": {},
     "output_type": "execute_result"
    }
   ],
   "source": [
    "df[\"SOURCE\"].nunique()"
   ]
  },
  {
   "cell_type": "code",
   "execution_count": 6,
   "id": "9a85318f",
   "metadata": {
    "execution": {
     "iopub.execute_input": "2025-02-24T18:00:51.367920Z",
     "iopub.status.busy": "2025-02-24T18:00:51.367552Z",
     "iopub.status.idle": "2025-02-24T18:00:51.380373Z",
     "shell.execute_reply": "2025-02-24T18:00:51.379203Z"
    },
    "papermill": {
     "duration": 0.038709,
     "end_time": "2025-02-24T18:00:51.383722",
     "exception": false,
     "start_time": "2025-02-24T18:00:51.345013",
     "status": "completed"
    },
    "tags": []
   },
   "outputs": [
    {
     "data": {
      "text/plain": [
       "SOURCE\n",
       "android    2974\n",
       "ios        2026\n",
       "Name: count, dtype: int64"
      ]
     },
     "execution_count": 6,
     "metadata": {},
     "output_type": "execute_result"
    }
   ],
   "source": [
    "df[\"SOURCE\"].value_counts()"
   ]
  },
  {
   "cell_type": "markdown",
   "id": "7c8bd121",
   "metadata": {
    "papermill": {
     "duration": 0.013932,
     "end_time": "2025-02-24T18:00:51.417204",
     "exception": false,
     "start_time": "2025-02-24T18:00:51.403272",
     "status": "completed"
    },
    "tags": []
   },
   "source": [
    "Soru 3: Kaç unique PRICE vardır?"
   ]
  },
  {
   "cell_type": "code",
   "execution_count": 7,
   "id": "9f4cf400",
   "metadata": {
    "execution": {
     "iopub.execute_input": "2025-02-24T18:00:51.447400Z",
     "iopub.status.busy": "2025-02-24T18:00:51.446990Z",
     "iopub.status.idle": "2025-02-24T18:00:51.456099Z",
     "shell.execute_reply": "2025-02-24T18:00:51.454861Z"
    },
    "papermill": {
     "duration": 0.026457,
     "end_time": "2025-02-24T18:00:51.458263",
     "exception": false,
     "start_time": "2025-02-24T18:00:51.431806",
     "status": "completed"
    },
    "tags": []
   },
   "outputs": [
    {
     "data": {
      "text/plain": [
       "6"
      ]
     },
     "execution_count": 7,
     "metadata": {},
     "output_type": "execute_result"
    }
   ],
   "source": [
    "df[\"PRICE\"].nunique()"
   ]
  },
  {
   "cell_type": "code",
   "execution_count": 8,
   "id": "0b145d9e",
   "metadata": {
    "execution": {
     "iopub.execute_input": "2025-02-24T18:00:51.498260Z",
     "iopub.status.busy": "2025-02-24T18:00:51.497496Z",
     "iopub.status.idle": "2025-02-24T18:00:51.506739Z",
     "shell.execute_reply": "2025-02-24T18:00:51.504282Z"
    },
    "papermill": {
     "duration": 0.037438,
     "end_time": "2025-02-24T18:00:51.512306",
     "exception": false,
     "start_time": "2025-02-24T18:00:51.474868",
     "status": "completed"
    },
    "tags": []
   },
   "outputs": [
    {
     "data": {
      "text/plain": [
       "array([39, 49, 29, 19, 59,  9])"
      ]
     },
     "execution_count": 8,
     "metadata": {},
     "output_type": "execute_result"
    }
   ],
   "source": [
    "df[\"PRICE\"].unique()"
   ]
  },
  {
   "cell_type": "code",
   "execution_count": 9,
   "id": "e97f611c",
   "metadata": {
    "execution": {
     "iopub.execute_input": "2025-02-24T18:00:51.554027Z",
     "iopub.status.busy": "2025-02-24T18:00:51.553618Z",
     "iopub.status.idle": "2025-02-24T18:00:51.564799Z",
     "shell.execute_reply": "2025-02-24T18:00:51.562730Z"
    },
    "papermill": {
     "duration": 0.036629,
     "end_time": "2025-02-24T18:00:51.566865",
     "exception": false,
     "start_time": "2025-02-24T18:00:51.530236",
     "status": "completed"
    },
    "tags": []
   },
   "outputs": [
    {
     "data": {
      "text/plain": [
       "PRICE\n",
       "29    1305\n",
       "39    1260\n",
       "49    1031\n",
       "19     992\n",
       "59     212\n",
       "9      200\n",
       "Name: count, dtype: int64"
      ]
     },
     "execution_count": 9,
     "metadata": {},
     "output_type": "execute_result"
    }
   ],
   "source": [
    "df[\"PRICE\"].value_counts()"
   ]
  },
  {
   "cell_type": "code",
   "execution_count": 10,
   "id": "0ca74ad2",
   "metadata": {
    "execution": {
     "iopub.execute_input": "2025-02-24T18:00:51.610930Z",
     "iopub.status.busy": "2025-02-24T18:00:51.610096Z",
     "iopub.status.idle": "2025-02-24T18:00:51.620289Z",
     "shell.execute_reply": "2025-02-24T18:00:51.618659Z"
    },
    "papermill": {
     "duration": 0.041323,
     "end_time": "2025-02-24T18:00:51.624358",
     "exception": false,
     "start_time": "2025-02-24T18:00:51.583035",
     "status": "completed"
    },
    "tags": []
   },
   "outputs": [
    {
     "data": {
      "text/plain": [
       "2"
      ]
     },
     "execution_count": 10,
     "metadata": {},
     "output_type": "execute_result"
    }
   ],
   "source": [
    "df[\"SEX\"].nunique()"
   ]
  },
  {
   "cell_type": "code",
   "execution_count": 11,
   "id": "6c275a93",
   "metadata": {
    "execution": {
     "iopub.execute_input": "2025-02-24T18:00:51.699295Z",
     "iopub.status.busy": "2025-02-24T18:00:51.698202Z",
     "iopub.status.idle": "2025-02-24T18:00:51.721293Z",
     "shell.execute_reply": "2025-02-24T18:00:51.714988Z"
    },
    "papermill": {
     "duration": 0.069455,
     "end_time": "2025-02-24T18:00:51.725689",
     "exception": false,
     "start_time": "2025-02-24T18:00:51.656234",
     "status": "completed"
    },
    "tags": []
   },
   "outputs": [
    {
     "data": {
      "text/plain": [
       "array(['male', 'female'], dtype=object)"
      ]
     },
     "execution_count": 11,
     "metadata": {},
     "output_type": "execute_result"
    }
   ],
   "source": [
    "df[\"SEX\"].unique()"
   ]
  },
  {
   "cell_type": "code",
   "execution_count": 12,
   "id": "11be252e",
   "metadata": {
    "execution": {
     "iopub.execute_input": "2025-02-24T18:00:51.818246Z",
     "iopub.status.busy": "2025-02-24T18:00:51.814998Z",
     "iopub.status.idle": "2025-02-24T18:00:51.834923Z",
     "shell.execute_reply": "2025-02-24T18:00:51.832088Z"
    },
    "papermill": {
     "duration": 0.061732,
     "end_time": "2025-02-24T18:00:51.838376",
     "exception": false,
     "start_time": "2025-02-24T18:00:51.776644",
     "status": "completed"
    },
    "tags": []
   },
   "outputs": [
    {
     "data": {
      "text/plain": [
       "SEX\n",
       "female    2621\n",
       "male      2379\n",
       "Name: count, dtype: int64"
      ]
     },
     "execution_count": 12,
     "metadata": {},
     "output_type": "execute_result"
    }
   ],
   "source": [
    "df[\"SEX\"].value_counts()"
   ]
  },
  {
   "cell_type": "code",
   "execution_count": 13,
   "id": "002dabd1",
   "metadata": {
    "execution": {
     "iopub.execute_input": "2025-02-24T18:00:51.897334Z",
     "iopub.status.busy": "2025-02-24T18:00:51.896404Z",
     "iopub.status.idle": "2025-02-24T18:00:51.907182Z",
     "shell.execute_reply": "2025-02-24T18:00:51.905275Z"
    },
    "papermill": {
     "duration": 0.047186,
     "end_time": "2025-02-24T18:00:51.910376",
     "exception": false,
     "start_time": "2025-02-24T18:00:51.863190",
     "status": "completed"
    },
    "tags": []
   },
   "outputs": [
    {
     "data": {
      "text/plain": [
       "6"
      ]
     },
     "execution_count": 13,
     "metadata": {},
     "output_type": "execute_result"
    }
   ],
   "source": [
    "df[\"COUNTRY\"].nunique()"
   ]
  },
  {
   "cell_type": "code",
   "execution_count": 14,
   "id": "03941563",
   "metadata": {
    "execution": {
     "iopub.execute_input": "2025-02-24T18:00:51.948846Z",
     "iopub.status.busy": "2025-02-24T18:00:51.948455Z",
     "iopub.status.idle": "2025-02-24T18:00:51.956822Z",
     "shell.execute_reply": "2025-02-24T18:00:51.955290Z"
    },
    "papermill": {
     "duration": 0.029756,
     "end_time": "2025-02-24T18:00:51.960039",
     "exception": false,
     "start_time": "2025-02-24T18:00:51.930283",
     "status": "completed"
    },
    "tags": []
   },
   "outputs": [
    {
     "data": {
      "text/plain": [
       "array(['bra', 'tur', 'usa', 'can', 'deu', 'fra'], dtype=object)"
      ]
     },
     "execution_count": 14,
     "metadata": {},
     "output_type": "execute_result"
    }
   ],
   "source": [
    "df[\"COUNTRY\"].unique()"
   ]
  },
  {
   "cell_type": "code",
   "execution_count": 15,
   "id": "dd26b5a6",
   "metadata": {
    "execution": {
     "iopub.execute_input": "2025-02-24T18:00:51.994981Z",
     "iopub.status.busy": "2025-02-24T18:00:51.994538Z",
     "iopub.status.idle": "2025-02-24T18:00:52.006349Z",
     "shell.execute_reply": "2025-02-24T18:00:52.004268Z"
    },
    "papermill": {
     "duration": 0.032455,
     "end_time": "2025-02-24T18:00:52.009468",
     "exception": false,
     "start_time": "2025-02-24T18:00:51.977013",
     "status": "completed"
    },
    "tags": []
   },
   "outputs": [
    {
     "data": {
      "text/plain": [
       "COUNTRY\n",
       "usa    2065\n",
       "bra    1496\n",
       "deu     455\n",
       "tur     451\n",
       "fra     303\n",
       "can     230\n",
       "Name: count, dtype: int64"
      ]
     },
     "execution_count": 15,
     "metadata": {},
     "output_type": "execute_result"
    }
   ],
   "source": [
    "df[\"COUNTRY\"].value_counts()"
   ]
  },
  {
   "cell_type": "code",
   "execution_count": 16,
   "id": "db5ed18d",
   "metadata": {
    "execution": {
     "iopub.execute_input": "2025-02-24T18:00:52.044175Z",
     "iopub.status.busy": "2025-02-24T18:00:52.043714Z",
     "iopub.status.idle": "2025-02-24T18:00:52.053193Z",
     "shell.execute_reply": "2025-02-24T18:00:52.051690Z"
    },
    "papermill": {
     "duration": 0.033373,
     "end_time": "2025-02-24T18:00:52.056901",
     "exception": false,
     "start_time": "2025-02-24T18:00:52.023528",
     "status": "completed"
    },
    "tags": []
   },
   "outputs": [
    {
     "data": {
      "text/plain": [
       "46"
      ]
     },
     "execution_count": 16,
     "metadata": {},
     "output_type": "execute_result"
    }
   ],
   "source": [
    "df[\"AGE\"].nunique()"
   ]
  },
  {
   "cell_type": "code",
   "execution_count": 17,
   "id": "80c9bec1",
   "metadata": {
    "execution": {
     "iopub.execute_input": "2025-02-24T18:00:52.101185Z",
     "iopub.status.busy": "2025-02-24T18:00:52.100457Z",
     "iopub.status.idle": "2025-02-24T18:00:52.110463Z",
     "shell.execute_reply": "2025-02-24T18:00:52.108621Z"
    },
    "papermill": {
     "duration": 0.036236,
     "end_time": "2025-02-24T18:00:52.113729",
     "exception": false,
     "start_time": "2025-02-24T18:00:52.077493",
     "status": "completed"
    },
    "tags": []
   },
   "outputs": [
    {
     "data": {
      "text/plain": [
       "array([17, 26, 23, 15, 19, 21, 16, 35, 42, 40, 49, 34, 18, 32, 25, 30, 20,\n",
       "       22, 50, 37, 24, 31, 28, 66, 27, 47, 57, 52, 39, 59, 46, 36, 29, 51,\n",
       "       55, 53, 33, 43, 38, 56, 54, 41, 44, 45, 65, 61])"
      ]
     },
     "execution_count": 17,
     "metadata": {},
     "output_type": "execute_result"
    }
   ],
   "source": [
    "df[\"AGE\"].unique()"
   ]
  },
  {
   "cell_type": "code",
   "execution_count": 18,
   "id": "d18836f1",
   "metadata": {
    "execution": {
     "iopub.execute_input": "2025-02-24T18:00:52.152221Z",
     "iopub.status.busy": "2025-02-24T18:00:52.151801Z",
     "iopub.status.idle": "2025-02-24T18:00:52.162482Z",
     "shell.execute_reply": "2025-02-24T18:00:52.160813Z"
    },
    "papermill": {
     "duration": 0.032962,
     "end_time": "2025-02-24T18:00:52.165462",
     "exception": false,
     "start_time": "2025-02-24T18:00:52.132500",
     "status": "completed"
    },
    "tags": []
   },
   "outputs": [
    {
     "data": {
      "text/plain": [
       "AGE\n",
       "15    569\n",
       "16    494\n",
       "17    450\n",
       "18    348\n",
       "19    309\n",
       "20    264\n",
       "21    257\n",
       "22    242\n",
       "26    216\n",
       "23    210\n",
       "25    180\n",
       "24    173\n",
       "31    120\n",
       "27    113\n",
       "28    109\n",
       "33     95\n",
       "35     87\n",
       "37     70\n",
       "32     68\n",
       "42     66\n",
       "29     63\n",
       "34     61\n",
       "30     57\n",
       "38     42\n",
       "43     36\n",
       "50     33\n",
       "44     29\n",
       "41     28\n",
       "36     25\n",
       "45     24\n",
       "51     23\n",
       "40     21\n",
       "47     20\n",
       "49     19\n",
       "46     12\n",
       "57      8\n",
       "65      8\n",
       "59      8\n",
       "56      7\n",
       "66      7\n",
       "52      7\n",
       "53      6\n",
       "39      5\n",
       "54      4\n",
       "55      4\n",
       "61      3\n",
       "Name: count, dtype: int64"
      ]
     },
     "execution_count": 18,
     "metadata": {},
     "output_type": "execute_result"
    }
   ],
   "source": [
    "df[\"AGE\"].value_counts()"
   ]
  },
  {
   "cell_type": "markdown",
   "id": "a756f526",
   "metadata": {
    "papermill": {
     "duration": 0.018686,
     "end_time": "2025-02-24T18:00:52.202536",
     "exception": false,
     "start_time": "2025-02-24T18:00:52.183850",
     "status": "completed"
    },
    "tags": []
   },
   "source": [
    "Soru 4: Hangi PRICE'dan kaçar tane satış gerçekleşmiş?"
   ]
  },
  {
   "cell_type": "code",
   "execution_count": 19,
   "id": "0da133e9",
   "metadata": {
    "execution": {
     "iopub.execute_input": "2025-02-24T18:00:52.240024Z",
     "iopub.status.busy": "2025-02-24T18:00:52.239333Z",
     "iopub.status.idle": "2025-02-24T18:00:52.250082Z",
     "shell.execute_reply": "2025-02-24T18:00:52.248608Z"
    },
    "papermill": {
     "duration": 0.031707,
     "end_time": "2025-02-24T18:00:52.252635",
     "exception": false,
     "start_time": "2025-02-24T18:00:52.220928",
     "status": "completed"
    },
    "tags": []
   },
   "outputs": [
    {
     "data": {
      "text/plain": [
       "PRICE\n",
       "29    1305\n",
       "39    1260\n",
       "49    1031\n",
       "19     992\n",
       "59     212\n",
       "9      200\n",
       "Name: count, dtype: int64"
      ]
     },
     "execution_count": 19,
     "metadata": {},
     "output_type": "execute_result"
    }
   ],
   "source": [
    "df[\"PRICE\"].value_counts()"
   ]
  },
  {
   "cell_type": "markdown",
   "id": "9fb6459f",
   "metadata": {
    "papermill": {
     "duration": 0.017862,
     "end_time": "2025-02-24T18:00:52.288021",
     "exception": false,
     "start_time": "2025-02-24T18:00:52.270159",
     "status": "completed"
    },
    "tags": []
   },
   "source": [
    "Alternative Solution-2"
   ]
  },
  {
   "cell_type": "code",
   "execution_count": 20,
   "id": "5cd59c9e",
   "metadata": {
    "execution": {
     "iopub.execute_input": "2025-02-24T18:00:52.333305Z",
     "iopub.status.busy": "2025-02-24T18:00:52.332758Z",
     "iopub.status.idle": "2025-02-24T18:00:52.357617Z",
     "shell.execute_reply": "2025-02-24T18:00:52.351362Z"
    },
    "papermill": {
     "duration": 0.052811,
     "end_time": "2025-02-24T18:00:52.360361",
     "exception": false,
     "start_time": "2025-02-24T18:00:52.307550",
     "status": "completed"
    },
    "tags": []
   },
   "outputs": [
    {
     "data": {
      "text/plain": [
       "COUNTRY\n",
       "bra    1496\n",
       "can     230\n",
       "deu     455\n",
       "fra     303\n",
       "tur     451\n",
       "usa    2065\n",
       "Name: PRICE, dtype: int64"
      ]
     },
     "execution_count": 20,
     "metadata": {},
     "output_type": "execute_result"
    }
   ],
   "source": [
    "df.groupby(\"COUNTRY\")[\"PRICE\"].count()"
   ]
  },
  {
   "cell_type": "markdown",
   "id": "c1c9afad",
   "metadata": {
    "papermill": {
     "duration": 0.022098,
     "end_time": "2025-02-24T18:00:52.402138",
     "exception": false,
     "start_time": "2025-02-24T18:00:52.380040",
     "status": "completed"
    },
    "tags": []
   },
   "source": [
    "Alternative Solution-3"
   ]
  },
  {
   "cell_type": "code",
   "execution_count": 21,
   "id": "43f26feb",
   "metadata": {
    "execution": {
     "iopub.execute_input": "2025-02-24T18:00:52.438201Z",
     "iopub.status.busy": "2025-02-24T18:00:52.437794Z",
     "iopub.status.idle": "2025-02-24T18:00:52.461385Z",
     "shell.execute_reply": "2025-02-24T18:00:52.459123Z"
    },
    "papermill": {
     "duration": 0.047362,
     "end_time": "2025-02-24T18:00:52.464516",
     "exception": false,
     "start_time": "2025-02-24T18:00:52.417154",
     "status": "completed"
    },
    "tags": []
   },
   "outputs": [
    {
     "data": {
      "text/html": [
       "<div>\n",
       "<style scoped>\n",
       "    .dataframe tbody tr th:only-of-type {\n",
       "        vertical-align: middle;\n",
       "    }\n",
       "\n",
       "    .dataframe tbody tr th {\n",
       "        vertical-align: top;\n",
       "    }\n",
       "\n",
       "    .dataframe thead th {\n",
       "        text-align: right;\n",
       "    }\n",
       "</style>\n",
       "<table border=\"1\" class=\"dataframe\">\n",
       "  <thead>\n",
       "    <tr style=\"text-align: right;\">\n",
       "      <th></th>\n",
       "      <th>PRICE</th>\n",
       "    </tr>\n",
       "    <tr>\n",
       "      <th>COUNTRY</th>\n",
       "      <th></th>\n",
       "    </tr>\n",
       "  </thead>\n",
       "  <tbody>\n",
       "    <tr>\n",
       "      <th>bra</th>\n",
       "      <td>1496</td>\n",
       "    </tr>\n",
       "    <tr>\n",
       "      <th>can</th>\n",
       "      <td>230</td>\n",
       "    </tr>\n",
       "    <tr>\n",
       "      <th>deu</th>\n",
       "      <td>455</td>\n",
       "    </tr>\n",
       "    <tr>\n",
       "      <th>fra</th>\n",
       "      <td>303</td>\n",
       "    </tr>\n",
       "    <tr>\n",
       "      <th>tur</th>\n",
       "      <td>451</td>\n",
       "    </tr>\n",
       "    <tr>\n",
       "      <th>usa</th>\n",
       "      <td>2065</td>\n",
       "    </tr>\n",
       "  </tbody>\n",
       "</table>\n",
       "</div>"
      ],
      "text/plain": [
       "         PRICE\n",
       "COUNTRY       \n",
       "bra       1496\n",
       "can        230\n",
       "deu        455\n",
       "fra        303\n",
       "tur        451\n",
       "usa       2065"
      ]
     },
     "execution_count": 21,
     "metadata": {},
     "output_type": "execute_result"
    }
   ],
   "source": [
    "df.pivot_table(values=\"PRICE\",index=\"COUNTRY\",aggfunc=\"count\")"
   ]
  },
  {
   "cell_type": "markdown",
   "id": "9f891002",
   "metadata": {
    "papermill": {
     "duration": 0.015857,
     "end_time": "2025-02-24T18:00:52.496381",
     "exception": false,
     "start_time": "2025-02-24T18:00:52.480524",
     "status": "completed"
    },
    "tags": []
   },
   "source": [
    "Soru 5: Hangi ülkeden kaçar tane satış olmuş?"
   ]
  },
  {
   "cell_type": "code",
   "execution_count": 22,
   "id": "6b99030e",
   "metadata": {
    "execution": {
     "iopub.execute_input": "2025-02-24T18:00:52.529528Z",
     "iopub.status.busy": "2025-02-24T18:00:52.529176Z",
     "iopub.status.idle": "2025-02-24T18:00:52.539003Z",
     "shell.execute_reply": "2025-02-24T18:00:52.537649Z"
    },
    "papermill": {
     "duration": 0.02954,
     "end_time": "2025-02-24T18:00:52.541039",
     "exception": false,
     "start_time": "2025-02-24T18:00:52.511499",
     "status": "completed"
    },
    "tags": []
   },
   "outputs": [
    {
     "data": {
      "text/plain": [
       "COUNTRY\n",
       "usa    2065\n",
       "bra    1496\n",
       "deu     455\n",
       "tur     451\n",
       "fra     303\n",
       "can     230\n",
       "Name: count, dtype: int64"
      ]
     },
     "execution_count": 22,
     "metadata": {},
     "output_type": "execute_result"
    }
   ],
   "source": [
    "df[\"COUNTRY\"].value_counts()"
   ]
  },
  {
   "cell_type": "markdown",
   "id": "9e6c85d5",
   "metadata": {
    "papermill": {
     "duration": 0.019153,
     "end_time": "2025-02-24T18:00:52.577595",
     "exception": false,
     "start_time": "2025-02-24T18:00:52.558442",
     "status": "completed"
    },
    "tags": []
   },
   "source": [
    "Alternative Solution-2"
   ]
  },
  {
   "cell_type": "code",
   "execution_count": 23,
   "id": "965af7a6",
   "metadata": {
    "execution": {
     "iopub.execute_input": "2025-02-24T18:00:52.609416Z",
     "iopub.status.busy": "2025-02-24T18:00:52.609029Z",
     "iopub.status.idle": "2025-02-24T18:00:52.617994Z",
     "shell.execute_reply": "2025-02-24T18:00:52.616536Z"
    },
    "papermill": {
     "duration": 0.026644,
     "end_time": "2025-02-24T18:00:52.620114",
     "exception": false,
     "start_time": "2025-02-24T18:00:52.593470",
     "status": "completed"
    },
    "tags": []
   },
   "outputs": [
    {
     "data": {
      "text/plain": [
       "COUNTRY\n",
       "bra    1496\n",
       "can     230\n",
       "deu     455\n",
       "fra     303\n",
       "tur     451\n",
       "usa    2065\n",
       "Name: PRICE, dtype: int64"
      ]
     },
     "execution_count": 23,
     "metadata": {},
     "output_type": "execute_result"
    }
   ],
   "source": [
    "# alternatif 2\n",
    "\n",
    "df.groupby(\"COUNTRY\")[\"PRICE\"].count()"
   ]
  },
  {
   "cell_type": "markdown",
   "id": "9d158b37",
   "metadata": {
    "papermill": {
     "duration": 0.015132,
     "end_time": "2025-02-24T18:00:52.650829",
     "exception": false,
     "start_time": "2025-02-24T18:00:52.635697",
     "status": "completed"
    },
    "tags": []
   },
   "source": [
    "Alternative Solution-3"
   ]
  },
  {
   "cell_type": "code",
   "execution_count": 24,
   "id": "ea511518",
   "metadata": {
    "execution": {
     "iopub.execute_input": "2025-02-24T18:00:52.684853Z",
     "iopub.status.busy": "2025-02-24T18:00:52.684471Z",
     "iopub.status.idle": "2025-02-24T18:00:52.700063Z",
     "shell.execute_reply": "2025-02-24T18:00:52.698829Z"
    },
    "papermill": {
     "duration": 0.036436,
     "end_time": "2025-02-24T18:00:52.702268",
     "exception": false,
     "start_time": "2025-02-24T18:00:52.665832",
     "status": "completed"
    },
    "tags": []
   },
   "outputs": [
    {
     "data": {
      "text/html": [
       "<div>\n",
       "<style scoped>\n",
       "    .dataframe tbody tr th:only-of-type {\n",
       "        vertical-align: middle;\n",
       "    }\n",
       "\n",
       "    .dataframe tbody tr th {\n",
       "        vertical-align: top;\n",
       "    }\n",
       "\n",
       "    .dataframe thead th {\n",
       "        text-align: right;\n",
       "    }\n",
       "</style>\n",
       "<table border=\"1\" class=\"dataframe\">\n",
       "  <thead>\n",
       "    <tr style=\"text-align: right;\">\n",
       "      <th></th>\n",
       "      <th>PRICE</th>\n",
       "    </tr>\n",
       "    <tr>\n",
       "      <th>COUNTRY</th>\n",
       "      <th></th>\n",
       "    </tr>\n",
       "  </thead>\n",
       "  <tbody>\n",
       "    <tr>\n",
       "      <th>bra</th>\n",
       "      <td>1496</td>\n",
       "    </tr>\n",
       "    <tr>\n",
       "      <th>can</th>\n",
       "      <td>230</td>\n",
       "    </tr>\n",
       "    <tr>\n",
       "      <th>deu</th>\n",
       "      <td>455</td>\n",
       "    </tr>\n",
       "    <tr>\n",
       "      <th>fra</th>\n",
       "      <td>303</td>\n",
       "    </tr>\n",
       "    <tr>\n",
       "      <th>tur</th>\n",
       "      <td>451</td>\n",
       "    </tr>\n",
       "    <tr>\n",
       "      <th>usa</th>\n",
       "      <td>2065</td>\n",
       "    </tr>\n",
       "  </tbody>\n",
       "</table>\n",
       "</div>"
      ],
      "text/plain": [
       "         PRICE\n",
       "COUNTRY       \n",
       "bra       1496\n",
       "can        230\n",
       "deu        455\n",
       "fra        303\n",
       "tur        451\n",
       "usa       2065"
      ]
     },
     "execution_count": 24,
     "metadata": {},
     "output_type": "execute_result"
    }
   ],
   "source": [
    "# alternatif 3\n",
    "\n",
    "df.pivot_table(values=\"PRICE\",index=\"COUNTRY\",aggfunc=\"count\")"
   ]
  },
  {
   "cell_type": "markdown",
   "id": "9768005f",
   "metadata": {
    "papermill": {
     "duration": 0.015645,
     "end_time": "2025-02-24T18:00:52.734096",
     "exception": false,
     "start_time": "2025-02-24T18:00:52.718451",
     "status": "completed"
    },
    "tags": []
   },
   "source": [
    "Soru 6: Ülkelere göre satışlardan toplam ne kadar kazanılmış?"
   ]
  },
  {
   "cell_type": "code",
   "execution_count": 25,
   "id": "262987f9",
   "metadata": {
    "execution": {
     "iopub.execute_input": "2025-02-24T18:00:52.772324Z",
     "iopub.status.busy": "2025-02-24T18:00:52.771914Z",
     "iopub.status.idle": "2025-02-24T18:00:52.787672Z",
     "shell.execute_reply": "2025-02-24T18:00:52.786372Z"
    },
    "papermill": {
     "duration": 0.037584,
     "end_time": "2025-02-24T18:00:52.790038",
     "exception": false,
     "start_time": "2025-02-24T18:00:52.752454",
     "status": "completed"
    },
    "tags": []
   },
   "outputs": [
    {
     "data": {
      "text/plain": [
       "COUNTRY\n",
       "bra    51354\n",
       "can     7730\n",
       "deu    15485\n",
       "fra    10177\n",
       "tur    15689\n",
       "usa    70225\n",
       "Name: PRICE, dtype: int64"
      ]
     },
     "execution_count": 25,
     "metadata": {},
     "output_type": "execute_result"
    }
   ],
   "source": [
    "df.groupby(\"COUNTRY\")[\"PRICE\"].sum()"
   ]
  },
  {
   "cell_type": "markdown",
   "id": "ecfac9e2",
   "metadata": {
    "papermill": {
     "duration": 0.019436,
     "end_time": "2025-02-24T18:00:52.829231",
     "exception": false,
     "start_time": "2025-02-24T18:00:52.809795",
     "status": "completed"
    },
    "tags": []
   },
   "source": [
    "Alternative Solution-2"
   ]
  },
  {
   "cell_type": "code",
   "execution_count": 26,
   "id": "074cde28",
   "metadata": {
    "execution": {
     "iopub.execute_input": "2025-02-24T18:00:52.868347Z",
     "iopub.status.busy": "2025-02-24T18:00:52.867865Z",
     "iopub.status.idle": "2025-02-24T18:00:52.891633Z",
     "shell.execute_reply": "2025-02-24T18:00:52.887540Z"
    },
    "papermill": {
     "duration": 0.047779,
     "end_time": "2025-02-24T18:00:52.895457",
     "exception": false,
     "start_time": "2025-02-24T18:00:52.847678",
     "status": "completed"
    },
    "tags": []
   },
   "outputs": [
    {
     "data": {
      "text/html": [
       "<div>\n",
       "<style scoped>\n",
       "    .dataframe tbody tr th:only-of-type {\n",
       "        vertical-align: middle;\n",
       "    }\n",
       "\n",
       "    .dataframe tbody tr th {\n",
       "        vertical-align: top;\n",
       "    }\n",
       "\n",
       "    .dataframe thead th {\n",
       "        text-align: right;\n",
       "    }\n",
       "</style>\n",
       "<table border=\"1\" class=\"dataframe\">\n",
       "  <thead>\n",
       "    <tr style=\"text-align: right;\">\n",
       "      <th></th>\n",
       "      <th>PRICE</th>\n",
       "    </tr>\n",
       "    <tr>\n",
       "      <th>COUNTRY</th>\n",
       "      <th></th>\n",
       "    </tr>\n",
       "  </thead>\n",
       "  <tbody>\n",
       "    <tr>\n",
       "      <th>bra</th>\n",
       "      <td>51354</td>\n",
       "    </tr>\n",
       "    <tr>\n",
       "      <th>can</th>\n",
       "      <td>7730</td>\n",
       "    </tr>\n",
       "    <tr>\n",
       "      <th>deu</th>\n",
       "      <td>15485</td>\n",
       "    </tr>\n",
       "    <tr>\n",
       "      <th>fra</th>\n",
       "      <td>10177</td>\n",
       "    </tr>\n",
       "    <tr>\n",
       "      <th>tur</th>\n",
       "      <td>15689</td>\n",
       "    </tr>\n",
       "    <tr>\n",
       "      <th>usa</th>\n",
       "      <td>70225</td>\n",
       "    </tr>\n",
       "  </tbody>\n",
       "</table>\n",
       "</div>"
      ],
      "text/plain": [
       "         PRICE\n",
       "COUNTRY       \n",
       "bra      51354\n",
       "can       7730\n",
       "deu      15485\n",
       "fra      10177\n",
       "tur      15689\n",
       "usa      70225"
      ]
     },
     "execution_count": 26,
     "metadata": {},
     "output_type": "execute_result"
    }
   ],
   "source": [
    "df.groupby(\"COUNTRY\").agg({\"PRICE\": \"sum\"})"
   ]
  },
  {
   "cell_type": "markdown",
   "id": "12ba1dd0",
   "metadata": {
    "papermill": {
     "duration": 0.018455,
     "end_time": "2025-02-24T18:00:52.934167",
     "exception": false,
     "start_time": "2025-02-24T18:00:52.915712",
     "status": "completed"
    },
    "tags": []
   },
   "source": [
    "Alternative Solution-3"
   ]
  },
  {
   "cell_type": "code",
   "execution_count": 27,
   "id": "159564b8",
   "metadata": {
    "execution": {
     "iopub.execute_input": "2025-02-24T18:00:53.053549Z",
     "iopub.status.busy": "2025-02-24T18:00:53.053127Z",
     "iopub.status.idle": "2025-02-24T18:00:53.069101Z",
     "shell.execute_reply": "2025-02-24T18:00:53.067663Z"
    },
    "papermill": {
     "duration": 0.047836,
     "end_time": "2025-02-24T18:00:53.082968",
     "exception": false,
     "start_time": "2025-02-24T18:00:53.035132",
     "status": "completed"
    },
    "tags": []
   },
   "outputs": [
    {
     "data": {
      "text/html": [
       "<div>\n",
       "<style scoped>\n",
       "    .dataframe tbody tr th:only-of-type {\n",
       "        vertical-align: middle;\n",
       "    }\n",
       "\n",
       "    .dataframe tbody tr th {\n",
       "        vertical-align: top;\n",
       "    }\n",
       "\n",
       "    .dataframe thead th {\n",
       "        text-align: right;\n",
       "    }\n",
       "</style>\n",
       "<table border=\"1\" class=\"dataframe\">\n",
       "  <thead>\n",
       "    <tr style=\"text-align: right;\">\n",
       "      <th></th>\n",
       "      <th>PRICE</th>\n",
       "    </tr>\n",
       "    <tr>\n",
       "      <th>COUNTRY</th>\n",
       "      <th></th>\n",
       "    </tr>\n",
       "  </thead>\n",
       "  <tbody>\n",
       "    <tr>\n",
       "      <th>bra</th>\n",
       "      <td>51354</td>\n",
       "    </tr>\n",
       "    <tr>\n",
       "      <th>can</th>\n",
       "      <td>7730</td>\n",
       "    </tr>\n",
       "    <tr>\n",
       "      <th>deu</th>\n",
       "      <td>15485</td>\n",
       "    </tr>\n",
       "    <tr>\n",
       "      <th>fra</th>\n",
       "      <td>10177</td>\n",
       "    </tr>\n",
       "    <tr>\n",
       "      <th>tur</th>\n",
       "      <td>15689</td>\n",
       "    </tr>\n",
       "    <tr>\n",
       "      <th>usa</th>\n",
       "      <td>70225</td>\n",
       "    </tr>\n",
       "  </tbody>\n",
       "</table>\n",
       "</div>"
      ],
      "text/plain": [
       "         PRICE\n",
       "COUNTRY       \n",
       "bra      51354\n",
       "can       7730\n",
       "deu      15485\n",
       "fra      10177\n",
       "tur      15689\n",
       "usa      70225"
      ]
     },
     "execution_count": 27,
     "metadata": {},
     "output_type": "execute_result"
    }
   ],
   "source": [
    "df.pivot_table(values=\"PRICE\",index=\"COUNTRY\",aggfunc=\"sum\")"
   ]
  },
  {
   "cell_type": "markdown",
   "id": "c1b7c4f3",
   "metadata": {
    "papermill": {
     "duration": 0.015242,
     "end_time": "2025-02-24T18:00:53.117102",
     "exception": false,
     "start_time": "2025-02-24T18:00:53.101860",
     "status": "completed"
    },
    "tags": []
   },
   "source": [
    "Soru 7: SOURCE türlerine göre göre satış sayıları nedir?"
   ]
  },
  {
   "cell_type": "code",
   "execution_count": 28,
   "id": "94ce8550",
   "metadata": {
    "execution": {
     "iopub.execute_input": "2025-02-24T18:00:53.158289Z",
     "iopub.status.busy": "2025-02-24T18:00:53.157876Z",
     "iopub.status.idle": "2025-02-24T18:00:53.169206Z",
     "shell.execute_reply": "2025-02-24T18:00:53.167469Z"
    },
    "papermill": {
     "duration": 0.032604,
     "end_time": "2025-02-24T18:00:53.171485",
     "exception": false,
     "start_time": "2025-02-24T18:00:53.138881",
     "status": "completed"
    },
    "tags": []
   },
   "outputs": [
    {
     "data": {
      "text/plain": [
       "SOURCE\n",
       "android    2974\n",
       "ios        2026\n",
       "Name: count, dtype: int64"
      ]
     },
     "execution_count": 28,
     "metadata": {},
     "output_type": "execute_result"
    }
   ],
   "source": [
    "df[\"SOURCE\"].value_counts()"
   ]
  },
  {
   "cell_type": "markdown",
   "id": "0d1323dc",
   "metadata": {
    "papermill": {
     "duration": 0.021139,
     "end_time": "2025-02-24T18:00:53.210841",
     "exception": false,
     "start_time": "2025-02-24T18:00:53.189702",
     "status": "completed"
    },
    "tags": []
   },
   "source": [
    "Soru 8: Ülkelere göre PRICE ortalamaları nedir?"
   ]
  },
  {
   "cell_type": "code",
   "execution_count": 29,
   "id": "52ead22f",
   "metadata": {
    "execution": {
     "iopub.execute_input": "2025-02-24T18:00:53.248807Z",
     "iopub.status.busy": "2025-02-24T18:00:53.248458Z",
     "iopub.status.idle": "2025-02-24T18:00:53.265162Z",
     "shell.execute_reply": "2025-02-24T18:00:53.263769Z"
    },
    "papermill": {
     "duration": 0.036597,
     "end_time": "2025-02-24T18:00:53.267407",
     "exception": false,
     "start_time": "2025-02-24T18:00:53.230810",
     "status": "completed"
    },
    "tags": []
   },
   "outputs": [
    {
     "data": {
      "text/html": [
       "<div>\n",
       "<style scoped>\n",
       "    .dataframe tbody tr th:only-of-type {\n",
       "        vertical-align: middle;\n",
       "    }\n",
       "\n",
       "    .dataframe tbody tr th {\n",
       "        vertical-align: top;\n",
       "    }\n",
       "\n",
       "    .dataframe thead th {\n",
       "        text-align: right;\n",
       "    }\n",
       "</style>\n",
       "<table border=\"1\" class=\"dataframe\">\n",
       "  <thead>\n",
       "    <tr style=\"text-align: right;\">\n",
       "      <th></th>\n",
       "      <th>PRICE</th>\n",
       "    </tr>\n",
       "    <tr>\n",
       "      <th>COUNTRY</th>\n",
       "      <th></th>\n",
       "    </tr>\n",
       "  </thead>\n",
       "  <tbody>\n",
       "    <tr>\n",
       "      <th>bra</th>\n",
       "      <td>34.327540</td>\n",
       "    </tr>\n",
       "    <tr>\n",
       "      <th>can</th>\n",
       "      <td>33.608696</td>\n",
       "    </tr>\n",
       "    <tr>\n",
       "      <th>deu</th>\n",
       "      <td>34.032967</td>\n",
       "    </tr>\n",
       "    <tr>\n",
       "      <th>fra</th>\n",
       "      <td>33.587459</td>\n",
       "    </tr>\n",
       "    <tr>\n",
       "      <th>tur</th>\n",
       "      <td>34.787140</td>\n",
       "    </tr>\n",
       "    <tr>\n",
       "      <th>usa</th>\n",
       "      <td>34.007264</td>\n",
       "    </tr>\n",
       "  </tbody>\n",
       "</table>\n",
       "</div>"
      ],
      "text/plain": [
       "             PRICE\n",
       "COUNTRY           \n",
       "bra      34.327540\n",
       "can      33.608696\n",
       "deu      34.032967\n",
       "fra      33.587459\n",
       "tur      34.787140\n",
       "usa      34.007264"
      ]
     },
     "execution_count": 29,
     "metadata": {},
     "output_type": "execute_result"
    }
   ],
   "source": [
    "df.groupby('COUNTRY').agg({\"PRICE\": \"mean\"})"
   ]
  },
  {
   "cell_type": "markdown",
   "id": "2d17ff0c",
   "metadata": {
    "papermill": {
     "duration": 0.019333,
     "end_time": "2025-02-24T18:00:53.304739",
     "exception": false,
     "start_time": "2025-02-24T18:00:53.285406",
     "status": "completed"
    },
    "tags": []
   },
   "source": [
    "Soru 9: SOURCE'lara göre PRICE ortalamaları nedir?"
   ]
  },
  {
   "cell_type": "code",
   "execution_count": 30,
   "id": "dafdbbb8",
   "metadata": {
    "execution": {
     "iopub.execute_input": "2025-02-24T18:00:53.345893Z",
     "iopub.status.busy": "2025-02-24T18:00:53.345507Z",
     "iopub.status.idle": "2025-02-24T18:00:53.361001Z",
     "shell.execute_reply": "2025-02-24T18:00:53.359058Z"
    },
    "papermill": {
     "duration": 0.039653,
     "end_time": "2025-02-24T18:00:53.363667",
     "exception": false,
     "start_time": "2025-02-24T18:00:53.324014",
     "status": "completed"
    },
    "tags": []
   },
   "outputs": [
    {
     "data": {
      "text/html": [
       "<div>\n",
       "<style scoped>\n",
       "    .dataframe tbody tr th:only-of-type {\n",
       "        vertical-align: middle;\n",
       "    }\n",
       "\n",
       "    .dataframe tbody tr th {\n",
       "        vertical-align: top;\n",
       "    }\n",
       "\n",
       "    .dataframe thead th {\n",
       "        text-align: right;\n",
       "    }\n",
       "</style>\n",
       "<table border=\"1\" class=\"dataframe\">\n",
       "  <thead>\n",
       "    <tr style=\"text-align: right;\">\n",
       "      <th></th>\n",
       "      <th>PRICE</th>\n",
       "    </tr>\n",
       "    <tr>\n",
       "      <th>SOURCE</th>\n",
       "      <th></th>\n",
       "    </tr>\n",
       "  </thead>\n",
       "  <tbody>\n",
       "    <tr>\n",
       "      <th>android</th>\n",
       "      <td>34.174849</td>\n",
       "    </tr>\n",
       "    <tr>\n",
       "      <th>ios</th>\n",
       "      <td>34.069102</td>\n",
       "    </tr>\n",
       "  </tbody>\n",
       "</table>\n",
       "</div>"
      ],
      "text/plain": [
       "             PRICE\n",
       "SOURCE            \n",
       "android  34.174849\n",
       "ios      34.069102"
      ]
     },
     "execution_count": 30,
     "metadata": {},
     "output_type": "execute_result"
    }
   ],
   "source": [
    "df.groupby('SOURCE').agg({\"PRICE\": \"mean\"})"
   ]
  },
  {
   "cell_type": "markdown",
   "id": "a425b5a1",
   "metadata": {
    "papermill": {
     "duration": 0.015655,
     "end_time": "2025-02-24T18:00:53.396985",
     "exception": false,
     "start_time": "2025-02-24T18:00:53.381330",
     "status": "completed"
    },
    "tags": []
   },
   "source": [
    "Soru 10: COUNTRY-SOURCE kırılımında PRICE ortalamaları nedir?"
   ]
  },
  {
   "cell_type": "code",
   "execution_count": 31,
   "id": "5b8670b3",
   "metadata": {
    "execution": {
     "iopub.execute_input": "2025-02-24T18:00:53.431092Z",
     "iopub.status.busy": "2025-02-24T18:00:53.430646Z",
     "iopub.status.idle": "2025-02-24T18:00:53.447786Z",
     "shell.execute_reply": "2025-02-24T18:00:53.446552Z"
    },
    "papermill": {
     "duration": 0.036127,
     "end_time": "2025-02-24T18:00:53.449836",
     "exception": false,
     "start_time": "2025-02-24T18:00:53.413709",
     "status": "completed"
    },
    "tags": []
   },
   "outputs": [
    {
     "data": {
      "text/html": [
       "<div>\n",
       "<style scoped>\n",
       "    .dataframe tbody tr th:only-of-type {\n",
       "        vertical-align: middle;\n",
       "    }\n",
       "\n",
       "    .dataframe tbody tr th {\n",
       "        vertical-align: top;\n",
       "    }\n",
       "\n",
       "    .dataframe thead th {\n",
       "        text-align: right;\n",
       "    }\n",
       "</style>\n",
       "<table border=\"1\" class=\"dataframe\">\n",
       "  <thead>\n",
       "    <tr style=\"text-align: right;\">\n",
       "      <th></th>\n",
       "      <th></th>\n",
       "      <th>PRICE</th>\n",
       "    </tr>\n",
       "    <tr>\n",
       "      <th>COUNTRY</th>\n",
       "      <th>SOURCE</th>\n",
       "      <th></th>\n",
       "    </tr>\n",
       "  </thead>\n",
       "  <tbody>\n",
       "    <tr>\n",
       "      <th rowspan=\"2\" valign=\"top\">bra</th>\n",
       "      <th>android</th>\n",
       "      <td>34.387029</td>\n",
       "    </tr>\n",
       "    <tr>\n",
       "      <th>ios</th>\n",
       "      <td>34.222222</td>\n",
       "    </tr>\n",
       "    <tr>\n",
       "      <th rowspan=\"2\" valign=\"top\">can</th>\n",
       "      <th>android</th>\n",
       "      <td>33.330709</td>\n",
       "    </tr>\n",
       "    <tr>\n",
       "      <th>ios</th>\n",
       "      <td>33.951456</td>\n",
       "    </tr>\n",
       "    <tr>\n",
       "      <th rowspan=\"2\" valign=\"top\">deu</th>\n",
       "      <th>android</th>\n",
       "      <td>33.869888</td>\n",
       "    </tr>\n",
       "    <tr>\n",
       "      <th>ios</th>\n",
       "      <td>34.268817</td>\n",
       "    </tr>\n",
       "    <tr>\n",
       "      <th rowspan=\"2\" valign=\"top\">fra</th>\n",
       "      <th>android</th>\n",
       "      <td>34.312500</td>\n",
       "    </tr>\n",
       "    <tr>\n",
       "      <th>ios</th>\n",
       "      <td>32.776224</td>\n",
       "    </tr>\n",
       "    <tr>\n",
       "      <th rowspan=\"2\" valign=\"top\">tur</th>\n",
       "      <th>android</th>\n",
       "      <td>36.229437</td>\n",
       "    </tr>\n",
       "    <tr>\n",
       "      <th>ios</th>\n",
       "      <td>33.272727</td>\n",
       "    </tr>\n",
       "    <tr>\n",
       "      <th rowspan=\"2\" valign=\"top\">usa</th>\n",
       "      <th>android</th>\n",
       "      <td>33.760357</td>\n",
       "    </tr>\n",
       "    <tr>\n",
       "      <th>ios</th>\n",
       "      <td>34.371703</td>\n",
       "    </tr>\n",
       "  </tbody>\n",
       "</table>\n",
       "</div>"
      ],
      "text/plain": [
       "                     PRICE\n",
       "COUNTRY SOURCE            \n",
       "bra     android  34.387029\n",
       "        ios      34.222222\n",
       "can     android  33.330709\n",
       "        ios      33.951456\n",
       "deu     android  33.869888\n",
       "        ios      34.268817\n",
       "fra     android  34.312500\n",
       "        ios      32.776224\n",
       "tur     android  36.229437\n",
       "        ios      33.272727\n",
       "usa     android  33.760357\n",
       "        ios      34.371703"
      ]
     },
     "execution_count": 31,
     "metadata": {},
     "output_type": "execute_result"
    }
   ],
   "source": [
    "df.groupby([\"COUNTRY\", 'SOURCE']).agg({\"PRICE\": \"mean\"})"
   ]
  },
  {
   "cell_type": "markdown",
   "id": "4af60fe7",
   "metadata": {
    "papermill": {
     "duration": 0.016657,
     "end_time": "2025-02-24T18:00:53.483046",
     "exception": false,
     "start_time": "2025-02-24T18:00:53.466389",
     "status": "completed"
    },
    "tags": []
   },
   "source": [
    "GÖREV 2: COUNTRY, SOURCE, SEX, AGE kırılımında ortalama kazançlar nedir?"
   ]
  },
  {
   "cell_type": "code",
   "execution_count": 32,
   "id": "a4d45f7d",
   "metadata": {
    "execution": {
     "iopub.execute_input": "2025-02-24T18:00:53.520185Z",
     "iopub.status.busy": "2025-02-24T18:00:53.519625Z",
     "iopub.status.idle": "2025-02-24T18:00:53.540913Z",
     "shell.execute_reply": "2025-02-24T18:00:53.538382Z"
    },
    "papermill": {
     "duration": 0.044342,
     "end_time": "2025-02-24T18:00:53.545023",
     "exception": false,
     "start_time": "2025-02-24T18:00:53.500681",
     "status": "completed"
    },
    "tags": []
   },
   "outputs": [
    {
     "data": {
      "text/html": [
       "<div>\n",
       "<style scoped>\n",
       "    .dataframe tbody tr th:only-of-type {\n",
       "        vertical-align: middle;\n",
       "    }\n",
       "\n",
       "    .dataframe tbody tr th {\n",
       "        vertical-align: top;\n",
       "    }\n",
       "\n",
       "    .dataframe thead th {\n",
       "        text-align: right;\n",
       "    }\n",
       "</style>\n",
       "<table border=\"1\" class=\"dataframe\">\n",
       "  <thead>\n",
       "    <tr style=\"text-align: right;\">\n",
       "      <th></th>\n",
       "      <th></th>\n",
       "      <th></th>\n",
       "      <th></th>\n",
       "      <th>PRICE</th>\n",
       "    </tr>\n",
       "    <tr>\n",
       "      <th>COUNTRY</th>\n",
       "      <th>SOURCE</th>\n",
       "      <th>SEX</th>\n",
       "      <th>AGE</th>\n",
       "      <th></th>\n",
       "    </tr>\n",
       "  </thead>\n",
       "  <tbody>\n",
       "    <tr>\n",
       "      <th rowspan=\"5\" valign=\"top\">bra</th>\n",
       "      <th rowspan=\"5\" valign=\"top\">android</th>\n",
       "      <th rowspan=\"5\" valign=\"top\">female</th>\n",
       "      <th>15</th>\n",
       "      <td>38.714286</td>\n",
       "    </tr>\n",
       "    <tr>\n",
       "      <th>16</th>\n",
       "      <td>35.944444</td>\n",
       "    </tr>\n",
       "    <tr>\n",
       "      <th>17</th>\n",
       "      <td>35.666667</td>\n",
       "    </tr>\n",
       "    <tr>\n",
       "      <th>18</th>\n",
       "      <td>32.255814</td>\n",
       "    </tr>\n",
       "    <tr>\n",
       "      <th>19</th>\n",
       "      <td>35.206897</td>\n",
       "    </tr>\n",
       "  </tbody>\n",
       "</table>\n",
       "</div>"
      ],
      "text/plain": [
       "                                PRICE\n",
       "COUNTRY SOURCE  SEX    AGE           \n",
       "bra     android female 15   38.714286\n",
       "                       16   35.944444\n",
       "                       17   35.666667\n",
       "                       18   32.255814\n",
       "                       19   35.206897"
      ]
     },
     "execution_count": 32,
     "metadata": {},
     "output_type": "execute_result"
    }
   ],
   "source": [
    "df.groupby([\"COUNTRY\", 'SOURCE', \"SEX\", \"AGE\"]).agg({\"PRICE\": \"mean\"}).head()"
   ]
  },
  {
   "cell_type": "markdown",
   "id": "80fd4071",
   "metadata": {
    "papermill": {
     "duration": 0.016374,
     "end_time": "2025-02-24T18:00:53.582845",
     "exception": false,
     "start_time": "2025-02-24T18:00:53.566471",
     "status": "completed"
    },
    "tags": []
   },
   "source": [
    "GÖREV 3: Çıktıyı PRICE'a göre sıralayınız.¶\n",
    "Önceki sorudaki çıktıyı daha iyi görebilmek için sort_values metodunu azalan olacak şekilde PRICE'a uygulayınız.\n",
    "Çıktıyı agg_df olarak kaydediniz."
   ]
  },
  {
   "cell_type": "code",
   "execution_count": 33,
   "id": "ae3777fe",
   "metadata": {
    "execution": {
     "iopub.execute_input": "2025-02-24T18:00:53.617547Z",
     "iopub.status.busy": "2025-02-24T18:00:53.617168Z",
     "iopub.status.idle": "2025-02-24T18:00:53.636302Z",
     "shell.execute_reply": "2025-02-24T18:00:53.634097Z"
    },
    "papermill": {
     "duration": 0.039771,
     "end_time": "2025-02-24T18:00:53.638649",
     "exception": false,
     "start_time": "2025-02-24T18:00:53.598878",
     "status": "completed"
    },
    "tags": []
   },
   "outputs": [
    {
     "data": {
      "text/html": [
       "<div>\n",
       "<style scoped>\n",
       "    .dataframe tbody tr th:only-of-type {\n",
       "        vertical-align: middle;\n",
       "    }\n",
       "\n",
       "    .dataframe tbody tr th {\n",
       "        vertical-align: top;\n",
       "    }\n",
       "\n",
       "    .dataframe thead th {\n",
       "        text-align: right;\n",
       "    }\n",
       "</style>\n",
       "<table border=\"1\" class=\"dataframe\">\n",
       "  <thead>\n",
       "    <tr style=\"text-align: right;\">\n",
       "      <th></th>\n",
       "      <th></th>\n",
       "      <th></th>\n",
       "      <th></th>\n",
       "      <th>PRICE</th>\n",
       "    </tr>\n",
       "    <tr>\n",
       "      <th>COUNTRY</th>\n",
       "      <th>SOURCE</th>\n",
       "      <th>SEX</th>\n",
       "      <th>AGE</th>\n",
       "      <th></th>\n",
       "    </tr>\n",
       "  </thead>\n",
       "  <tbody>\n",
       "    <tr>\n",
       "      <th>bra</th>\n",
       "      <th>android</th>\n",
       "      <th>male</th>\n",
       "      <th>46</th>\n",
       "      <td>59.0</td>\n",
       "    </tr>\n",
       "    <tr>\n",
       "      <th>usa</th>\n",
       "      <th>android</th>\n",
       "      <th>male</th>\n",
       "      <th>36</th>\n",
       "      <td>59.0</td>\n",
       "    </tr>\n",
       "    <tr>\n",
       "      <th>fra</th>\n",
       "      <th>android</th>\n",
       "      <th>female</th>\n",
       "      <th>24</th>\n",
       "      <td>59.0</td>\n",
       "    </tr>\n",
       "    <tr>\n",
       "      <th>usa</th>\n",
       "      <th>ios</th>\n",
       "      <th>male</th>\n",
       "      <th>32</th>\n",
       "      <td>54.0</td>\n",
       "    </tr>\n",
       "    <tr>\n",
       "      <th>deu</th>\n",
       "      <th>android</th>\n",
       "      <th>female</th>\n",
       "      <th>36</th>\n",
       "      <td>49.0</td>\n",
       "    </tr>\n",
       "  </tbody>\n",
       "</table>\n",
       "</div>"
      ],
      "text/plain": [
       "                            PRICE\n",
       "COUNTRY SOURCE  SEX    AGE       \n",
       "bra     android male   46    59.0\n",
       "usa     android male   36    59.0\n",
       "fra     android female 24    59.0\n",
       "usa     ios     male   32    54.0\n",
       "deu     android female 36    49.0"
      ]
     },
     "execution_count": 33,
     "metadata": {},
     "output_type": "execute_result"
    }
   ],
   "source": [
    "agg_df = df.groupby(by=[\"COUNTRY\", 'SOURCE', \"SEX\", \"AGE\"]).agg({\"PRICE\": \"mean\"}).sort_values(\"PRICE\", ascending=False)\n",
    "agg_df.head()"
   ]
  },
  {
   "cell_type": "markdown",
   "id": "e97acf57",
   "metadata": {
    "papermill": {
     "duration": 0.016147,
     "end_time": "2025-02-24T18:00:53.673255",
     "exception": false,
     "start_time": "2025-02-24T18:00:53.657108",
     "status": "completed"
    },
    "tags": []
   },
   "source": [
    "GÖREV 4: Indekste yer alan isimleri değişken ismine çeviriniz.¶\n",
    "Üçüncü sorunun çıktısında yer alan PRICE dışındaki tüm değişkenler index isimleridir.\n",
    "Bu isimleri değişken isimlerine çeviriniz.\n",
    "İpucu: reset_index()\n",
    "agg_df.reset_index(inplace=True)"
   ]
  },
  {
   "cell_type": "code",
   "execution_count": 34,
   "id": "106c8ddf",
   "metadata": {
    "execution": {
     "iopub.execute_input": "2025-02-24T18:00:53.711345Z",
     "iopub.status.busy": "2025-02-24T18:00:53.710898Z",
     "iopub.status.idle": "2025-02-24T18:00:53.737966Z",
     "shell.execute_reply": "2025-02-24T18:00:53.735806Z"
    },
    "papermill": {
     "duration": 0.048384,
     "end_time": "2025-02-24T18:00:53.740536",
     "exception": false,
     "start_time": "2025-02-24T18:00:53.692152",
     "status": "completed"
    },
    "tags": []
   },
   "outputs": [
    {
     "data": {
      "text/html": [
       "<div>\n",
       "<style scoped>\n",
       "    .dataframe tbody tr th:only-of-type {\n",
       "        vertical-align: middle;\n",
       "    }\n",
       "\n",
       "    .dataframe tbody tr th {\n",
       "        vertical-align: top;\n",
       "    }\n",
       "\n",
       "    .dataframe thead th {\n",
       "        text-align: right;\n",
       "    }\n",
       "</style>\n",
       "<table border=\"1\" class=\"dataframe\">\n",
       "  <thead>\n",
       "    <tr style=\"text-align: right;\">\n",
       "      <th></th>\n",
       "      <th>COUNTRY</th>\n",
       "      <th>SOURCE</th>\n",
       "      <th>SEX</th>\n",
       "      <th>AGE</th>\n",
       "      <th>PRICE</th>\n",
       "    </tr>\n",
       "  </thead>\n",
       "  <tbody>\n",
       "    <tr>\n",
       "      <th>0</th>\n",
       "      <td>bra</td>\n",
       "      <td>android</td>\n",
       "      <td>male</td>\n",
       "      <td>46</td>\n",
       "      <td>59.0</td>\n",
       "    </tr>\n",
       "    <tr>\n",
       "      <th>1</th>\n",
       "      <td>usa</td>\n",
       "      <td>android</td>\n",
       "      <td>male</td>\n",
       "      <td>36</td>\n",
       "      <td>59.0</td>\n",
       "    </tr>\n",
       "    <tr>\n",
       "      <th>2</th>\n",
       "      <td>fra</td>\n",
       "      <td>android</td>\n",
       "      <td>female</td>\n",
       "      <td>24</td>\n",
       "      <td>59.0</td>\n",
       "    </tr>\n",
       "    <tr>\n",
       "      <th>3</th>\n",
       "      <td>usa</td>\n",
       "      <td>ios</td>\n",
       "      <td>male</td>\n",
       "      <td>32</td>\n",
       "      <td>54.0</td>\n",
       "    </tr>\n",
       "    <tr>\n",
       "      <th>4</th>\n",
       "      <td>deu</td>\n",
       "      <td>android</td>\n",
       "      <td>female</td>\n",
       "      <td>36</td>\n",
       "      <td>49.0</td>\n",
       "    </tr>\n",
       "  </tbody>\n",
       "</table>\n",
       "</div>"
      ],
      "text/plain": [
       "  COUNTRY   SOURCE     SEX  AGE  PRICE\n",
       "0     bra  android    male   46   59.0\n",
       "1     usa  android    male   36   59.0\n",
       "2     fra  android  female   24   59.0\n",
       "3     usa      ios    male   32   54.0\n",
       "4     deu  android  female   36   49.0"
      ]
     },
     "execution_count": 34,
     "metadata": {},
     "output_type": "execute_result"
    }
   ],
   "source": [
    "agg_df = agg_df.reset_index()\n",
    "agg_df.head()"
   ]
  },
  {
   "cell_type": "markdown",
   "id": "6ed79655",
   "metadata": {
    "papermill": {
     "duration": 0.018267,
     "end_time": "2025-02-24T18:00:53.781141",
     "exception": false,
     "start_time": "2025-02-24T18:00:53.762874",
     "status": "completed"
    },
    "tags": []
   },
   "source": [
    "GÖREV 5: AGE değişkenini kategorik değişkene çeviriniz ve agg_df'e ekleyiniz.¶\n",
    "Age sayısal değişkenini kategorik değişkene çeviriniz.\n",
    "Aralıkları ikna edici olacağını düşündüğünüz şekilde oluşturunuz.\n",
    "Örneğin: '0_18', '19_23', '24_30', '31_40', '41_70'"
   ]
  },
  {
   "cell_type": "code",
   "execution_count": 35,
   "id": "5a4202ec",
   "metadata": {
    "execution": {
     "iopub.execute_input": "2025-02-24T18:00:53.820459Z",
     "iopub.status.busy": "2025-02-24T18:00:53.820101Z",
     "iopub.status.idle": "2025-02-24T18:00:53.838352Z",
     "shell.execute_reply": "2025-02-24T18:00:53.836424Z"
    },
    "papermill": {
     "duration": 0.039821,
     "end_time": "2025-02-24T18:00:53.840854",
     "exception": false,
     "start_time": "2025-02-24T18:00:53.801033",
     "status": "completed"
    },
    "tags": []
   },
   "outputs": [
    {
     "data": {
      "text/html": [
       "<div>\n",
       "<style scoped>\n",
       "    .dataframe tbody tr th:only-of-type {\n",
       "        vertical-align: middle;\n",
       "    }\n",
       "\n",
       "    .dataframe tbody tr th {\n",
       "        vertical-align: top;\n",
       "    }\n",
       "\n",
       "    .dataframe thead th {\n",
       "        text-align: right;\n",
       "    }\n",
       "</style>\n",
       "<table border=\"1\" class=\"dataframe\">\n",
       "  <thead>\n",
       "    <tr style=\"text-align: right;\">\n",
       "      <th></th>\n",
       "      <th>COUNTRY</th>\n",
       "      <th>SOURCE</th>\n",
       "      <th>SEX</th>\n",
       "      <th>AGE</th>\n",
       "      <th>PRICE</th>\n",
       "      <th>AGE_CAT</th>\n",
       "    </tr>\n",
       "  </thead>\n",
       "  <tbody>\n",
       "    <tr>\n",
       "      <th>0</th>\n",
       "      <td>bra</td>\n",
       "      <td>android</td>\n",
       "      <td>male</td>\n",
       "      <td>46</td>\n",
       "      <td>59.0</td>\n",
       "      <td>41_66</td>\n",
       "    </tr>\n",
       "    <tr>\n",
       "      <th>1</th>\n",
       "      <td>usa</td>\n",
       "      <td>android</td>\n",
       "      <td>male</td>\n",
       "      <td>36</td>\n",
       "      <td>59.0</td>\n",
       "      <td>31_40</td>\n",
       "    </tr>\n",
       "    <tr>\n",
       "      <th>2</th>\n",
       "      <td>fra</td>\n",
       "      <td>android</td>\n",
       "      <td>female</td>\n",
       "      <td>24</td>\n",
       "      <td>59.0</td>\n",
       "      <td>24_30</td>\n",
       "    </tr>\n",
       "    <tr>\n",
       "      <th>3</th>\n",
       "      <td>usa</td>\n",
       "      <td>ios</td>\n",
       "      <td>male</td>\n",
       "      <td>32</td>\n",
       "      <td>54.0</td>\n",
       "      <td>31_40</td>\n",
       "    </tr>\n",
       "    <tr>\n",
       "      <th>4</th>\n",
       "      <td>deu</td>\n",
       "      <td>android</td>\n",
       "      <td>female</td>\n",
       "      <td>36</td>\n",
       "      <td>49.0</td>\n",
       "      <td>31_40</td>\n",
       "    </tr>\n",
       "  </tbody>\n",
       "</table>\n",
       "</div>"
      ],
      "text/plain": [
       "  COUNTRY   SOURCE     SEX  AGE  PRICE AGE_CAT\n",
       "0     bra  android    male   46   59.0   41_66\n",
       "1     usa  android    male   36   59.0   31_40\n",
       "2     fra  android  female   24   59.0   24_30\n",
       "3     usa      ios    male   32   54.0   31_40\n",
       "4     deu  android  female   36   49.0   31_40"
      ]
     },
     "execution_count": 35,
     "metadata": {},
     "output_type": "execute_result"
    }
   ],
   "source": [
    "# AGE değişkeninin nerelerden bölüneceğini belirtelim:\n",
    "\n",
    "bins = [0, 18, 23, 30, 40, agg_df[\"AGE\"].max()]\n",
    "\n",
    "# Bölünen noktalara karşılık isimlendirmelerin ne olacağını ifade edelim:\n",
    "\n",
    "mylabels = ['0_18', '19_23', '24_30', '31_40', '41_' + str(agg_df[\"AGE\"].max())]\n",
    "\n",
    "# age'i bölelim:\n",
    "\n",
    "agg_df[\"AGE_CAT\"] = pd.cut(agg_df[\"AGE\"], bins, labels=mylabels)\n",
    "\n",
    "agg_df.head()"
   ]
  },
  {
   "cell_type": "markdown",
   "id": "1b8f4f86",
   "metadata": {
    "papermill": {
     "duration": 0.020726,
     "end_time": "2025-02-24T18:00:53.880756",
     "exception": false,
     "start_time": "2025-02-24T18:00:53.860030",
     "status": "completed"
    },
    "tags": []
   },
   "source": [
    "GÖREV 6: Yeni level based müşterileri tanımlayınız ve veri setine değişken olarak ekleyiniz.¶\n",
    "customers_level_based adında bir değişken tanımlayınız ve veri setine bu değişkeni ekleyiniz.\n",
    "Dikkat! list comp ile customers_level_based değerleri oluşturulduktan sonra bu değerlerin tekilleştirilmesi gerekmektedir.\n",
    "Örneğin birden fazla şu ifadeden olabilir: USA_ANDROID_MALE_0_18. Bunları groupby'a alıp price ortalamalarını almak gerekmektedir."
   ]
  },
  {
   "cell_type": "code",
   "execution_count": 36,
   "id": "c5f1176a",
   "metadata": {
    "execution": {
     "iopub.execute_input": "2025-02-24T18:00:53.920745Z",
     "iopub.status.busy": "2025-02-24T18:00:53.920355Z",
     "iopub.status.idle": "2025-02-24T18:00:53.929123Z",
     "shell.execute_reply": "2025-02-24T18:00:53.927130Z"
    },
    "papermill": {
     "duration": 0.030547,
     "end_time": "2025-02-24T18:00:53.931637",
     "exception": false,
     "start_time": "2025-02-24T18:00:53.901090",
     "status": "completed"
    },
    "tags": []
   },
   "outputs": [
    {
     "data": {
      "text/plain": [
       "Index(['COUNTRY', 'SOURCE', 'SEX', 'AGE', 'PRICE', 'AGE_CAT'], dtype='object')"
      ]
     },
     "execution_count": 36,
     "metadata": {},
     "output_type": "execute_result"
    }
   ],
   "source": [
    "agg_df.columns # değişken isimleri"
   ]
  },
  {
   "cell_type": "code",
   "execution_count": 37,
   "id": "b3208507",
   "metadata": {
    "execution": {
     "iopub.execute_input": "2025-02-24T18:00:53.970042Z",
     "iopub.status.busy": "2025-02-24T18:00:53.969612Z",
     "iopub.status.idle": "2025-02-24T18:00:53.982325Z",
     "shell.execute_reply": "2025-02-24T18:00:53.981050Z"
    },
    "papermill": {
     "duration": 0.033087,
     "end_time": "2025-02-24T18:00:53.984126",
     "exception": false,
     "start_time": "2025-02-24T18:00:53.951039",
     "status": "completed"
    },
    "tags": []
   },
   "outputs": [
    {
     "name": "stdout",
     "output_type": "stream",
     "text": [
      "['bra' 'android' 'male' 46 59.0 '41_66']\n",
      "['usa' 'android' 'male' 36 59.0 '31_40']\n",
      "['fra' 'android' 'female' 24 59.0 '24_30']\n",
      "['usa' 'ios' 'male' 32 54.0 '31_40']\n",
      "['deu' 'android' 'female' 36 49.0 '31_40']\n",
      "['deu' 'android' 'female' 51 49.0 '41_66']\n",
      "['deu' 'ios' 'male' 20 49.0 '19_23']\n",
      "['usa' 'android' 'female' 47 49.0 '41_66']\n",
      "['fra' 'ios' 'male' 20 49.0 '19_23']\n",
      "['usa' 'ios' 'male' 59 46.5 '41_66']\n",
      "['deu' 'android' 'male' 15 46.5 '0_18']\n",
      "['bra' 'android' 'female' 30 45.666666666666664 '24_30']\n",
      "['usa' 'android' 'female' 61 45.666666666666664 '41_66']\n",
      "['tur' 'ios' 'male' 24 45.0 '24_30']\n",
      "['deu' 'android' 'male' 34 45.0 '31_40']\n",
      "['tur' 'ios' 'female' 18 44.0 '0_18']\n",
      "['bra' 'android' 'female' 43 44.0 '41_66']\n",
      "['bra' 'ios' 'female' 22 44.0 '19_23']\n",
      "['tur' 'android' 'female' 32 43.0 '31_40']\n",
      "['bra' 'android' 'female' 39 43.0 '31_40']\n"
     ]
    }
   ],
   "source": [
    "# gözlem değerlerine erişmek için:\n",
    "\n",
    "for row in agg_df.head(20).values:\n",
    "    print(row)\n",
    "\n",
    "# agg_df.values, dataframe'in tüm verilerini Numpy array'i olarak döndürüyor"
   ]
  },
  {
   "cell_type": "code",
   "execution_count": 38,
   "id": "9c673da1",
   "metadata": {
    "execution": {
     "iopub.execute_input": "2025-02-24T18:00:54.023861Z",
     "iopub.status.busy": "2025-02-24T18:00:54.023512Z",
     "iopub.status.idle": "2025-02-24T18:00:54.041628Z",
     "shell.execute_reply": "2025-02-24T18:00:54.040078Z"
    },
    "papermill": {
     "duration": 0.040726,
     "end_time": "2025-02-24T18:00:54.044102",
     "exception": false,
     "start_time": "2025-02-24T18:00:54.003376",
     "status": "completed"
    },
    "tags": []
   },
   "outputs": [
    {
     "data": {
      "text/html": [
       "<div>\n",
       "<style scoped>\n",
       "    .dataframe tbody tr th:only-of-type {\n",
       "        vertical-align: middle;\n",
       "    }\n",
       "\n",
       "    .dataframe tbody tr th {\n",
       "        vertical-align: top;\n",
       "    }\n",
       "\n",
       "    .dataframe thead th {\n",
       "        text-align: right;\n",
       "    }\n",
       "</style>\n",
       "<table border=\"1\" class=\"dataframe\">\n",
       "  <thead>\n",
       "    <tr style=\"text-align: right;\">\n",
       "      <th></th>\n",
       "      <th>COUNTRY</th>\n",
       "      <th>SOURCE</th>\n",
       "      <th>SEX</th>\n",
       "      <th>AGE</th>\n",
       "      <th>PRICE</th>\n",
       "      <th>AGE_CAT</th>\n",
       "      <th>customers_level_based</th>\n",
       "    </tr>\n",
       "  </thead>\n",
       "  <tbody>\n",
       "    <tr>\n",
       "      <th>0</th>\n",
       "      <td>bra</td>\n",
       "      <td>android</td>\n",
       "      <td>male</td>\n",
       "      <td>46</td>\n",
       "      <td>59.0</td>\n",
       "      <td>41_66</td>\n",
       "      <td>BRA_ANDROID_MALE_41_66</td>\n",
       "    </tr>\n",
       "    <tr>\n",
       "      <th>1</th>\n",
       "      <td>usa</td>\n",
       "      <td>android</td>\n",
       "      <td>male</td>\n",
       "      <td>36</td>\n",
       "      <td>59.0</td>\n",
       "      <td>31_40</td>\n",
       "      <td>USA_ANDROID_MALE_31_40</td>\n",
       "    </tr>\n",
       "    <tr>\n",
       "      <th>2</th>\n",
       "      <td>fra</td>\n",
       "      <td>android</td>\n",
       "      <td>female</td>\n",
       "      <td>24</td>\n",
       "      <td>59.0</td>\n",
       "      <td>24_30</td>\n",
       "      <td>FRA_ANDROID_FEMALE_24_30</td>\n",
       "    </tr>\n",
       "    <tr>\n",
       "      <th>3</th>\n",
       "      <td>usa</td>\n",
       "      <td>ios</td>\n",
       "      <td>male</td>\n",
       "      <td>32</td>\n",
       "      <td>54.0</td>\n",
       "      <td>31_40</td>\n",
       "      <td>USA_IOS_MALE_31_40</td>\n",
       "    </tr>\n",
       "    <tr>\n",
       "      <th>4</th>\n",
       "      <td>deu</td>\n",
       "      <td>android</td>\n",
       "      <td>female</td>\n",
       "      <td>36</td>\n",
       "      <td>49.0</td>\n",
       "      <td>31_40</td>\n",
       "      <td>DEU_ANDROID_FEMALE_31_40</td>\n",
       "    </tr>\n",
       "  </tbody>\n",
       "</table>\n",
       "</div>"
      ],
      "text/plain": [
       "  COUNTRY   SOURCE     SEX  AGE  PRICE AGE_CAT     customers_level_based\n",
       "0     bra  android    male   46   59.0   41_66    BRA_ANDROID_MALE_41_66\n",
       "1     usa  android    male   36   59.0   31_40    USA_ANDROID_MALE_31_40\n",
       "2     fra  android  female   24   59.0   24_30  FRA_ANDROID_FEMALE_24_30\n",
       "3     usa      ios    male   32   54.0   31_40        USA_IOS_MALE_31_40\n",
       "4     deu  android  female   36   49.0   31_40  DEU_ANDROID_FEMALE_31_40"
      ]
     },
     "execution_count": 38,
     "metadata": {},
     "output_type": "execute_result"
    }
   ],
   "source": [
    "# COUNTRY, SOURCE, SEX ve AGE_CAT değişkenlerinin DEĞERLERİNİ yan yana koymak ve alt tireyle birleştirmek istiyoruz:\n",
    "\n",
    "[row[0].upper() + \"_\" + row[1].upper() + \"_\" + row[2].upper() + \"_\" + row[5].upper() for row in agg_df.values]\n",
    "\n",
    "# Veri setine ekleyelim:\n",
    "\n",
    "agg_df[\"customers_level_based\"] = [row[0].upper() + \"_\" + row[1].upper() + \"_\" + row[2].upper() + \"_\" + row[5].upper() for row in agg_df.values]\n",
    "agg_df.head()"
   ]
  },
  {
   "cell_type": "code",
   "execution_count": 39,
   "id": "1c4ccff8",
   "metadata": {
    "execution": {
     "iopub.execute_input": "2025-02-24T18:00:54.083641Z",
     "iopub.status.busy": "2025-02-24T18:00:54.083293Z",
     "iopub.status.idle": "2025-02-24T18:00:54.095915Z",
     "shell.execute_reply": "2025-02-24T18:00:54.094621Z"
    },
    "papermill": {
     "duration": 0.036448,
     "end_time": "2025-02-24T18:00:54.098214",
     "exception": false,
     "start_time": "2025-02-24T18:00:54.061766",
     "status": "completed"
    },
    "tags": []
   },
   "outputs": [
    {
     "data": {
      "text/html": [
       "<div>\n",
       "<style scoped>\n",
       "    .dataframe tbody tr th:only-of-type {\n",
       "        vertical-align: middle;\n",
       "    }\n",
       "\n",
       "    .dataframe tbody tr th {\n",
       "        vertical-align: top;\n",
       "    }\n",
       "\n",
       "    .dataframe thead th {\n",
       "        text-align: right;\n",
       "    }\n",
       "</style>\n",
       "<table border=\"1\" class=\"dataframe\">\n",
       "  <thead>\n",
       "    <tr style=\"text-align: right;\">\n",
       "      <th></th>\n",
       "      <th>customers_level_based</th>\n",
       "      <th>PRICE</th>\n",
       "    </tr>\n",
       "  </thead>\n",
       "  <tbody>\n",
       "    <tr>\n",
       "      <th>0</th>\n",
       "      <td>BRA_ANDROID_MALE_41_66</td>\n",
       "      <td>59.0</td>\n",
       "    </tr>\n",
       "    <tr>\n",
       "      <th>1</th>\n",
       "      <td>USA_ANDROID_MALE_31_40</td>\n",
       "      <td>59.0</td>\n",
       "    </tr>\n",
       "    <tr>\n",
       "      <th>2</th>\n",
       "      <td>FRA_ANDROID_FEMALE_24_30</td>\n",
       "      <td>59.0</td>\n",
       "    </tr>\n",
       "    <tr>\n",
       "      <th>3</th>\n",
       "      <td>USA_IOS_MALE_31_40</td>\n",
       "      <td>54.0</td>\n",
       "    </tr>\n",
       "    <tr>\n",
       "      <th>4</th>\n",
       "      <td>DEU_ANDROID_FEMALE_31_40</td>\n",
       "      <td>49.0</td>\n",
       "    </tr>\n",
       "  </tbody>\n",
       "</table>\n",
       "</div>"
      ],
      "text/plain": [
       "      customers_level_based  PRICE\n",
       "0    BRA_ANDROID_MALE_41_66   59.0\n",
       "1    USA_ANDROID_MALE_31_40   59.0\n",
       "2  FRA_ANDROID_FEMALE_24_30   59.0\n",
       "3        USA_IOS_MALE_31_40   54.0\n",
       "4  DEU_ANDROID_FEMALE_31_40   49.0"
      ]
     },
     "execution_count": 39,
     "metadata": {},
     "output_type": "execute_result"
    }
   ],
   "source": [
    "# Gereksiz değişkenleri çıkaralım:\n",
    "\n",
    "agg_df = agg_df[[\"customers_level_based\", \"PRICE\"]]\n",
    "agg_df.head()"
   ]
  },
  {
   "cell_type": "code",
   "execution_count": 40,
   "id": "62320b6d",
   "metadata": {
    "execution": {
     "iopub.execute_input": "2025-02-24T18:00:54.137835Z",
     "iopub.status.busy": "2025-02-24T18:00:54.137465Z",
     "iopub.status.idle": "2025-02-24T18:00:54.146265Z",
     "shell.execute_reply": "2025-02-24T18:00:54.145212Z"
    },
    "papermill": {
     "duration": 0.030849,
     "end_time": "2025-02-24T18:00:54.148464",
     "exception": false,
     "start_time": "2025-02-24T18:00:54.117615",
     "status": "completed"
    },
    "tags": []
   },
   "outputs": [
    {
     "data": {
      "text/plain": [
       "customers_level_based\n",
       "BRA_ANDROID_MALE_24_30      7\n",
       "USA_ANDROID_MALE_41_66      7\n",
       "USA_IOS_FEMALE_24_30        7\n",
       "BRA_ANDROID_FEMALE_24_30    7\n",
       "USA_ANDROID_MALE_24_30      7\n",
       "                           ..\n",
       "TUR_ANDROID_MALE_41_66      1\n",
       "CAN_ANDROID_MALE_19_23      1\n",
       "TUR_IOS_MALE_31_40          1\n",
       "TUR_IOS_MALE_24_30          1\n",
       "CAN_ANDROID_FEMALE_24_30    1\n",
       "Name: count, Length: 109, dtype: int64"
      ]
     },
     "execution_count": 40,
     "metadata": {},
     "output_type": "execute_result"
    }
   ],
   "source": [
    "# Birçok aynı segment olabilir, örneğin USA_ANDROID_MALE_0_18 segmentinden birçok sayıda olabilir\n",
    "# Kontrol edelim:\n",
    "\n",
    "agg_df[\"customers_level_based\"].value_counts()"
   ]
  },
  {
   "cell_type": "code",
   "execution_count": 41,
   "id": "a3d9b9eb",
   "metadata": {
    "execution": {
     "iopub.execute_input": "2025-02-24T18:00:54.189775Z",
     "iopub.status.busy": "2025-02-24T18:00:54.189398Z",
     "iopub.status.idle": "2025-02-24T18:00:54.198253Z",
     "shell.execute_reply": "2025-02-24T18:00:54.197092Z"
    },
    "papermill": {
     "duration": 0.033982,
     "end_time": "2025-02-24T18:00:54.200659",
     "exception": false,
     "start_time": "2025-02-24T18:00:54.166677",
     "status": "completed"
    },
    "tags": []
   },
   "outputs": [],
   "source": [
    "# Bu sebeple segmentlere göre groupby yaptıktan sonra PRICE ortalamalarını almalı ve segmentleri tekilleştirmeliyiz:\n",
    "\n",
    "agg_df = agg_df.groupby(\"customers_level_based\").agg({\"PRICE\": \"mean\"})"
   ]
  },
  {
   "cell_type": "code",
   "execution_count": 42,
   "id": "e20c77eb",
   "metadata": {
    "execution": {
     "iopub.execute_input": "2025-02-24T18:00:54.239326Z",
     "iopub.status.busy": "2025-02-24T18:00:54.238922Z",
     "iopub.status.idle": "2025-02-24T18:00:54.249540Z",
     "shell.execute_reply": "2025-02-24T18:00:54.247908Z"
    },
    "papermill": {
     "duration": 0.032345,
     "end_time": "2025-02-24T18:00:54.251774",
     "exception": false,
     "start_time": "2025-02-24T18:00:54.219429",
     "status": "completed"
    },
    "tags": []
   },
   "outputs": [
    {
     "data": {
      "text/html": [
       "<div>\n",
       "<style scoped>\n",
       "    .dataframe tbody tr th:only-of-type {\n",
       "        vertical-align: middle;\n",
       "    }\n",
       "\n",
       "    .dataframe tbody tr th {\n",
       "        vertical-align: top;\n",
       "    }\n",
       "\n",
       "    .dataframe thead th {\n",
       "        text-align: right;\n",
       "    }\n",
       "</style>\n",
       "<table border=\"1\" class=\"dataframe\">\n",
       "  <thead>\n",
       "    <tr style=\"text-align: right;\">\n",
       "      <th></th>\n",
       "      <th>PRICE</th>\n",
       "    </tr>\n",
       "    <tr>\n",
       "      <th>customers_level_based</th>\n",
       "      <th></th>\n",
       "    </tr>\n",
       "  </thead>\n",
       "  <tbody>\n",
       "    <tr>\n",
       "      <th>BRA_ANDROID_FEMALE_0_18</th>\n",
       "      <td>35.645303</td>\n",
       "    </tr>\n",
       "    <tr>\n",
       "      <th>BRA_ANDROID_FEMALE_19_23</th>\n",
       "      <td>34.077340</td>\n",
       "    </tr>\n",
       "    <tr>\n",
       "      <th>BRA_ANDROID_FEMALE_24_30</th>\n",
       "      <td>33.863946</td>\n",
       "    </tr>\n",
       "    <tr>\n",
       "      <th>BRA_ANDROID_FEMALE_31_40</th>\n",
       "      <td>34.898326</td>\n",
       "    </tr>\n",
       "    <tr>\n",
       "      <th>BRA_ANDROID_FEMALE_41_66</th>\n",
       "      <td>36.737179</td>\n",
       "    </tr>\n",
       "  </tbody>\n",
       "</table>\n",
       "</div>"
      ],
      "text/plain": [
       "                              PRICE\n",
       "customers_level_based              \n",
       "BRA_ANDROID_FEMALE_0_18   35.645303\n",
       "BRA_ANDROID_FEMALE_19_23  34.077340\n",
       "BRA_ANDROID_FEMALE_24_30  33.863946\n",
       "BRA_ANDROID_FEMALE_31_40  34.898326\n",
       "BRA_ANDROID_FEMALE_41_66  36.737179"
      ]
     },
     "execution_count": 42,
     "metadata": {},
     "output_type": "execute_result"
    }
   ],
   "source": [
    "# customers_level_based index'te yer alıyormu, kontrol edelim:\n",
    "\n",
    "agg_df.head()"
   ]
  },
  {
   "cell_type": "code",
   "execution_count": 43,
   "id": "b02ff82d",
   "metadata": {
    "execution": {
     "iopub.execute_input": "2025-02-24T18:00:54.291155Z",
     "iopub.status.busy": "2025-02-24T18:00:54.290768Z",
     "iopub.status.idle": "2025-02-24T18:00:54.302525Z",
     "shell.execute_reply": "2025-02-24T18:00:54.301036Z"
    },
    "papermill": {
     "duration": 0.033098,
     "end_time": "2025-02-24T18:00:54.304522",
     "exception": false,
     "start_time": "2025-02-24T18:00:54.271424",
     "status": "completed"
    },
    "tags": []
   },
   "outputs": [
    {
     "data": {
      "text/html": [
       "<div>\n",
       "<style scoped>\n",
       "    .dataframe tbody tr th:only-of-type {\n",
       "        vertical-align: middle;\n",
       "    }\n",
       "\n",
       "    .dataframe tbody tr th {\n",
       "        vertical-align: top;\n",
       "    }\n",
       "\n",
       "    .dataframe thead th {\n",
       "        text-align: right;\n",
       "    }\n",
       "</style>\n",
       "<table border=\"1\" class=\"dataframe\">\n",
       "  <thead>\n",
       "    <tr style=\"text-align: right;\">\n",
       "      <th></th>\n",
       "      <th>customers_level_based</th>\n",
       "      <th>PRICE</th>\n",
       "    </tr>\n",
       "  </thead>\n",
       "  <tbody>\n",
       "    <tr>\n",
       "      <th>0</th>\n",
       "      <td>BRA_ANDROID_FEMALE_0_18</td>\n",
       "      <td>35.645303</td>\n",
       "    </tr>\n",
       "    <tr>\n",
       "      <th>1</th>\n",
       "      <td>BRA_ANDROID_FEMALE_19_23</td>\n",
       "      <td>34.077340</td>\n",
       "    </tr>\n",
       "    <tr>\n",
       "      <th>2</th>\n",
       "      <td>BRA_ANDROID_FEMALE_24_30</td>\n",
       "      <td>33.863946</td>\n",
       "    </tr>\n",
       "    <tr>\n",
       "      <th>3</th>\n",
       "      <td>BRA_ANDROID_FEMALE_31_40</td>\n",
       "      <td>34.898326</td>\n",
       "    </tr>\n",
       "    <tr>\n",
       "      <th>4</th>\n",
       "      <td>BRA_ANDROID_FEMALE_41_66</td>\n",
       "      <td>36.737179</td>\n",
       "    </tr>\n",
       "  </tbody>\n",
       "</table>\n",
       "</div>"
      ],
      "text/plain": [
       "      customers_level_based      PRICE\n",
       "0   BRA_ANDROID_FEMALE_0_18  35.645303\n",
       "1  BRA_ANDROID_FEMALE_19_23  34.077340\n",
       "2  BRA_ANDROID_FEMALE_24_30  33.863946\n",
       "3  BRA_ANDROID_FEMALE_31_40  34.898326\n",
       "4  BRA_ANDROID_FEMALE_41_66  36.737179"
      ]
     },
     "execution_count": 43,
     "metadata": {},
     "output_type": "execute_result"
    }
   ],
   "source": [
    "# Değişkene çevirelim:\n",
    "\n",
    "agg_df = agg_df.reset_index()\n",
    "agg_df.head()"
   ]
  },
  {
   "cell_type": "code",
   "execution_count": 44,
   "id": "8f3ca434",
   "metadata": {
    "execution": {
     "iopub.execute_input": "2025-02-24T18:00:54.344275Z",
     "iopub.status.busy": "2025-02-24T18:00:54.343818Z",
     "iopub.status.idle": "2025-02-24T18:00:54.352415Z",
     "shell.execute_reply": "2025-02-24T18:00:54.351127Z"
    },
    "papermill": {
     "duration": 0.030624,
     "end_time": "2025-02-24T18:00:54.354429",
     "exception": false,
     "start_time": "2025-02-24T18:00:54.323805",
     "status": "completed"
    },
    "tags": []
   },
   "outputs": [
    {
     "data": {
      "text/plain": [
       "customers_level_based\n",
       "BRA_ANDROID_FEMALE_0_18    1\n",
       "TUR_ANDROID_FEMALE_0_18    1\n",
       "TUR_IOS_FEMALE_19_23       1\n",
       "TUR_IOS_FEMALE_0_18        1\n",
       "TUR_ANDROID_MALE_41_66     1\n",
       "                          ..\n",
       "CAN_IOS_MALE_41_66         1\n",
       "CAN_IOS_MALE_31_40         1\n",
       "CAN_IOS_MALE_24_30         1\n",
       "CAN_IOS_MALE_0_18          1\n",
       "USA_IOS_MALE_41_66         1\n",
       "Name: count, Length: 109, dtype: int64"
      ]
     },
     "execution_count": 44,
     "metadata": {},
     "output_type": "execute_result"
    }
   ],
   "source": [
    "# Heri bir persona'nın 1 tane olması gerekiyor. Kontrol edelim:\n",
    "\n",
    "agg_df[\"customers_level_based\"].value_counts()"
   ]
  },
  {
   "cell_type": "code",
   "execution_count": 45,
   "id": "da7f1f69",
   "metadata": {
    "execution": {
     "iopub.execute_input": "2025-02-24T18:00:54.396121Z",
     "iopub.status.busy": "2025-02-24T18:00:54.395746Z",
     "iopub.status.idle": "2025-02-24T18:00:54.405439Z",
     "shell.execute_reply": "2025-02-24T18:00:54.404096Z"
    },
    "papermill": {
     "duration": 0.031556,
     "end_time": "2025-02-24T18:00:54.407278",
     "exception": false,
     "start_time": "2025-02-24T18:00:54.375722",
     "status": "completed"
    },
    "tags": []
   },
   "outputs": [
    {
     "data": {
      "text/html": [
       "<div>\n",
       "<style scoped>\n",
       "    .dataframe tbody tr th:only-of-type {\n",
       "        vertical-align: middle;\n",
       "    }\n",
       "\n",
       "    .dataframe tbody tr th {\n",
       "        vertical-align: top;\n",
       "    }\n",
       "\n",
       "    .dataframe thead th {\n",
       "        text-align: right;\n",
       "    }\n",
       "</style>\n",
       "<table border=\"1\" class=\"dataframe\">\n",
       "  <thead>\n",
       "    <tr style=\"text-align: right;\">\n",
       "      <th></th>\n",
       "      <th>customers_level_based</th>\n",
       "      <th>PRICE</th>\n",
       "    </tr>\n",
       "  </thead>\n",
       "  <tbody>\n",
       "    <tr>\n",
       "      <th>0</th>\n",
       "      <td>BRA_ANDROID_FEMALE_0_18</td>\n",
       "      <td>35.645303</td>\n",
       "    </tr>\n",
       "    <tr>\n",
       "      <th>1</th>\n",
       "      <td>BRA_ANDROID_FEMALE_19_23</td>\n",
       "      <td>34.077340</td>\n",
       "    </tr>\n",
       "    <tr>\n",
       "      <th>2</th>\n",
       "      <td>BRA_ANDROID_FEMALE_24_30</td>\n",
       "      <td>33.863946</td>\n",
       "    </tr>\n",
       "    <tr>\n",
       "      <th>3</th>\n",
       "      <td>BRA_ANDROID_FEMALE_31_40</td>\n",
       "      <td>34.898326</td>\n",
       "    </tr>\n",
       "    <tr>\n",
       "      <th>4</th>\n",
       "      <td>BRA_ANDROID_FEMALE_41_66</td>\n",
       "      <td>36.737179</td>\n",
       "    </tr>\n",
       "  </tbody>\n",
       "</table>\n",
       "</div>"
      ],
      "text/plain": [
       "      customers_level_based      PRICE\n",
       "0   BRA_ANDROID_FEMALE_0_18  35.645303\n",
       "1  BRA_ANDROID_FEMALE_19_23  34.077340\n",
       "2  BRA_ANDROID_FEMALE_24_30  33.863946\n",
       "3  BRA_ANDROID_FEMALE_31_40  34.898326\n",
       "4  BRA_ANDROID_FEMALE_41_66  36.737179"
      ]
     },
     "execution_count": 45,
     "metadata": {},
     "output_type": "execute_result"
    }
   ],
   "source": [
    "agg_df.head()"
   ]
  },
  {
   "cell_type": "markdown",
   "id": "5e54e2f9",
   "metadata": {
    "papermill": {
     "duration": 0.017707,
     "end_time": "2025-02-24T18:00:54.442921",
     "exception": false,
     "start_time": "2025-02-24T18:00:54.425214",
     "status": "completed"
    },
    "tags": []
   },
   "source": [
    "GÖREV 7: Yeni müşterileri (USA_ANDROID_MALE_0_18) segmentlere ayırınız.¶\n",
    "1. PRICE'a göre segmentlere ayırın.\n",
    "2. Segmentleri \"SEGMENT\" isimlendirmesi ile agg_df'e ekleyin.\n",
    "3. Segmentleri betimleyin."
   ]
  },
  {
   "cell_type": "code",
   "execution_count": 46,
   "id": "edeea980",
   "metadata": {
    "execution": {
     "iopub.execute_input": "2025-02-24T18:00:54.481807Z",
     "iopub.status.busy": "2025-02-24T18:00:54.481450Z",
     "iopub.status.idle": "2025-02-24T18:00:54.495792Z",
     "shell.execute_reply": "2025-02-24T18:00:54.494503Z"
    },
    "papermill": {
     "duration": 0.03683,
     "end_time": "2025-02-24T18:00:54.498059",
     "exception": false,
     "start_time": "2025-02-24T18:00:54.461229",
     "status": "completed"
    },
    "tags": []
   },
   "outputs": [
    {
     "data": {
      "text/html": [
       "<div>\n",
       "<style scoped>\n",
       "    .dataframe tbody tr th:only-of-type {\n",
       "        vertical-align: middle;\n",
       "    }\n",
       "\n",
       "    .dataframe tbody tr th {\n",
       "        vertical-align: top;\n",
       "    }\n",
       "\n",
       "    .dataframe thead th {\n",
       "        text-align: right;\n",
       "    }\n",
       "</style>\n",
       "<table border=\"1\" class=\"dataframe\">\n",
       "  <thead>\n",
       "    <tr style=\"text-align: right;\">\n",
       "      <th></th>\n",
       "      <th>customers_level_based</th>\n",
       "      <th>PRICE</th>\n",
       "      <th>SEGMENT</th>\n",
       "    </tr>\n",
       "  </thead>\n",
       "  <tbody>\n",
       "    <tr>\n",
       "      <th>0</th>\n",
       "      <td>BRA_ANDROID_FEMALE_0_18</td>\n",
       "      <td>35.645303</td>\n",
       "      <td>B</td>\n",
       "    </tr>\n",
       "    <tr>\n",
       "      <th>1</th>\n",
       "      <td>BRA_ANDROID_FEMALE_19_23</td>\n",
       "      <td>34.077340</td>\n",
       "      <td>C</td>\n",
       "    </tr>\n",
       "    <tr>\n",
       "      <th>2</th>\n",
       "      <td>BRA_ANDROID_FEMALE_24_30</td>\n",
       "      <td>33.863946</td>\n",
       "      <td>C</td>\n",
       "    </tr>\n",
       "    <tr>\n",
       "      <th>3</th>\n",
       "      <td>BRA_ANDROID_FEMALE_31_40</td>\n",
       "      <td>34.898326</td>\n",
       "      <td>B</td>\n",
       "    </tr>\n",
       "    <tr>\n",
       "      <th>4</th>\n",
       "      <td>BRA_ANDROID_FEMALE_41_66</td>\n",
       "      <td>36.737179</td>\n",
       "      <td>A</td>\n",
       "    </tr>\n",
       "    <tr>\n",
       "      <th>5</th>\n",
       "      <td>BRA_ANDROID_MALE_0_18</td>\n",
       "      <td>34.805861</td>\n",
       "      <td>B</td>\n",
       "    </tr>\n",
       "    <tr>\n",
       "      <th>6</th>\n",
       "      <td>BRA_ANDROID_MALE_19_23</td>\n",
       "      <td>31.673243</td>\n",
       "      <td>D</td>\n",
       "    </tr>\n",
       "    <tr>\n",
       "      <th>7</th>\n",
       "      <td>BRA_ANDROID_MALE_24_30</td>\n",
       "      <td>33.413919</td>\n",
       "      <td>C</td>\n",
       "    </tr>\n",
       "    <tr>\n",
       "      <th>8</th>\n",
       "      <td>BRA_ANDROID_MALE_31_40</td>\n",
       "      <td>34.327381</td>\n",
       "      <td>B</td>\n",
       "    </tr>\n",
       "    <tr>\n",
       "      <th>9</th>\n",
       "      <td>BRA_ANDROID_MALE_41_66</td>\n",
       "      <td>40.041667</td>\n",
       "      <td>A</td>\n",
       "    </tr>\n",
       "  </tbody>\n",
       "</table>\n",
       "</div>"
      ],
      "text/plain": [
       "      customers_level_based      PRICE SEGMENT\n",
       "0   BRA_ANDROID_FEMALE_0_18  35.645303       B\n",
       "1  BRA_ANDROID_FEMALE_19_23  34.077340       C\n",
       "2  BRA_ANDROID_FEMALE_24_30  33.863946       C\n",
       "3  BRA_ANDROID_FEMALE_31_40  34.898326       B\n",
       "4  BRA_ANDROID_FEMALE_41_66  36.737179       A\n",
       "5     BRA_ANDROID_MALE_0_18  34.805861       B\n",
       "6    BRA_ANDROID_MALE_19_23  31.673243       D\n",
       "7    BRA_ANDROID_MALE_24_30  33.413919       C\n",
       "8    BRA_ANDROID_MALE_31_40  34.327381       B\n",
       "9    BRA_ANDROID_MALE_41_66  40.041667       A"
      ]
     },
     "execution_count": 46,
     "metadata": {},
     "output_type": "execute_result"
    }
   ],
   "source": [
    "agg_df[\"SEGMENT\"] = pd.qcut(agg_df[\"PRICE\"], 4, labels=[\"D\", \"C\", \"B\", \"A\"])\n",
    "agg_df.head(10)"
   ]
  },
  {
   "cell_type": "code",
   "execution_count": 47,
   "id": "407f9d01",
   "metadata": {
    "execution": {
     "iopub.execute_input": "2025-02-24T18:00:54.539629Z",
     "iopub.status.busy": "2025-02-24T18:00:54.539263Z",
     "iopub.status.idle": "2025-02-24T18:00:54.551449Z",
     "shell.execute_reply": "2025-02-24T18:00:54.550322Z"
    },
    "papermill": {
     "duration": 0.036554,
     "end_time": "2025-02-24T18:00:54.553300",
     "exception": false,
     "start_time": "2025-02-24T18:00:54.516746",
     "status": "completed"
    },
    "tags": []
   },
   "outputs": [
    {
     "data": {
      "text/html": [
       "<div>\n",
       "<style scoped>\n",
       "    .dataframe tbody tr th:only-of-type {\n",
       "        vertical-align: middle;\n",
       "    }\n",
       "\n",
       "    .dataframe tbody tr th {\n",
       "        vertical-align: top;\n",
       "    }\n",
       "\n",
       "    .dataframe thead th {\n",
       "        text-align: right;\n",
       "    }\n",
       "</style>\n",
       "<table border=\"1\" class=\"dataframe\">\n",
       "  <thead>\n",
       "    <tr style=\"text-align: right;\">\n",
       "      <th></th>\n",
       "      <th>PRICE</th>\n",
       "    </tr>\n",
       "    <tr>\n",
       "      <th>SEGMENT</th>\n",
       "      <th></th>\n",
       "    </tr>\n",
       "  </thead>\n",
       "  <tbody>\n",
       "    <tr>\n",
       "      <th>D</th>\n",
       "      <td>29.206780</td>\n",
       "    </tr>\n",
       "    <tr>\n",
       "      <th>C</th>\n",
       "      <td>33.509674</td>\n",
       "    </tr>\n",
       "    <tr>\n",
       "      <th>B</th>\n",
       "      <td>34.999645</td>\n",
       "    </tr>\n",
       "    <tr>\n",
       "      <th>A</th>\n",
       "      <td>38.691234</td>\n",
       "    </tr>\n",
       "  </tbody>\n",
       "</table>\n",
       "</div>"
      ],
      "text/plain": [
       "             PRICE\n",
       "SEGMENT           \n",
       "D        29.206780\n",
       "C        33.509674\n",
       "B        34.999645\n",
       "A        38.691234"
      ]
     },
     "execution_count": 47,
     "metadata": {},
     "output_type": "execute_result"
    }
   ],
   "source": [
    "agg_df.groupby(\"SEGMENT\").agg({\"PRICE\": \"mean\"})"
   ]
  },
  {
   "cell_type": "code",
   "execution_count": 48,
   "id": "c6ec793b",
   "metadata": {
    "execution": {
     "iopub.execute_input": "2025-02-24T18:00:54.590861Z",
     "iopub.status.busy": "2025-02-24T18:00:54.590538Z",
     "iopub.status.idle": "2025-02-24T18:00:54.600608Z",
     "shell.execute_reply": "2025-02-24T18:00:54.599567Z"
    },
    "papermill": {
     "duration": 0.030694,
     "end_time": "2025-02-24T18:00:54.602440",
     "exception": false,
     "start_time": "2025-02-24T18:00:54.571746",
     "status": "completed"
    },
    "tags": []
   },
   "outputs": [
    {
     "data": {
      "text/html": [
       "<div>\n",
       "<style scoped>\n",
       "    .dataframe tbody tr th:only-of-type {\n",
       "        vertical-align: middle;\n",
       "    }\n",
       "\n",
       "    .dataframe tbody tr th {\n",
       "        vertical-align: top;\n",
       "    }\n",
       "\n",
       "    .dataframe thead th {\n",
       "        text-align: right;\n",
       "    }\n",
       "</style>\n",
       "<table border=\"1\" class=\"dataframe\">\n",
       "  <thead>\n",
       "    <tr style=\"text-align: right;\">\n",
       "      <th></th>\n",
       "      <th>customers_level_based</th>\n",
       "      <th>PRICE</th>\n",
       "      <th>SEGMENT</th>\n",
       "    </tr>\n",
       "  </thead>\n",
       "  <tbody>\n",
       "    <tr>\n",
       "      <th>0</th>\n",
       "      <td>BRA_ANDROID_FEMALE_0_18</td>\n",
       "      <td>35.645303</td>\n",
       "      <td>B</td>\n",
       "    </tr>\n",
       "    <tr>\n",
       "      <th>1</th>\n",
       "      <td>BRA_ANDROID_FEMALE_19_23</td>\n",
       "      <td>34.077340</td>\n",
       "      <td>C</td>\n",
       "    </tr>\n",
       "    <tr>\n",
       "      <th>2</th>\n",
       "      <td>BRA_ANDROID_FEMALE_24_30</td>\n",
       "      <td>33.863946</td>\n",
       "      <td>C</td>\n",
       "    </tr>\n",
       "    <tr>\n",
       "      <th>3</th>\n",
       "      <td>BRA_ANDROID_FEMALE_31_40</td>\n",
       "      <td>34.898326</td>\n",
       "      <td>B</td>\n",
       "    </tr>\n",
       "    <tr>\n",
       "      <th>4</th>\n",
       "      <td>BRA_ANDROID_FEMALE_41_66</td>\n",
       "      <td>36.737179</td>\n",
       "      <td>A</td>\n",
       "    </tr>\n",
       "  </tbody>\n",
       "</table>\n",
       "</div>"
      ],
      "text/plain": [
       "      customers_level_based      PRICE SEGMENT\n",
       "0   BRA_ANDROID_FEMALE_0_18  35.645303       B\n",
       "1  BRA_ANDROID_FEMALE_19_23  34.077340       C\n",
       "2  BRA_ANDROID_FEMALE_24_30  33.863946       C\n",
       "3  BRA_ANDROID_FEMALE_31_40  34.898326       B\n",
       "4  BRA_ANDROID_FEMALE_41_66  36.737179       A"
      ]
     },
     "execution_count": 48,
     "metadata": {},
     "output_type": "execute_result"
    }
   ],
   "source": [
    "agg_df.head()"
   ]
  },
  {
   "cell_type": "markdown",
   "id": "a0ea22d7",
   "metadata": {
    "papermill": {
     "duration": 0.017982,
     "end_time": "2025-02-24T18:00:54.638779",
     "exception": false,
     "start_time": "2025-02-24T18:00:54.620797",
     "status": "completed"
    },
    "tags": []
   },
   "source": [
    "GÖREV 8: Yeni gelen müşterileri sınıflandırınız ne kadar gelir getirebileceğini tahmin ediniz.¶\n",
    "Soru 1. 33 yaşında ANDROID kullanan bir Türk kadını hangi segmente aittir ve ortalama ne kadar gelir kazandırması beklenir?"
   ]
  },
  {
   "cell_type": "code",
   "execution_count": 49,
   "id": "b0101e7c",
   "metadata": {
    "execution": {
     "iopub.execute_input": "2025-02-24T18:00:54.677287Z",
     "iopub.status.busy": "2025-02-24T18:00:54.676923Z",
     "iopub.status.idle": "2025-02-24T18:00:54.687427Z",
     "shell.execute_reply": "2025-02-24T18:00:54.686332Z"
    },
    "papermill": {
     "duration": 0.032134,
     "end_time": "2025-02-24T18:00:54.689254",
     "exception": false,
     "start_time": "2025-02-24T18:00:54.657120",
     "status": "completed"
    },
    "tags": []
   },
   "outputs": [
    {
     "data": {
      "text/html": [
       "<div>\n",
       "<style scoped>\n",
       "    .dataframe tbody tr th:only-of-type {\n",
       "        vertical-align: middle;\n",
       "    }\n",
       "\n",
       "    .dataframe tbody tr th {\n",
       "        vertical-align: top;\n",
       "    }\n",
       "\n",
       "    .dataframe thead th {\n",
       "        text-align: right;\n",
       "    }\n",
       "</style>\n",
       "<table border=\"1\" class=\"dataframe\">\n",
       "  <thead>\n",
       "    <tr style=\"text-align: right;\">\n",
       "      <th></th>\n",
       "      <th>customers_level_based</th>\n",
       "      <th>PRICE</th>\n",
       "      <th>SEGMENT</th>\n",
       "    </tr>\n",
       "  </thead>\n",
       "  <tbody>\n",
       "    <tr>\n",
       "      <th>72</th>\n",
       "      <td>TUR_ANDROID_FEMALE_31_40</td>\n",
       "      <td>41.833333</td>\n",
       "      <td>A</td>\n",
       "    </tr>\n",
       "  </tbody>\n",
       "</table>\n",
       "</div>"
      ],
      "text/plain": [
       "       customers_level_based      PRICE SEGMENT\n",
       "72  TUR_ANDROID_FEMALE_31_40  41.833333       A"
      ]
     },
     "execution_count": 49,
     "metadata": {},
     "output_type": "execute_result"
    }
   ],
   "source": [
    "new_user = \"TUR_ANDROID_FEMALE_31_40\"\n",
    "\n",
    "agg_df[agg_df[\"customers_level_based\"] == new_user]"
   ]
  },
  {
   "cell_type": "markdown",
   "id": "c35aec01",
   "metadata": {
    "papermill": {
     "duration": 0.020331,
     "end_time": "2025-02-24T18:00:54.730167",
     "exception": false,
     "start_time": "2025-02-24T18:00:54.709836",
     "status": "completed"
    },
    "tags": []
   },
   "source": [
    "Soru 2. 35 yaşında IOS kullanan bir Fransız kadını hangi segmente aittir ve ortalama ne kadar gelir kazandırması beklenir?"
   ]
  },
  {
   "cell_type": "code",
   "execution_count": 50,
   "id": "21980b67",
   "metadata": {
    "execution": {
     "iopub.execute_input": "2025-02-24T18:00:54.776176Z",
     "iopub.status.busy": "2025-02-24T18:00:54.775795Z",
     "iopub.status.idle": "2025-02-24T18:00:54.787280Z",
     "shell.execute_reply": "2025-02-24T18:00:54.786047Z"
    },
    "papermill": {
     "duration": 0.038156,
     "end_time": "2025-02-24T18:00:54.789821",
     "exception": false,
     "start_time": "2025-02-24T18:00:54.751665",
     "status": "completed"
    },
    "tags": []
   },
   "outputs": [
    {
     "data": {
      "text/html": [
       "<div>\n",
       "<style scoped>\n",
       "    .dataframe tbody tr th:only-of-type {\n",
       "        vertical-align: middle;\n",
       "    }\n",
       "\n",
       "    .dataframe tbody tr th {\n",
       "        vertical-align: top;\n",
       "    }\n",
       "\n",
       "    .dataframe thead th {\n",
       "        text-align: right;\n",
       "    }\n",
       "</style>\n",
       "<table border=\"1\" class=\"dataframe\">\n",
       "  <thead>\n",
       "    <tr style=\"text-align: right;\">\n",
       "      <th></th>\n",
       "      <th>customers_level_based</th>\n",
       "      <th>PRICE</th>\n",
       "      <th>SEGMENT</th>\n",
       "    </tr>\n",
       "  </thead>\n",
       "  <tbody>\n",
       "    <tr>\n",
       "      <th>63</th>\n",
       "      <td>FRA_IOS_FEMALE_31_40</td>\n",
       "      <td>32.818182</td>\n",
       "      <td>C</td>\n",
       "    </tr>\n",
       "  </tbody>\n",
       "</table>\n",
       "</div>"
      ],
      "text/plain": [
       "   customers_level_based      PRICE SEGMENT\n",
       "63  FRA_IOS_FEMALE_31_40  32.818182       C"
      ]
     },
     "execution_count": 50,
     "metadata": {},
     "output_type": "execute_result"
    }
   ],
   "source": [
    "new_user = \"FRA_IOS_FEMALE_31_40\"\n",
    "\n",
    "agg_df[agg_df[\"customers_level_based\"] == new_user]"
   ]
  }
 ],
 "metadata": {
  "kaggle": {
   "accelerator": "none",
   "dataSources": [
    {
     "datasetId": 6725468,
     "sourceId": 10830880,
     "sourceType": "datasetVersion"
    }
   ],
   "dockerImageVersionId": 30918,
   "isGpuEnabled": false,
   "isInternetEnabled": true,
   "language": "python",
   "sourceType": "notebook"
  },
  "kernelspec": {
   "display_name": "Python 3",
   "language": "python",
   "name": "python3"
  },
  "language_info": {
   "codemirror_mode": {
    "name": "ipython",
    "version": 3
   },
   "file_extension": ".py",
   "mimetype": "text/x-python",
   "name": "python",
   "nbconvert_exporter": "python",
   "pygments_lexer": "ipython3",
   "version": "3.10.12"
  },
  "papermill": {
   "default_parameters": {},
   "duration": 9.47667,
   "end_time": "2025-02-24T18:00:55.533773",
   "environment_variables": {},
   "exception": null,
   "input_path": "__notebook__.ipynb",
   "output_path": "__notebook__.ipynb",
   "parameters": {},
   "start_time": "2025-02-24T18:00:46.057103",
   "version": "2.6.0"
  }
 },
 "nbformat": 4,
 "nbformat_minor": 5
}
