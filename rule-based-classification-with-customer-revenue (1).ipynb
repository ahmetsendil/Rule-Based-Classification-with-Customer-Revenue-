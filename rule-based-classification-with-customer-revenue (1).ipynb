{
 "cells": [
  {
   "cell_type": "markdown",
   "id": "9a5f8521",
   "metadata": {
    "papermill": {
     "duration": 0.012874,
     "end_time": "2025-02-25T11:06:32.496760",
     "exception": false,
     "start_time": "2025-02-25T11:06:32.483886",
     "status": "completed"
    },
    "tags": []
   },
   "source": [
    "**Rule-Based Classification for Calculating Potential Customer Revenue**"
   ]
  },
  {
   "cell_type": "markdown",
   "id": "1c47395b",
   "metadata": {
    "papermill": {
     "duration": 0.012378,
     "end_time": "2025-02-25T11:06:32.521375",
     "exception": false,
     "start_time": "2025-02-25T11:06:32.508997",
     "status": "completed"
    },
    "tags": []
   },
   "source": [
    "**Business Problem**\n",
    "\n",
    "A company wants to create new customer profiles (personas) based on certain characteristics of its existing customers using a level-based approach. The goal is to create segments according to these new customer definitions and estimate how much potential new customers could contribute to the company on average. For example, it is desired to estimate how much an average 25-year-old male iOS user from Turkey might contribute to the company."
   ]
  },
  {
   "cell_type": "markdown",
   "id": "1ba84153",
   "metadata": {
    "papermill": {
     "duration": 0.011613,
     "end_time": "2025-02-25T11:06:32.545224",
     "exception": false,
     "start_time": "2025-02-25T11:06:32.533611",
     "status": "completed"
    },
    "tags": []
   },
   "source": [
    "**Data Set Story**\n",
    "\n",
    "The Persona.csv dataset contains information about the prices of products sold by an international company and some demographic details of the users who purchased these products. The dataset is derived from records of each sales transaction. This means that the data is not aggregated, and a user with specific demographic characteristics may have made multiple purchases."
   ]
  },
  {
   "cell_type": "markdown",
   "id": "f282c4b6",
   "metadata": {
    "papermill": {
     "duration": 0.011685,
     "end_time": "2025-02-25T11:06:32.568777",
     "exception": false,
     "start_time": "2025-02-25T11:06:32.557092",
     "status": "completed"
    },
    "tags": []
   },
   "source": [
    "**Variables :**\n",
    "* PRICE – Müşterinin harcama tutarı \n",
    "* SOURCE – Müşterinin bağlandığı cihaz türü \n",
    "* SEX – Müşterinin cinsiyeti \n",
    "* COUNTRY – Müşterinin ülkesi \n",
    "* AGE – Müşterinin yaşı"
   ]
  },
  {
   "cell_type": "code",
   "execution_count": 1,
   "id": "e15b9f28",
   "metadata": {
    "_cell_guid": "b1076dfc-b9ad-4769-8c92-a6c4dae69d19",
    "_uuid": "8f2839f25d086af736a60e9eeb907d3b93b6e0e5",
    "execution": {
     "iopub.execute_input": "2025-02-25T11:06:32.594738Z",
     "iopub.status.busy": "2025-02-25T11:06:32.594230Z",
     "iopub.status.idle": "2025-02-25T11:06:33.526244Z",
     "shell.execute_reply": "2025-02-25T11:06:33.525016Z"
    },
    "papermill": {
     "duration": 0.947681,
     "end_time": "2025-02-25T11:06:33.528468",
     "exception": false,
     "start_time": "2025-02-25T11:06:32.580787",
     "status": "completed"
    },
    "tags": []
   },
   "outputs": [
    {
     "name": "stdout",
     "output_type": "stream",
     "text": [
      "/kaggle/input/persona-data-set-0/persona.csv\n"
     ]
    }
   ],
   "source": [
    "# This Python 3 environment comes with many helpful analytics libraries installed\n",
    "# It is defined by the kaggle/python Docker image: https://github.com/kaggle/docker-python\n",
    "# For example, here's several helpful packages to load\n",
    "\n",
    "import numpy as np # linear algebra\n",
    "import pandas as pd # data processing, CSV file I/O (e.g. pd.read_csv)\n",
    "\n",
    "# Input data files are available in the read-only \"../input/\" directory\n",
    "# For example, running this (by clicking run or pressing Shift+Enter) will list all files under the input directory\n",
    "\n",
    "import os\n",
    "for dirname, _, filenames in os.walk('/kaggle/input'):\n",
    "    for filename in filenames:\n",
    "        print(os.path.join(dirname, filename))\n",
    "\n",
    "# You can write up to 20GB to the current directory (/kaggle/working/) that gets preserved as output when you create a version using \"Save & Run All\" \n",
    "# You can also write temporary files to /kaggle/temp/, but they won't be saved outside of the current session"
   ]
  },
  {
   "cell_type": "code",
   "execution_count": 2,
   "id": "9a88c06e",
   "metadata": {
    "execution": {
     "iopub.execute_input": "2025-02-25T11:06:33.554836Z",
     "iopub.status.busy": "2025-02-25T11:06:33.554321Z",
     "iopub.status.idle": "2025-02-25T11:06:33.559345Z",
     "shell.execute_reply": "2025-02-25T11:06:33.558161Z"
    },
    "papermill": {
     "duration": 0.019844,
     "end_time": "2025-02-25T11:06:33.561090",
     "exception": false,
     "start_time": "2025-02-25T11:06:33.541246",
     "status": "completed"
    },
    "tags": []
   },
   "outputs": [],
   "source": [
    "import pandas as pd\n",
    "pd.set_option(\"display.max_rows\", 100)\n",
    "pd.set_option(\"display.width\", 500)\n",
    "import warnings\n",
    "warnings.simplefilter(action=\"ignore\", category=FutureWarning)"
   ]
  },
  {
   "cell_type": "code",
   "execution_count": 3,
   "id": "324bfe17",
   "metadata": {
    "execution": {
     "iopub.execute_input": "2025-02-25T11:06:33.587604Z",
     "iopub.status.busy": "2025-02-25T11:06:33.587220Z",
     "iopub.status.idle": "2025-02-25T11:06:33.634781Z",
     "shell.execute_reply": "2025-02-25T11:06:33.633829Z"
    },
    "papermill": {
     "duration": 0.062652,
     "end_time": "2025-02-25T11:06:33.636625",
     "exception": false,
     "start_time": "2025-02-25T11:06:33.573973",
     "status": "completed"
    },
    "tags": []
   },
   "outputs": [
    {
     "data": {
      "text/html": [
       "<div>\n",
       "<style scoped>\n",
       "    .dataframe tbody tr th:only-of-type {\n",
       "        vertical-align: middle;\n",
       "    }\n",
       "\n",
       "    .dataframe tbody tr th {\n",
       "        vertical-align: top;\n",
       "    }\n",
       "\n",
       "    .dataframe thead th {\n",
       "        text-align: right;\n",
       "    }\n",
       "</style>\n",
       "<table border=\"1\" class=\"dataframe\">\n",
       "  <thead>\n",
       "    <tr style=\"text-align: right;\">\n",
       "      <th></th>\n",
       "      <th>PRICE</th>\n",
       "      <th>SOURCE</th>\n",
       "      <th>SEX</th>\n",
       "      <th>COUNTRY</th>\n",
       "      <th>AGE</th>\n",
       "    </tr>\n",
       "  </thead>\n",
       "  <tbody>\n",
       "    <tr>\n",
       "      <th>0</th>\n",
       "      <td>39</td>\n",
       "      <td>android</td>\n",
       "      <td>male</td>\n",
       "      <td>bra</td>\n",
       "      <td>17</td>\n",
       "    </tr>\n",
       "    <tr>\n",
       "      <th>1</th>\n",
       "      <td>39</td>\n",
       "      <td>android</td>\n",
       "      <td>male</td>\n",
       "      <td>bra</td>\n",
       "      <td>17</td>\n",
       "    </tr>\n",
       "    <tr>\n",
       "      <th>2</th>\n",
       "      <td>49</td>\n",
       "      <td>android</td>\n",
       "      <td>male</td>\n",
       "      <td>bra</td>\n",
       "      <td>17</td>\n",
       "    </tr>\n",
       "    <tr>\n",
       "      <th>3</th>\n",
       "      <td>29</td>\n",
       "      <td>android</td>\n",
       "      <td>male</td>\n",
       "      <td>tur</td>\n",
       "      <td>17</td>\n",
       "    </tr>\n",
       "    <tr>\n",
       "      <th>4</th>\n",
       "      <td>49</td>\n",
       "      <td>android</td>\n",
       "      <td>male</td>\n",
       "      <td>tur</td>\n",
       "      <td>17</td>\n",
       "    </tr>\n",
       "  </tbody>\n",
       "</table>\n",
       "</div>"
      ],
      "text/plain": [
       "   PRICE   SOURCE   SEX COUNTRY  AGE\n",
       "0     39  android  male     bra   17\n",
       "1     39  android  male     bra   17\n",
       "2     49  android  male     bra   17\n",
       "3     29  android  male     tur   17\n",
       "4     49  android  male     tur   17"
      ]
     },
     "execution_count": 3,
     "metadata": {},
     "output_type": "execute_result"
    }
   ],
   "source": [
    "df = pd.read_csv(\"/kaggle/input/persona-data-set-0/persona.csv\")\n",
    "df.head()"
   ]
  },
  {
   "cell_type": "code",
   "execution_count": 4,
   "id": "76cf218b",
   "metadata": {
    "execution": {
     "iopub.execute_input": "2025-02-25T11:06:33.662655Z",
     "iopub.status.busy": "2025-02-25T11:06:33.662263Z",
     "iopub.status.idle": "2025-02-25T11:06:33.693110Z",
     "shell.execute_reply": "2025-02-25T11:06:33.691549Z"
    },
    "papermill": {
     "duration": 0.045885,
     "end_time": "2025-02-25T11:06:33.695004",
     "exception": false,
     "start_time": "2025-02-25T11:06:33.649119",
     "status": "completed"
    },
    "tags": []
   },
   "outputs": [
    {
     "name": "stdout",
     "output_type": "stream",
     "text": [
      "################ Shape ##############\n",
      "(5000, 5)\n",
      "################ Types ##############\n",
      "PRICE       int64\n",
      "SOURCE     object\n",
      "SEX        object\n",
      "COUNTRY    object\n",
      "AGE         int64\n",
      "dtype: object\n",
      "################ Head ###############\n",
      "   PRICE   SOURCE   SEX COUNTRY  AGE\n",
      "0     39  android  male     bra   17\n",
      "1     39  android  male     bra   17\n",
      "2     49  android  male     bra   17\n",
      "3     29  android  male     tur   17\n",
      "4     49  android  male     tur   17\n",
      "################ Tail ###############\n",
      "      PRICE   SOURCE     SEX COUNTRY  AGE\n",
      "4995     29  android  female     bra   31\n",
      "4996     29  android  female     bra   31\n",
      "4997     29  android  female     bra   31\n",
      "4998     39  android  female     bra   31\n",
      "4999     29  android  female     bra   31\n",
      "################ NA ###############\n",
      "PRICE      0\n",
      "SOURCE     0\n",
      "SEX        0\n",
      "COUNTRY    0\n",
      "AGE        0\n",
      "dtype: int64\n",
      "################ Quantiles ###############\n",
      "        count     mean        std   min    0%    5%   50%   95%   99%  100%   max\n",
      "PRICE  5000.0  34.1320  12.464897   9.0   9.0  19.0  39.0  49.0  59.0  59.0  59.0\n",
      "AGE    5000.0  23.5814   8.995908  15.0  15.0  15.0  21.0  43.0  53.0  66.0  66.0\n"
     ]
    }
   ],
   "source": [
    "def check_df(dataframe, head=5):\n",
    "    print(\"################ Shape ##############\")\n",
    "    print(dataframe.shape)\n",
    "    print('################ Types ##############')\n",
    "    print(dataframe.dtypes)\n",
    "    print('################ Head ###############')\n",
    "    print(dataframe.head(head))\n",
    "    print('################ Tail ###############')\n",
    "    print(dataframe.tail(head))\n",
    "    print('################ NA ###############')\n",
    "    print(dataframe.isnull().sum())\n",
    "    print('################ Quantiles ###############')\n",
    "    print(dataframe.describe([0, 0.05, 0.50, 0.95, 0.99, 1]).T)\n",
    "\n",
    "check_df(df)"
   ]
  },
  {
   "cell_type": "markdown",
   "id": "4b0f7c36",
   "metadata": {
    "papermill": {
     "duration": 0.011866,
     "end_time": "2025-02-25T11:06:33.719421",
     "exception": false,
     "start_time": "2025-02-25T11:06:33.707555",
     "status": "completed"
    },
    "tags": []
   },
   "source": [
    "Question 2: How many unique SOURCES are there? What are their frequencies?"
   ]
  },
  {
   "cell_type": "code",
   "execution_count": 5,
   "id": "2ea57a85",
   "metadata": {
    "execution": {
     "iopub.execute_input": "2025-02-25T11:06:33.745561Z",
     "iopub.status.busy": "2025-02-25T11:06:33.745128Z",
     "iopub.status.idle": "2025-02-25T11:06:33.755017Z",
     "shell.execute_reply": "2025-02-25T11:06:33.754084Z"
    },
    "papermill": {
     "duration": 0.024811,
     "end_time": "2025-02-25T11:06:33.756650",
     "exception": false,
     "start_time": "2025-02-25T11:06:33.731839",
     "status": "completed"
    },
    "tags": []
   },
   "outputs": [
    {
     "data": {
      "text/plain": [
       "2"
      ]
     },
     "execution_count": 5,
     "metadata": {},
     "output_type": "execute_result"
    }
   ],
   "source": [
    "df[\"SOURCE\"].nunique()"
   ]
  },
  {
   "cell_type": "code",
   "execution_count": 6,
   "id": "ce133eb8",
   "metadata": {
    "execution": {
     "iopub.execute_input": "2025-02-25T11:06:33.785040Z",
     "iopub.status.busy": "2025-02-25T11:06:33.784636Z",
     "iopub.status.idle": "2025-02-25T11:06:33.795650Z",
     "shell.execute_reply": "2025-02-25T11:06:33.794353Z"
    },
    "papermill": {
     "duration": 0.02693,
     "end_time": "2025-02-25T11:06:33.797412",
     "exception": false,
     "start_time": "2025-02-25T11:06:33.770482",
     "status": "completed"
    },
    "tags": []
   },
   "outputs": [
    {
     "data": {
      "text/plain": [
       "SOURCE\n",
       "android    2974\n",
       "ios        2026\n",
       "Name: count, dtype: int64"
      ]
     },
     "execution_count": 6,
     "metadata": {},
     "output_type": "execute_result"
    }
   ],
   "source": [
    "df[\"SOURCE\"].value_counts()"
   ]
  },
  {
   "cell_type": "markdown",
   "id": "23d109bd",
   "metadata": {
    "papermill": {
     "duration": 0.013022,
     "end_time": "2025-02-25T11:06:33.823924",
     "exception": false,
     "start_time": "2025-02-25T11:06:33.810902",
     "status": "completed"
    },
    "tags": []
   },
   "source": [
    "Question 3: How many unique PRICES are there?"
   ]
  },
  {
   "cell_type": "code",
   "execution_count": 7,
   "id": "7059ae34",
   "metadata": {
    "execution": {
     "iopub.execute_input": "2025-02-25T11:06:33.850655Z",
     "iopub.status.busy": "2025-02-25T11:06:33.850201Z",
     "iopub.status.idle": "2025-02-25T11:06:33.857967Z",
     "shell.execute_reply": "2025-02-25T11:06:33.856897Z"
    },
    "papermill": {
     "duration": 0.023084,
     "end_time": "2025-02-25T11:06:33.859772",
     "exception": false,
     "start_time": "2025-02-25T11:06:33.836688",
     "status": "completed"
    },
    "tags": []
   },
   "outputs": [
    {
     "data": {
      "text/plain": [
       "6"
      ]
     },
     "execution_count": 7,
     "metadata": {},
     "output_type": "execute_result"
    }
   ],
   "source": [
    "df[\"PRICE\"].nunique()"
   ]
  },
  {
   "cell_type": "code",
   "execution_count": 8,
   "id": "f0bd88fe",
   "metadata": {
    "execution": {
     "iopub.execute_input": "2025-02-25T11:06:33.887127Z",
     "iopub.status.busy": "2025-02-25T11:06:33.886749Z",
     "iopub.status.idle": "2025-02-25T11:06:33.893019Z",
     "shell.execute_reply": "2025-02-25T11:06:33.892013Z"
    },
    "papermill": {
     "duration": 0.02217,
     "end_time": "2025-02-25T11:06:33.894810",
     "exception": false,
     "start_time": "2025-02-25T11:06:33.872640",
     "status": "completed"
    },
    "tags": []
   },
   "outputs": [
    {
     "data": {
      "text/plain": [
       "array([39, 49, 29, 19, 59,  9])"
      ]
     },
     "execution_count": 8,
     "metadata": {},
     "output_type": "execute_result"
    }
   ],
   "source": [
    "df[\"PRICE\"].unique()"
   ]
  },
  {
   "cell_type": "code",
   "execution_count": 9,
   "id": "abf99634",
   "metadata": {
    "execution": {
     "iopub.execute_input": "2025-02-25T11:06:33.922590Z",
     "iopub.status.busy": "2025-02-25T11:06:33.922150Z",
     "iopub.status.idle": "2025-02-25T11:06:33.930932Z",
     "shell.execute_reply": "2025-02-25T11:06:33.929949Z"
    },
    "papermill": {
     "duration": 0.024978,
     "end_time": "2025-02-25T11:06:33.932734",
     "exception": false,
     "start_time": "2025-02-25T11:06:33.907756",
     "status": "completed"
    },
    "tags": []
   },
   "outputs": [
    {
     "data": {
      "text/plain": [
       "PRICE\n",
       "29    1305\n",
       "39    1260\n",
       "49    1031\n",
       "19     992\n",
       "59     212\n",
       "9      200\n",
       "Name: count, dtype: int64"
      ]
     },
     "execution_count": 9,
     "metadata": {},
     "output_type": "execute_result"
    }
   ],
   "source": [
    "df[\"PRICE\"].value_counts()"
   ]
  },
  {
   "cell_type": "code",
   "execution_count": 10,
   "id": "cee83f02",
   "metadata": {
    "execution": {
     "iopub.execute_input": "2025-02-25T11:06:33.960259Z",
     "iopub.status.busy": "2025-02-25T11:06:33.959867Z",
     "iopub.status.idle": "2025-02-25T11:06:33.966065Z",
     "shell.execute_reply": "2025-02-25T11:06:33.965118Z"
    },
    "papermill": {
     "duration": 0.021849,
     "end_time": "2025-02-25T11:06:33.968013",
     "exception": false,
     "start_time": "2025-02-25T11:06:33.946164",
     "status": "completed"
    },
    "tags": []
   },
   "outputs": [
    {
     "data": {
      "text/plain": [
       "2"
      ]
     },
     "execution_count": 10,
     "metadata": {},
     "output_type": "execute_result"
    }
   ],
   "source": [
    "df[\"SEX\"].nunique()"
   ]
  },
  {
   "cell_type": "code",
   "execution_count": 11,
   "id": "7e5333a3",
   "metadata": {
    "execution": {
     "iopub.execute_input": "2025-02-25T11:06:33.995719Z",
     "iopub.status.busy": "2025-02-25T11:06:33.995308Z",
     "iopub.status.idle": "2025-02-25T11:06:34.002242Z",
     "shell.execute_reply": "2025-02-25T11:06:34.000995Z"
    },
    "papermill": {
     "duration": 0.022739,
     "end_time": "2025-02-25T11:06:34.003919",
     "exception": false,
     "start_time": "2025-02-25T11:06:33.981180",
     "status": "completed"
    },
    "tags": []
   },
   "outputs": [
    {
     "data": {
      "text/plain": [
       "array(['male', 'female'], dtype=object)"
      ]
     },
     "execution_count": 11,
     "metadata": {},
     "output_type": "execute_result"
    }
   ],
   "source": [
    "df[\"SEX\"].unique()"
   ]
  },
  {
   "cell_type": "code",
   "execution_count": 12,
   "id": "041becbb",
   "metadata": {
    "execution": {
     "iopub.execute_input": "2025-02-25T11:06:34.032690Z",
     "iopub.status.busy": "2025-02-25T11:06:34.032315Z",
     "iopub.status.idle": "2025-02-25T11:06:34.039690Z",
     "shell.execute_reply": "2025-02-25T11:06:34.038768Z"
    },
    "papermill": {
     "duration": 0.023293,
     "end_time": "2025-02-25T11:06:34.041264",
     "exception": false,
     "start_time": "2025-02-25T11:06:34.017971",
     "status": "completed"
    },
    "tags": []
   },
   "outputs": [
    {
     "data": {
      "text/plain": [
       "SEX\n",
       "female    2621\n",
       "male      2379\n",
       "Name: count, dtype: int64"
      ]
     },
     "execution_count": 12,
     "metadata": {},
     "output_type": "execute_result"
    }
   ],
   "source": [
    "df[\"SEX\"].value_counts()"
   ]
  },
  {
   "cell_type": "code",
   "execution_count": 13,
   "id": "955195a3",
   "metadata": {
    "execution": {
     "iopub.execute_input": "2025-02-25T11:06:34.070613Z",
     "iopub.status.busy": "2025-02-25T11:06:34.070243Z",
     "iopub.status.idle": "2025-02-25T11:06:34.076488Z",
     "shell.execute_reply": "2025-02-25T11:06:34.075543Z"
    },
    "papermill": {
     "duration": 0.023359,
     "end_time": "2025-02-25T11:06:34.078052",
     "exception": false,
     "start_time": "2025-02-25T11:06:34.054693",
     "status": "completed"
    },
    "tags": []
   },
   "outputs": [
    {
     "data": {
      "text/plain": [
       "6"
      ]
     },
     "execution_count": 13,
     "metadata": {},
     "output_type": "execute_result"
    }
   ],
   "source": [
    "df[\"COUNTRY\"].nunique()"
   ]
  },
  {
   "cell_type": "code",
   "execution_count": 14,
   "id": "1e663c0f",
   "metadata": {
    "execution": {
     "iopub.execute_input": "2025-02-25T11:06:34.105808Z",
     "iopub.status.busy": "2025-02-25T11:06:34.105405Z",
     "iopub.status.idle": "2025-02-25T11:06:34.111677Z",
     "shell.execute_reply": "2025-02-25T11:06:34.110809Z"
    },
    "papermill": {
     "duration": 0.021888,
     "end_time": "2025-02-25T11:06:34.113354",
     "exception": false,
     "start_time": "2025-02-25T11:06:34.091466",
     "status": "completed"
    },
    "tags": []
   },
   "outputs": [
    {
     "data": {
      "text/plain": [
       "array(['bra', 'tur', 'usa', 'can', 'deu', 'fra'], dtype=object)"
      ]
     },
     "execution_count": 14,
     "metadata": {},
     "output_type": "execute_result"
    }
   ],
   "source": [
    "df[\"COUNTRY\"].unique()"
   ]
  },
  {
   "cell_type": "code",
   "execution_count": 15,
   "id": "e5c2ef00",
   "metadata": {
    "execution": {
     "iopub.execute_input": "2025-02-25T11:06:34.142314Z",
     "iopub.status.busy": "2025-02-25T11:06:34.141958Z",
     "iopub.status.idle": "2025-02-25T11:06:34.149281Z",
     "shell.execute_reply": "2025-02-25T11:06:34.148306Z"
    },
    "papermill": {
     "duration": 0.023611,
     "end_time": "2025-02-25T11:06:34.150832",
     "exception": false,
     "start_time": "2025-02-25T11:06:34.127221",
     "status": "completed"
    },
    "tags": []
   },
   "outputs": [
    {
     "data": {
      "text/plain": [
       "COUNTRY\n",
       "usa    2065\n",
       "bra    1496\n",
       "deu     455\n",
       "tur     451\n",
       "fra     303\n",
       "can     230\n",
       "Name: count, dtype: int64"
      ]
     },
     "execution_count": 15,
     "metadata": {},
     "output_type": "execute_result"
    }
   ],
   "source": [
    "df[\"COUNTRY\"].value_counts()"
   ]
  },
  {
   "cell_type": "code",
   "execution_count": 16,
   "id": "0ffe630a",
   "metadata": {
    "execution": {
     "iopub.execute_input": "2025-02-25T11:06:34.179557Z",
     "iopub.status.busy": "2025-02-25T11:06:34.179171Z",
     "iopub.status.idle": "2025-02-25T11:06:34.185328Z",
     "shell.execute_reply": "2025-02-25T11:06:34.184304Z"
    },
    "papermill": {
     "duration": 0.022155,
     "end_time": "2025-02-25T11:06:34.187036",
     "exception": false,
     "start_time": "2025-02-25T11:06:34.164881",
     "status": "completed"
    },
    "tags": []
   },
   "outputs": [
    {
     "data": {
      "text/plain": [
       "46"
      ]
     },
     "execution_count": 16,
     "metadata": {},
     "output_type": "execute_result"
    }
   ],
   "source": [
    "df[\"AGE\"].nunique()"
   ]
  },
  {
   "cell_type": "code",
   "execution_count": 17,
   "id": "0e2ba14f",
   "metadata": {
    "execution": {
     "iopub.execute_input": "2025-02-25T11:06:34.215950Z",
     "iopub.status.busy": "2025-02-25T11:06:34.215587Z",
     "iopub.status.idle": "2025-02-25T11:06:34.222046Z",
     "shell.execute_reply": "2025-02-25T11:06:34.221143Z"
    },
    "papermill": {
     "duration": 0.022714,
     "end_time": "2025-02-25T11:06:34.223585",
     "exception": false,
     "start_time": "2025-02-25T11:06:34.200871",
     "status": "completed"
    },
    "tags": []
   },
   "outputs": [
    {
     "data": {
      "text/plain": [
       "array([17, 26, 23, 15, 19, 21, 16, 35, 42, 40, 49, 34, 18, 32, 25, 30, 20,\n",
       "       22, 50, 37, 24, 31, 28, 66, 27, 47, 57, 52, 39, 59, 46, 36, 29, 51,\n",
       "       55, 53, 33, 43, 38, 56, 54, 41, 44, 45, 65, 61])"
      ]
     },
     "execution_count": 17,
     "metadata": {},
     "output_type": "execute_result"
    }
   ],
   "source": [
    "df[\"AGE\"].unique()"
   ]
  },
  {
   "cell_type": "code",
   "execution_count": 18,
   "id": "4b66a54f",
   "metadata": {
    "execution": {
     "iopub.execute_input": "2025-02-25T11:06:34.253008Z",
     "iopub.status.busy": "2025-02-25T11:06:34.252649Z",
     "iopub.status.idle": "2025-02-25T11:06:34.260511Z",
     "shell.execute_reply": "2025-02-25T11:06:34.259399Z"
    },
    "papermill": {
     "duration": 0.024514,
     "end_time": "2025-02-25T11:06:34.262182",
     "exception": false,
     "start_time": "2025-02-25T11:06:34.237668",
     "status": "completed"
    },
    "tags": []
   },
   "outputs": [
    {
     "data": {
      "text/plain": [
       "AGE\n",
       "15    569\n",
       "16    494\n",
       "17    450\n",
       "18    348\n",
       "19    309\n",
       "20    264\n",
       "21    257\n",
       "22    242\n",
       "26    216\n",
       "23    210\n",
       "25    180\n",
       "24    173\n",
       "31    120\n",
       "27    113\n",
       "28    109\n",
       "33     95\n",
       "35     87\n",
       "37     70\n",
       "32     68\n",
       "42     66\n",
       "29     63\n",
       "34     61\n",
       "30     57\n",
       "38     42\n",
       "43     36\n",
       "50     33\n",
       "44     29\n",
       "41     28\n",
       "36     25\n",
       "45     24\n",
       "51     23\n",
       "40     21\n",
       "47     20\n",
       "49     19\n",
       "46     12\n",
       "57      8\n",
       "65      8\n",
       "59      8\n",
       "56      7\n",
       "66      7\n",
       "52      7\n",
       "53      6\n",
       "39      5\n",
       "54      4\n",
       "55      4\n",
       "61      3\n",
       "Name: count, dtype: int64"
      ]
     },
     "execution_count": 18,
     "metadata": {},
     "output_type": "execute_result"
    }
   ],
   "source": [
    "df[\"AGE\"].value_counts()"
   ]
  },
  {
   "cell_type": "markdown",
   "id": "38139b56",
   "metadata": {
    "papermill": {
     "duration": 0.013711,
     "end_time": "2025-02-25T11:06:34.290807",
     "exception": false,
     "start_time": "2025-02-25T11:06:34.277096",
     "status": "completed"
    },
    "tags": []
   },
   "source": [
    "Question 4: How many sales have been made for each PRICE?"
   ]
  },
  {
   "cell_type": "code",
   "execution_count": 19,
   "id": "340d1bfc",
   "metadata": {
    "execution": {
     "iopub.execute_input": "2025-02-25T11:06:34.319694Z",
     "iopub.status.busy": "2025-02-25T11:06:34.319316Z",
     "iopub.status.idle": "2025-02-25T11:06:34.326258Z",
     "shell.execute_reply": "2025-02-25T11:06:34.325330Z"
    },
    "papermill": {
     "duration": 0.023245,
     "end_time": "2025-02-25T11:06:34.327997",
     "exception": false,
     "start_time": "2025-02-25T11:06:34.304752",
     "status": "completed"
    },
    "tags": []
   },
   "outputs": [
    {
     "data": {
      "text/plain": [
       "PRICE\n",
       "29    1305\n",
       "39    1260\n",
       "49    1031\n",
       "19     992\n",
       "59     212\n",
       "9      200\n",
       "Name: count, dtype: int64"
      ]
     },
     "execution_count": 19,
     "metadata": {},
     "output_type": "execute_result"
    }
   ],
   "source": [
    "df[\"PRICE\"].value_counts()"
   ]
  },
  {
   "cell_type": "markdown",
   "id": "00ddf7f4",
   "metadata": {
    "papermill": {
     "duration": 0.013275,
     "end_time": "2025-02-25T11:06:34.355230",
     "exception": false,
     "start_time": "2025-02-25T11:06:34.341955",
     "status": "completed"
    },
    "tags": []
   },
   "source": [
    "Alternative Solution-2"
   ]
  },
  {
   "cell_type": "code",
   "execution_count": 20,
   "id": "6336610d",
   "metadata": {
    "execution": {
     "iopub.execute_input": "2025-02-25T11:06:34.383873Z",
     "iopub.status.busy": "2025-02-25T11:06:34.383530Z",
     "iopub.status.idle": "2025-02-25T11:06:34.393577Z",
     "shell.execute_reply": "2025-02-25T11:06:34.392706Z"
    },
    "papermill": {
     "duration": 0.026402,
     "end_time": "2025-02-25T11:06:34.395339",
     "exception": false,
     "start_time": "2025-02-25T11:06:34.368937",
     "status": "completed"
    },
    "tags": []
   },
   "outputs": [
    {
     "data": {
      "text/plain": [
       "COUNTRY\n",
       "bra    1496\n",
       "can     230\n",
       "deu     455\n",
       "fra     303\n",
       "tur     451\n",
       "usa    2065\n",
       "Name: PRICE, dtype: int64"
      ]
     },
     "execution_count": 20,
     "metadata": {},
     "output_type": "execute_result"
    }
   ],
   "source": [
    "df.groupby(\"COUNTRY\")[\"PRICE\"].count()"
   ]
  },
  {
   "cell_type": "markdown",
   "id": "4b5c123d",
   "metadata": {
    "papermill": {
     "duration": 0.013644,
     "end_time": "2025-02-25T11:06:34.422916",
     "exception": false,
     "start_time": "2025-02-25T11:06:34.409272",
     "status": "completed"
    },
    "tags": []
   },
   "source": [
    "Alternative Solution-3"
   ]
  },
  {
   "cell_type": "code",
   "execution_count": 21,
   "id": "d8ddc946",
   "metadata": {
    "execution": {
     "iopub.execute_input": "2025-02-25T11:06:34.451836Z",
     "iopub.status.busy": "2025-02-25T11:06:34.451459Z",
     "iopub.status.idle": "2025-02-25T11:06:34.466744Z",
     "shell.execute_reply": "2025-02-25T11:06:34.465707Z"
    },
    "papermill": {
     "duration": 0.031513,
     "end_time": "2025-02-25T11:06:34.468285",
     "exception": false,
     "start_time": "2025-02-25T11:06:34.436772",
     "status": "completed"
    },
    "tags": []
   },
   "outputs": [
    {
     "data": {
      "text/html": [
       "<div>\n",
       "<style scoped>\n",
       "    .dataframe tbody tr th:only-of-type {\n",
       "        vertical-align: middle;\n",
       "    }\n",
       "\n",
       "    .dataframe tbody tr th {\n",
       "        vertical-align: top;\n",
       "    }\n",
       "\n",
       "    .dataframe thead th {\n",
       "        text-align: right;\n",
       "    }\n",
       "</style>\n",
       "<table border=\"1\" class=\"dataframe\">\n",
       "  <thead>\n",
       "    <tr style=\"text-align: right;\">\n",
       "      <th></th>\n",
       "      <th>PRICE</th>\n",
       "    </tr>\n",
       "    <tr>\n",
       "      <th>COUNTRY</th>\n",
       "      <th></th>\n",
       "    </tr>\n",
       "  </thead>\n",
       "  <tbody>\n",
       "    <tr>\n",
       "      <th>bra</th>\n",
       "      <td>1496</td>\n",
       "    </tr>\n",
       "    <tr>\n",
       "      <th>can</th>\n",
       "      <td>230</td>\n",
       "    </tr>\n",
       "    <tr>\n",
       "      <th>deu</th>\n",
       "      <td>455</td>\n",
       "    </tr>\n",
       "    <tr>\n",
       "      <th>fra</th>\n",
       "      <td>303</td>\n",
       "    </tr>\n",
       "    <tr>\n",
       "      <th>tur</th>\n",
       "      <td>451</td>\n",
       "    </tr>\n",
       "    <tr>\n",
       "      <th>usa</th>\n",
       "      <td>2065</td>\n",
       "    </tr>\n",
       "  </tbody>\n",
       "</table>\n",
       "</div>"
      ],
      "text/plain": [
       "         PRICE\n",
       "COUNTRY       \n",
       "bra       1496\n",
       "can        230\n",
       "deu        455\n",
       "fra        303\n",
       "tur        451\n",
       "usa       2065"
      ]
     },
     "execution_count": 21,
     "metadata": {},
     "output_type": "execute_result"
    }
   ],
   "source": [
    "df.pivot_table(values=\"PRICE\",index=\"COUNTRY\",aggfunc=\"count\")"
   ]
  },
  {
   "cell_type": "markdown",
   "id": "e24c90d4",
   "metadata": {
    "papermill": {
     "duration": 0.013891,
     "end_time": "2025-02-25T11:06:34.496476",
     "exception": false,
     "start_time": "2025-02-25T11:06:34.482585",
     "status": "completed"
    },
    "tags": []
   },
   "source": [
    "Question 5: How many sales have been made from each country?"
   ]
  },
  {
   "cell_type": "code",
   "execution_count": 22,
   "id": "544e9a31",
   "metadata": {
    "execution": {
     "iopub.execute_input": "2025-02-25T11:06:34.526318Z",
     "iopub.status.busy": "2025-02-25T11:06:34.525965Z",
     "iopub.status.idle": "2025-02-25T11:06:34.533936Z",
     "shell.execute_reply": "2025-02-25T11:06:34.532826Z"
    },
    "papermill": {
     "duration": 0.025272,
     "end_time": "2025-02-25T11:06:34.535686",
     "exception": false,
     "start_time": "2025-02-25T11:06:34.510414",
     "status": "completed"
    },
    "tags": []
   },
   "outputs": [
    {
     "data": {
      "text/plain": [
       "COUNTRY\n",
       "usa    2065\n",
       "bra    1496\n",
       "deu     455\n",
       "tur     451\n",
       "fra     303\n",
       "can     230\n",
       "Name: count, dtype: int64"
      ]
     },
     "execution_count": 22,
     "metadata": {},
     "output_type": "execute_result"
    }
   ],
   "source": [
    "df[\"COUNTRY\"].value_counts()"
   ]
  },
  {
   "cell_type": "markdown",
   "id": "c511abb5",
   "metadata": {
    "papermill": {
     "duration": 0.013966,
     "end_time": "2025-02-25T11:06:34.564023",
     "exception": false,
     "start_time": "2025-02-25T11:06:34.550057",
     "status": "completed"
    },
    "tags": []
   },
   "source": [
    "Alternative Solution-2"
   ]
  },
  {
   "cell_type": "code",
   "execution_count": 23,
   "id": "fe591c09",
   "metadata": {
    "execution": {
     "iopub.execute_input": "2025-02-25T11:06:34.594013Z",
     "iopub.status.busy": "2025-02-25T11:06:34.593637Z",
     "iopub.status.idle": "2025-02-25T11:06:34.601832Z",
     "shell.execute_reply": "2025-02-25T11:06:34.600846Z"
    },
    "papermill": {
     "duration": 0.025357,
     "end_time": "2025-02-25T11:06:34.603614",
     "exception": false,
     "start_time": "2025-02-25T11:06:34.578257",
     "status": "completed"
    },
    "tags": []
   },
   "outputs": [
    {
     "data": {
      "text/plain": [
       "COUNTRY\n",
       "bra    1496\n",
       "can     230\n",
       "deu     455\n",
       "fra     303\n",
       "tur     451\n",
       "usa    2065\n",
       "Name: PRICE, dtype: int64"
      ]
     },
     "execution_count": 23,
     "metadata": {},
     "output_type": "execute_result"
    }
   ],
   "source": [
    "# alternatif 2\n",
    "\n",
    "df.groupby(\"COUNTRY\")[\"PRICE\"].count()"
   ]
  },
  {
   "cell_type": "markdown",
   "id": "abec6778",
   "metadata": {
    "papermill": {
     "duration": 0.014067,
     "end_time": "2025-02-25T11:06:34.632017",
     "exception": false,
     "start_time": "2025-02-25T11:06:34.617950",
     "status": "completed"
    },
    "tags": []
   },
   "source": [
    "Alternative Solution-3"
   ]
  },
  {
   "cell_type": "code",
   "execution_count": 24,
   "id": "5bb83c14",
   "metadata": {
    "execution": {
     "iopub.execute_input": "2025-02-25T11:06:34.662264Z",
     "iopub.status.busy": "2025-02-25T11:06:34.661864Z",
     "iopub.status.idle": "2025-02-25T11:06:34.674481Z",
     "shell.execute_reply": "2025-02-25T11:06:34.673551Z"
    },
    "papermill": {
     "duration": 0.029752,
     "end_time": "2025-02-25T11:06:34.676142",
     "exception": false,
     "start_time": "2025-02-25T11:06:34.646390",
     "status": "completed"
    },
    "tags": []
   },
   "outputs": [
    {
     "data": {
      "text/html": [
       "<div>\n",
       "<style scoped>\n",
       "    .dataframe tbody tr th:only-of-type {\n",
       "        vertical-align: middle;\n",
       "    }\n",
       "\n",
       "    .dataframe tbody tr th {\n",
       "        vertical-align: top;\n",
       "    }\n",
       "\n",
       "    .dataframe thead th {\n",
       "        text-align: right;\n",
       "    }\n",
       "</style>\n",
       "<table border=\"1\" class=\"dataframe\">\n",
       "  <thead>\n",
       "    <tr style=\"text-align: right;\">\n",
       "      <th></th>\n",
       "      <th>PRICE</th>\n",
       "    </tr>\n",
       "    <tr>\n",
       "      <th>COUNTRY</th>\n",
       "      <th></th>\n",
       "    </tr>\n",
       "  </thead>\n",
       "  <tbody>\n",
       "    <tr>\n",
       "      <th>bra</th>\n",
       "      <td>1496</td>\n",
       "    </tr>\n",
       "    <tr>\n",
       "      <th>can</th>\n",
       "      <td>230</td>\n",
       "    </tr>\n",
       "    <tr>\n",
       "      <th>deu</th>\n",
       "      <td>455</td>\n",
       "    </tr>\n",
       "    <tr>\n",
       "      <th>fra</th>\n",
       "      <td>303</td>\n",
       "    </tr>\n",
       "    <tr>\n",
       "      <th>tur</th>\n",
       "      <td>451</td>\n",
       "    </tr>\n",
       "    <tr>\n",
       "      <th>usa</th>\n",
       "      <td>2065</td>\n",
       "    </tr>\n",
       "  </tbody>\n",
       "</table>\n",
       "</div>"
      ],
      "text/plain": [
       "         PRICE\n",
       "COUNTRY       \n",
       "bra       1496\n",
       "can        230\n",
       "deu        455\n",
       "fra        303\n",
       "tur        451\n",
       "usa       2065"
      ]
     },
     "execution_count": 24,
     "metadata": {},
     "output_type": "execute_result"
    }
   ],
   "source": [
    "# alternatif 3\n",
    "\n",
    "df.pivot_table(values=\"PRICE\",index=\"COUNTRY\",aggfunc=\"count\")"
   ]
  },
  {
   "cell_type": "markdown",
   "id": "5124ec85",
   "metadata": {
    "papermill": {
     "duration": 0.014185,
     "end_time": "2025-02-25T11:06:34.704988",
     "exception": false,
     "start_time": "2025-02-25T11:06:34.690803",
     "status": "completed"
    },
    "tags": []
   },
   "source": [
    "Question 6: How much total revenue has been earned from sales in each country?"
   ]
  },
  {
   "cell_type": "code",
   "execution_count": 25,
   "id": "cb368d0e",
   "metadata": {
    "execution": {
     "iopub.execute_input": "2025-02-25T11:06:34.735025Z",
     "iopub.status.busy": "2025-02-25T11:06:34.734634Z",
     "iopub.status.idle": "2025-02-25T11:06:34.747327Z",
     "shell.execute_reply": "2025-02-25T11:06:34.746124Z"
    },
    "papermill": {
     "duration": 0.029815,
     "end_time": "2025-02-25T11:06:34.749329",
     "exception": false,
     "start_time": "2025-02-25T11:06:34.719514",
     "status": "completed"
    },
    "tags": []
   },
   "outputs": [
    {
     "data": {
      "text/plain": [
       "COUNTRY\n",
       "bra    51354\n",
       "can     7730\n",
       "deu    15485\n",
       "fra    10177\n",
       "tur    15689\n",
       "usa    70225\n",
       "Name: PRICE, dtype: int64"
      ]
     },
     "execution_count": 25,
     "metadata": {},
     "output_type": "execute_result"
    }
   ],
   "source": [
    "df.groupby(\"COUNTRY\")[\"PRICE\"].sum()"
   ]
  },
  {
   "cell_type": "markdown",
   "id": "24b1e281",
   "metadata": {
    "papermill": {
     "duration": 0.014412,
     "end_time": "2025-02-25T11:06:34.779299",
     "exception": false,
     "start_time": "2025-02-25T11:06:34.764887",
     "status": "completed"
    },
    "tags": []
   },
   "source": [
    "Alternative Solution-2"
   ]
  },
  {
   "cell_type": "code",
   "execution_count": 26,
   "id": "cc7da2b2",
   "metadata": {
    "execution": {
     "iopub.execute_input": "2025-02-25T11:06:34.809800Z",
     "iopub.status.busy": "2025-02-25T11:06:34.809382Z",
     "iopub.status.idle": "2025-02-25T11:06:34.820611Z",
     "shell.execute_reply": "2025-02-25T11:06:34.819508Z"
    },
    "papermill": {
     "duration": 0.028373,
     "end_time": "2025-02-25T11:06:34.822391",
     "exception": false,
     "start_time": "2025-02-25T11:06:34.794018",
     "status": "completed"
    },
    "tags": []
   },
   "outputs": [
    {
     "data": {
      "text/html": [
       "<div>\n",
       "<style scoped>\n",
       "    .dataframe tbody tr th:only-of-type {\n",
       "        vertical-align: middle;\n",
       "    }\n",
       "\n",
       "    .dataframe tbody tr th {\n",
       "        vertical-align: top;\n",
       "    }\n",
       "\n",
       "    .dataframe thead th {\n",
       "        text-align: right;\n",
       "    }\n",
       "</style>\n",
       "<table border=\"1\" class=\"dataframe\">\n",
       "  <thead>\n",
       "    <tr style=\"text-align: right;\">\n",
       "      <th></th>\n",
       "      <th>PRICE</th>\n",
       "    </tr>\n",
       "    <tr>\n",
       "      <th>COUNTRY</th>\n",
       "      <th></th>\n",
       "    </tr>\n",
       "  </thead>\n",
       "  <tbody>\n",
       "    <tr>\n",
       "      <th>bra</th>\n",
       "      <td>51354</td>\n",
       "    </tr>\n",
       "    <tr>\n",
       "      <th>can</th>\n",
       "      <td>7730</td>\n",
       "    </tr>\n",
       "    <tr>\n",
       "      <th>deu</th>\n",
       "      <td>15485</td>\n",
       "    </tr>\n",
       "    <tr>\n",
       "      <th>fra</th>\n",
       "      <td>10177</td>\n",
       "    </tr>\n",
       "    <tr>\n",
       "      <th>tur</th>\n",
       "      <td>15689</td>\n",
       "    </tr>\n",
       "    <tr>\n",
       "      <th>usa</th>\n",
       "      <td>70225</td>\n",
       "    </tr>\n",
       "  </tbody>\n",
       "</table>\n",
       "</div>"
      ],
      "text/plain": [
       "         PRICE\n",
       "COUNTRY       \n",
       "bra      51354\n",
       "can       7730\n",
       "deu      15485\n",
       "fra      10177\n",
       "tur      15689\n",
       "usa      70225"
      ]
     },
     "execution_count": 26,
     "metadata": {},
     "output_type": "execute_result"
    }
   ],
   "source": [
    "df.groupby(\"COUNTRY\").agg({\"PRICE\": \"sum\"})"
   ]
  },
  {
   "cell_type": "markdown",
   "id": "9fa86978",
   "metadata": {
    "papermill": {
     "duration": 0.014185,
     "end_time": "2025-02-25T11:06:34.851407",
     "exception": false,
     "start_time": "2025-02-25T11:06:34.837222",
     "status": "completed"
    },
    "tags": []
   },
   "source": [
    "Alternative Solution-3"
   ]
  },
  {
   "cell_type": "code",
   "execution_count": 27,
   "id": "cf944bc1",
   "metadata": {
    "execution": {
     "iopub.execute_input": "2025-02-25T11:06:34.935584Z",
     "iopub.status.busy": "2025-02-25T11:06:34.935126Z",
     "iopub.status.idle": "2025-02-25T11:06:34.947860Z",
     "shell.execute_reply": "2025-02-25T11:06:34.946818Z"
    },
    "papermill": {
     "duration": 0.029921,
     "end_time": "2025-02-25T11:06:34.949492",
     "exception": false,
     "start_time": "2025-02-25T11:06:34.919571",
     "status": "completed"
    },
    "tags": []
   },
   "outputs": [
    {
     "data": {
      "text/html": [
       "<div>\n",
       "<style scoped>\n",
       "    .dataframe tbody tr th:only-of-type {\n",
       "        vertical-align: middle;\n",
       "    }\n",
       "\n",
       "    .dataframe tbody tr th {\n",
       "        vertical-align: top;\n",
       "    }\n",
       "\n",
       "    .dataframe thead th {\n",
       "        text-align: right;\n",
       "    }\n",
       "</style>\n",
       "<table border=\"1\" class=\"dataframe\">\n",
       "  <thead>\n",
       "    <tr style=\"text-align: right;\">\n",
       "      <th></th>\n",
       "      <th>PRICE</th>\n",
       "    </tr>\n",
       "    <tr>\n",
       "      <th>COUNTRY</th>\n",
       "      <th></th>\n",
       "    </tr>\n",
       "  </thead>\n",
       "  <tbody>\n",
       "    <tr>\n",
       "      <th>bra</th>\n",
       "      <td>51354</td>\n",
       "    </tr>\n",
       "    <tr>\n",
       "      <th>can</th>\n",
       "      <td>7730</td>\n",
       "    </tr>\n",
       "    <tr>\n",
       "      <th>deu</th>\n",
       "      <td>15485</td>\n",
       "    </tr>\n",
       "    <tr>\n",
       "      <th>fra</th>\n",
       "      <td>10177</td>\n",
       "    </tr>\n",
       "    <tr>\n",
       "      <th>tur</th>\n",
       "      <td>15689</td>\n",
       "    </tr>\n",
       "    <tr>\n",
       "      <th>usa</th>\n",
       "      <td>70225</td>\n",
       "    </tr>\n",
       "  </tbody>\n",
       "</table>\n",
       "</div>"
      ],
      "text/plain": [
       "         PRICE\n",
       "COUNTRY       \n",
       "bra      51354\n",
       "can       7730\n",
       "deu      15485\n",
       "fra      10177\n",
       "tur      15689\n",
       "usa      70225"
      ]
     },
     "execution_count": 27,
     "metadata": {},
     "output_type": "execute_result"
    }
   ],
   "source": [
    "df.pivot_table(values=\"PRICE\",index=\"COUNTRY\",aggfunc=\"sum\")"
   ]
  },
  {
   "cell_type": "markdown",
   "id": "1cb54999",
   "metadata": {
    "papermill": {
     "duration": 0.014634,
     "end_time": "2025-02-25T11:06:34.979400",
     "exception": false,
     "start_time": "2025-02-25T11:06:34.964766",
     "status": "completed"
    },
    "tags": []
   },
   "source": [
    "Question 7: What are the sales numbers according to the different types of SOURCE?"
   ]
  },
  {
   "cell_type": "code",
   "execution_count": 28,
   "id": "d160c89a",
   "metadata": {
    "execution": {
     "iopub.execute_input": "2025-02-25T11:06:35.009737Z",
     "iopub.status.busy": "2025-02-25T11:06:35.009331Z",
     "iopub.status.idle": "2025-02-25T11:06:35.017050Z",
     "shell.execute_reply": "2025-02-25T11:06:35.016063Z"
    },
    "papermill": {
     "duration": 0.024707,
     "end_time": "2025-02-25T11:06:35.018616",
     "exception": false,
     "start_time": "2025-02-25T11:06:34.993909",
     "status": "completed"
    },
    "tags": []
   },
   "outputs": [
    {
     "data": {
      "text/plain": [
       "SOURCE\n",
       "android    2974\n",
       "ios        2026\n",
       "Name: count, dtype: int64"
      ]
     },
     "execution_count": 28,
     "metadata": {},
     "output_type": "execute_result"
    }
   ],
   "source": [
    "df[\"SOURCE\"].value_counts()"
   ]
  },
  {
   "cell_type": "markdown",
   "id": "7c302255",
   "metadata": {
    "papermill": {
     "duration": 0.014534,
     "end_time": "2025-02-25T11:06:35.048135",
     "exception": false,
     "start_time": "2025-02-25T11:06:35.033601",
     "status": "completed"
    },
    "tags": []
   },
   "source": [
    "Question 8: What are the average PRICEs by country?"
   ]
  },
  {
   "cell_type": "code",
   "execution_count": 29,
   "id": "7359dc50",
   "metadata": {
    "execution": {
     "iopub.execute_input": "2025-02-25T11:06:35.080229Z",
     "iopub.status.busy": "2025-02-25T11:06:35.079849Z",
     "iopub.status.idle": "2025-02-25T11:06:35.092351Z",
     "shell.execute_reply": "2025-02-25T11:06:35.091273Z"
    },
    "papermill": {
     "duration": 0.029979,
     "end_time": "2025-02-25T11:06:35.094154",
     "exception": false,
     "start_time": "2025-02-25T11:06:35.064175",
     "status": "completed"
    },
    "tags": []
   },
   "outputs": [
    {
     "data": {
      "text/html": [
       "<div>\n",
       "<style scoped>\n",
       "    .dataframe tbody tr th:only-of-type {\n",
       "        vertical-align: middle;\n",
       "    }\n",
       "\n",
       "    .dataframe tbody tr th {\n",
       "        vertical-align: top;\n",
       "    }\n",
       "\n",
       "    .dataframe thead th {\n",
       "        text-align: right;\n",
       "    }\n",
       "</style>\n",
       "<table border=\"1\" class=\"dataframe\">\n",
       "  <thead>\n",
       "    <tr style=\"text-align: right;\">\n",
       "      <th></th>\n",
       "      <th>PRICE</th>\n",
       "    </tr>\n",
       "    <tr>\n",
       "      <th>COUNTRY</th>\n",
       "      <th></th>\n",
       "    </tr>\n",
       "  </thead>\n",
       "  <tbody>\n",
       "    <tr>\n",
       "      <th>bra</th>\n",
       "      <td>34.327540</td>\n",
       "    </tr>\n",
       "    <tr>\n",
       "      <th>can</th>\n",
       "      <td>33.608696</td>\n",
       "    </tr>\n",
       "    <tr>\n",
       "      <th>deu</th>\n",
       "      <td>34.032967</td>\n",
       "    </tr>\n",
       "    <tr>\n",
       "      <th>fra</th>\n",
       "      <td>33.587459</td>\n",
       "    </tr>\n",
       "    <tr>\n",
       "      <th>tur</th>\n",
       "      <td>34.787140</td>\n",
       "    </tr>\n",
       "    <tr>\n",
       "      <th>usa</th>\n",
       "      <td>34.007264</td>\n",
       "    </tr>\n",
       "  </tbody>\n",
       "</table>\n",
       "</div>"
      ],
      "text/plain": [
       "             PRICE\n",
       "COUNTRY           \n",
       "bra      34.327540\n",
       "can      33.608696\n",
       "deu      34.032967\n",
       "fra      33.587459\n",
       "tur      34.787140\n",
       "usa      34.007264"
      ]
     },
     "execution_count": 29,
     "metadata": {},
     "output_type": "execute_result"
    }
   ],
   "source": [
    "df.groupby('COUNTRY').agg({\"PRICE\": \"mean\"})"
   ]
  },
  {
   "cell_type": "markdown",
   "id": "dc67487c",
   "metadata": {
    "papermill": {
     "duration": 0.01511,
     "end_time": "2025-02-25T11:06:35.124713",
     "exception": false,
     "start_time": "2025-02-25T11:06:35.109603",
     "status": "completed"
    },
    "tags": []
   },
   "source": [
    "Question 9: What are the average PRICEs by SOURCE?"
   ]
  },
  {
   "cell_type": "code",
   "execution_count": 30,
   "id": "cd341477",
   "metadata": {
    "execution": {
     "iopub.execute_input": "2025-02-25T11:06:35.156658Z",
     "iopub.status.busy": "2025-02-25T11:06:35.156252Z",
     "iopub.status.idle": "2025-02-25T11:06:35.167492Z",
     "shell.execute_reply": "2025-02-25T11:06:35.166511Z"
    },
    "papermill": {
     "duration": 0.029652,
     "end_time": "2025-02-25T11:06:35.169420",
     "exception": false,
     "start_time": "2025-02-25T11:06:35.139768",
     "status": "completed"
    },
    "tags": []
   },
   "outputs": [
    {
     "data": {
      "text/html": [
       "<div>\n",
       "<style scoped>\n",
       "    .dataframe tbody tr th:only-of-type {\n",
       "        vertical-align: middle;\n",
       "    }\n",
       "\n",
       "    .dataframe tbody tr th {\n",
       "        vertical-align: top;\n",
       "    }\n",
       "\n",
       "    .dataframe thead th {\n",
       "        text-align: right;\n",
       "    }\n",
       "</style>\n",
       "<table border=\"1\" class=\"dataframe\">\n",
       "  <thead>\n",
       "    <tr style=\"text-align: right;\">\n",
       "      <th></th>\n",
       "      <th>PRICE</th>\n",
       "    </tr>\n",
       "    <tr>\n",
       "      <th>SOURCE</th>\n",
       "      <th></th>\n",
       "    </tr>\n",
       "  </thead>\n",
       "  <tbody>\n",
       "    <tr>\n",
       "      <th>android</th>\n",
       "      <td>34.174849</td>\n",
       "    </tr>\n",
       "    <tr>\n",
       "      <th>ios</th>\n",
       "      <td>34.069102</td>\n",
       "    </tr>\n",
       "  </tbody>\n",
       "</table>\n",
       "</div>"
      ],
      "text/plain": [
       "             PRICE\n",
       "SOURCE            \n",
       "android  34.174849\n",
       "ios      34.069102"
      ]
     },
     "execution_count": 30,
     "metadata": {},
     "output_type": "execute_result"
    }
   ],
   "source": [
    "df.groupby('SOURCE').agg({\"PRICE\": \"mean\"})"
   ]
  },
  {
   "cell_type": "markdown",
   "id": "bac979f4",
   "metadata": {
    "papermill": {
     "duration": 0.014982,
     "end_time": "2025-02-25T11:06:35.199670",
     "exception": false,
     "start_time": "2025-02-25T11:06:35.184688",
     "status": "completed"
    },
    "tags": []
   },
   "source": [
    "Question 10: What are the average PRICEs by COUNTRY and SOURCE breakdown?"
   ]
  },
  {
   "cell_type": "code",
   "execution_count": 31,
   "id": "5c2b6ef0",
   "metadata": {
    "execution": {
     "iopub.execute_input": "2025-02-25T11:06:35.232157Z",
     "iopub.status.busy": "2025-02-25T11:06:35.231769Z",
     "iopub.status.idle": "2025-02-25T11:06:35.246775Z",
     "shell.execute_reply": "2025-02-25T11:06:35.245665Z"
    },
    "papermill": {
     "duration": 0.033725,
     "end_time": "2025-02-25T11:06:35.248616",
     "exception": false,
     "start_time": "2025-02-25T11:06:35.214891",
     "status": "completed"
    },
    "tags": []
   },
   "outputs": [
    {
     "data": {
      "text/html": [
       "<div>\n",
       "<style scoped>\n",
       "    .dataframe tbody tr th:only-of-type {\n",
       "        vertical-align: middle;\n",
       "    }\n",
       "\n",
       "    .dataframe tbody tr th {\n",
       "        vertical-align: top;\n",
       "    }\n",
       "\n",
       "    .dataframe thead th {\n",
       "        text-align: right;\n",
       "    }\n",
       "</style>\n",
       "<table border=\"1\" class=\"dataframe\">\n",
       "  <thead>\n",
       "    <tr style=\"text-align: right;\">\n",
       "      <th></th>\n",
       "      <th></th>\n",
       "      <th>PRICE</th>\n",
       "    </tr>\n",
       "    <tr>\n",
       "      <th>COUNTRY</th>\n",
       "      <th>SOURCE</th>\n",
       "      <th></th>\n",
       "    </tr>\n",
       "  </thead>\n",
       "  <tbody>\n",
       "    <tr>\n",
       "      <th rowspan=\"2\" valign=\"top\">bra</th>\n",
       "      <th>android</th>\n",
       "      <td>34.387029</td>\n",
       "    </tr>\n",
       "    <tr>\n",
       "      <th>ios</th>\n",
       "      <td>34.222222</td>\n",
       "    </tr>\n",
       "    <tr>\n",
       "      <th rowspan=\"2\" valign=\"top\">can</th>\n",
       "      <th>android</th>\n",
       "      <td>33.330709</td>\n",
       "    </tr>\n",
       "    <tr>\n",
       "      <th>ios</th>\n",
       "      <td>33.951456</td>\n",
       "    </tr>\n",
       "    <tr>\n",
       "      <th rowspan=\"2\" valign=\"top\">deu</th>\n",
       "      <th>android</th>\n",
       "      <td>33.869888</td>\n",
       "    </tr>\n",
       "    <tr>\n",
       "      <th>ios</th>\n",
       "      <td>34.268817</td>\n",
       "    </tr>\n",
       "    <tr>\n",
       "      <th rowspan=\"2\" valign=\"top\">fra</th>\n",
       "      <th>android</th>\n",
       "      <td>34.312500</td>\n",
       "    </tr>\n",
       "    <tr>\n",
       "      <th>ios</th>\n",
       "      <td>32.776224</td>\n",
       "    </tr>\n",
       "    <tr>\n",
       "      <th rowspan=\"2\" valign=\"top\">tur</th>\n",
       "      <th>android</th>\n",
       "      <td>36.229437</td>\n",
       "    </tr>\n",
       "    <tr>\n",
       "      <th>ios</th>\n",
       "      <td>33.272727</td>\n",
       "    </tr>\n",
       "    <tr>\n",
       "      <th rowspan=\"2\" valign=\"top\">usa</th>\n",
       "      <th>android</th>\n",
       "      <td>33.760357</td>\n",
       "    </tr>\n",
       "    <tr>\n",
       "      <th>ios</th>\n",
       "      <td>34.371703</td>\n",
       "    </tr>\n",
       "  </tbody>\n",
       "</table>\n",
       "</div>"
      ],
      "text/plain": [
       "                     PRICE\n",
       "COUNTRY SOURCE            \n",
       "bra     android  34.387029\n",
       "        ios      34.222222\n",
       "can     android  33.330709\n",
       "        ios      33.951456\n",
       "deu     android  33.869888\n",
       "        ios      34.268817\n",
       "fra     android  34.312500\n",
       "        ios      32.776224\n",
       "tur     android  36.229437\n",
       "        ios      33.272727\n",
       "usa     android  33.760357\n",
       "        ios      34.371703"
      ]
     },
     "execution_count": 31,
     "metadata": {},
     "output_type": "execute_result"
    }
   ],
   "source": [
    "df.groupby([\"COUNTRY\", 'SOURCE']).agg({\"PRICE\": \"mean\"})"
   ]
  },
  {
   "cell_type": "markdown",
   "id": "744f23fc",
   "metadata": {
    "papermill": {
     "duration": 0.015203,
     "end_time": "2025-02-25T11:06:35.279358",
     "exception": false,
     "start_time": "2025-02-25T11:06:35.264155",
     "status": "completed"
    },
    "tags": []
   },
   "source": [
    "TASK 2: What are the average earnings by COUNTRY, SOURCE, SEX, and AGE breakdown?"
   ]
  },
  {
   "cell_type": "code",
   "execution_count": 32,
   "id": "cabecbb5",
   "metadata": {
    "execution": {
     "iopub.execute_input": "2025-02-25T11:06:35.311238Z",
     "iopub.status.busy": "2025-02-25T11:06:35.310899Z",
     "iopub.status.idle": "2025-02-25T11:06:35.325656Z",
     "shell.execute_reply": "2025-02-25T11:06:35.324416Z"
    },
    "papermill": {
     "duration": 0.032613,
     "end_time": "2025-02-25T11:06:35.327468",
     "exception": false,
     "start_time": "2025-02-25T11:06:35.294855",
     "status": "completed"
    },
    "tags": []
   },
   "outputs": [
    {
     "data": {
      "text/html": [
       "<div>\n",
       "<style scoped>\n",
       "    .dataframe tbody tr th:only-of-type {\n",
       "        vertical-align: middle;\n",
       "    }\n",
       "\n",
       "    .dataframe tbody tr th {\n",
       "        vertical-align: top;\n",
       "    }\n",
       "\n",
       "    .dataframe thead th {\n",
       "        text-align: right;\n",
       "    }\n",
       "</style>\n",
       "<table border=\"1\" class=\"dataframe\">\n",
       "  <thead>\n",
       "    <tr style=\"text-align: right;\">\n",
       "      <th></th>\n",
       "      <th></th>\n",
       "      <th></th>\n",
       "      <th></th>\n",
       "      <th>PRICE</th>\n",
       "    </tr>\n",
       "    <tr>\n",
       "      <th>COUNTRY</th>\n",
       "      <th>SOURCE</th>\n",
       "      <th>SEX</th>\n",
       "      <th>AGE</th>\n",
       "      <th></th>\n",
       "    </tr>\n",
       "  </thead>\n",
       "  <tbody>\n",
       "    <tr>\n",
       "      <th rowspan=\"5\" valign=\"top\">bra</th>\n",
       "      <th rowspan=\"5\" valign=\"top\">android</th>\n",
       "      <th rowspan=\"5\" valign=\"top\">female</th>\n",
       "      <th>15</th>\n",
       "      <td>38.714286</td>\n",
       "    </tr>\n",
       "    <tr>\n",
       "      <th>16</th>\n",
       "      <td>35.944444</td>\n",
       "    </tr>\n",
       "    <tr>\n",
       "      <th>17</th>\n",
       "      <td>35.666667</td>\n",
       "    </tr>\n",
       "    <tr>\n",
       "      <th>18</th>\n",
       "      <td>32.255814</td>\n",
       "    </tr>\n",
       "    <tr>\n",
       "      <th>19</th>\n",
       "      <td>35.206897</td>\n",
       "    </tr>\n",
       "  </tbody>\n",
       "</table>\n",
       "</div>"
      ],
      "text/plain": [
       "                                PRICE\n",
       "COUNTRY SOURCE  SEX    AGE           \n",
       "bra     android female 15   38.714286\n",
       "                       16   35.944444\n",
       "                       17   35.666667\n",
       "                       18   32.255814\n",
       "                       19   35.206897"
      ]
     },
     "execution_count": 32,
     "metadata": {},
     "output_type": "execute_result"
    }
   ],
   "source": [
    "df.groupby([\"COUNTRY\", 'SOURCE', \"SEX\", \"AGE\"]).agg({\"PRICE\": \"mean\"}).head()"
   ]
  },
  {
   "cell_type": "markdown",
   "id": "074381f1",
   "metadata": {
    "papermill": {
     "duration": 0.015182,
     "end_time": "2025-02-25T11:06:35.358385",
     "exception": false,
     "start_time": "2025-02-25T11:06:35.343203",
     "status": "completed"
    },
    "tags": []
   },
   "source": [
    "TASK 3: Sort the output by PRICE.\n",
    "\n",
    "To better view the output from the previous question, apply the sort_values method in descending order based on PRICE. Save the result as agg_df."
   ]
  },
  {
   "cell_type": "code",
   "execution_count": 33,
   "id": "02c0ab83",
   "metadata": {
    "execution": {
     "iopub.execute_input": "2025-02-25T11:06:35.390168Z",
     "iopub.status.busy": "2025-02-25T11:06:35.389827Z",
     "iopub.status.idle": "2025-02-25T11:06:35.404731Z",
     "shell.execute_reply": "2025-02-25T11:06:35.403758Z"
    },
    "papermill": {
     "duration": 0.032729,
     "end_time": "2025-02-25T11:06:35.406325",
     "exception": false,
     "start_time": "2025-02-25T11:06:35.373596",
     "status": "completed"
    },
    "tags": []
   },
   "outputs": [
    {
     "data": {
      "text/html": [
       "<div>\n",
       "<style scoped>\n",
       "    .dataframe tbody tr th:only-of-type {\n",
       "        vertical-align: middle;\n",
       "    }\n",
       "\n",
       "    .dataframe tbody tr th {\n",
       "        vertical-align: top;\n",
       "    }\n",
       "\n",
       "    .dataframe thead th {\n",
       "        text-align: right;\n",
       "    }\n",
       "</style>\n",
       "<table border=\"1\" class=\"dataframe\">\n",
       "  <thead>\n",
       "    <tr style=\"text-align: right;\">\n",
       "      <th></th>\n",
       "      <th></th>\n",
       "      <th></th>\n",
       "      <th></th>\n",
       "      <th>PRICE</th>\n",
       "    </tr>\n",
       "    <tr>\n",
       "      <th>COUNTRY</th>\n",
       "      <th>SOURCE</th>\n",
       "      <th>SEX</th>\n",
       "      <th>AGE</th>\n",
       "      <th></th>\n",
       "    </tr>\n",
       "  </thead>\n",
       "  <tbody>\n",
       "    <tr>\n",
       "      <th>bra</th>\n",
       "      <th>android</th>\n",
       "      <th>male</th>\n",
       "      <th>46</th>\n",
       "      <td>59.0</td>\n",
       "    </tr>\n",
       "    <tr>\n",
       "      <th>usa</th>\n",
       "      <th>android</th>\n",
       "      <th>male</th>\n",
       "      <th>36</th>\n",
       "      <td>59.0</td>\n",
       "    </tr>\n",
       "    <tr>\n",
       "      <th>fra</th>\n",
       "      <th>android</th>\n",
       "      <th>female</th>\n",
       "      <th>24</th>\n",
       "      <td>59.0</td>\n",
       "    </tr>\n",
       "    <tr>\n",
       "      <th>usa</th>\n",
       "      <th>ios</th>\n",
       "      <th>male</th>\n",
       "      <th>32</th>\n",
       "      <td>54.0</td>\n",
       "    </tr>\n",
       "    <tr>\n",
       "      <th>deu</th>\n",
       "      <th>android</th>\n",
       "      <th>female</th>\n",
       "      <th>36</th>\n",
       "      <td>49.0</td>\n",
       "    </tr>\n",
       "  </tbody>\n",
       "</table>\n",
       "</div>"
      ],
      "text/plain": [
       "                            PRICE\n",
       "COUNTRY SOURCE  SEX    AGE       \n",
       "bra     android male   46    59.0\n",
       "usa     android male   36    59.0\n",
       "fra     android female 24    59.0\n",
       "usa     ios     male   32    54.0\n",
       "deu     android female 36    49.0"
      ]
     },
     "execution_count": 33,
     "metadata": {},
     "output_type": "execute_result"
    }
   ],
   "source": [
    "agg_df = df.groupby(by=[\"COUNTRY\", 'SOURCE', \"SEX\", \"AGE\"]).agg({\"PRICE\": \"mean\"}).sort_values(\"PRICE\", ascending=False)\n",
    "agg_df.head()"
   ]
  },
  {
   "cell_type": "markdown",
   "id": "36e46d02",
   "metadata": {
    "papermill": {
     "duration": 0.01516,
     "end_time": "2025-02-25T11:06:35.437311",
     "exception": false,
     "start_time": "2025-02-25T11:06:35.422151",
     "status": "completed"
    },
    "tags": []
   },
   "source": [
    "TASK 4: Convert the names in the index to variable names.\n",
    "\n",
    "In the output from the third task, all variables except for PRICE are index names. Convert these index names into variable names.\n",
    "\n",
    "Hint: Use reset_index()"
   ]
  },
  {
   "cell_type": "code",
   "execution_count": 34,
   "id": "5975bdfd",
   "metadata": {
    "execution": {
     "iopub.execute_input": "2025-02-25T11:06:35.469917Z",
     "iopub.status.busy": "2025-02-25T11:06:35.469538Z",
     "iopub.status.idle": "2025-02-25T11:06:35.482132Z",
     "shell.execute_reply": "2025-02-25T11:06:35.481024Z"
    },
    "papermill": {
     "duration": 0.030979,
     "end_time": "2025-02-25T11:06:35.483921",
     "exception": false,
     "start_time": "2025-02-25T11:06:35.452942",
     "status": "completed"
    },
    "tags": []
   },
   "outputs": [
    {
     "data": {
      "text/html": [
       "<div>\n",
       "<style scoped>\n",
       "    .dataframe tbody tr th:only-of-type {\n",
       "        vertical-align: middle;\n",
       "    }\n",
       "\n",
       "    .dataframe tbody tr th {\n",
       "        vertical-align: top;\n",
       "    }\n",
       "\n",
       "    .dataframe thead th {\n",
       "        text-align: right;\n",
       "    }\n",
       "</style>\n",
       "<table border=\"1\" class=\"dataframe\">\n",
       "  <thead>\n",
       "    <tr style=\"text-align: right;\">\n",
       "      <th></th>\n",
       "      <th>COUNTRY</th>\n",
       "      <th>SOURCE</th>\n",
       "      <th>SEX</th>\n",
       "      <th>AGE</th>\n",
       "      <th>PRICE</th>\n",
       "    </tr>\n",
       "  </thead>\n",
       "  <tbody>\n",
       "    <tr>\n",
       "      <th>0</th>\n",
       "      <td>bra</td>\n",
       "      <td>android</td>\n",
       "      <td>male</td>\n",
       "      <td>46</td>\n",
       "      <td>59.0</td>\n",
       "    </tr>\n",
       "    <tr>\n",
       "      <th>1</th>\n",
       "      <td>usa</td>\n",
       "      <td>android</td>\n",
       "      <td>male</td>\n",
       "      <td>36</td>\n",
       "      <td>59.0</td>\n",
       "    </tr>\n",
       "    <tr>\n",
       "      <th>2</th>\n",
       "      <td>fra</td>\n",
       "      <td>android</td>\n",
       "      <td>female</td>\n",
       "      <td>24</td>\n",
       "      <td>59.0</td>\n",
       "    </tr>\n",
       "    <tr>\n",
       "      <th>3</th>\n",
       "      <td>usa</td>\n",
       "      <td>ios</td>\n",
       "      <td>male</td>\n",
       "      <td>32</td>\n",
       "      <td>54.0</td>\n",
       "    </tr>\n",
       "    <tr>\n",
       "      <th>4</th>\n",
       "      <td>deu</td>\n",
       "      <td>android</td>\n",
       "      <td>female</td>\n",
       "      <td>36</td>\n",
       "      <td>49.0</td>\n",
       "    </tr>\n",
       "  </tbody>\n",
       "</table>\n",
       "</div>"
      ],
      "text/plain": [
       "  COUNTRY   SOURCE     SEX  AGE  PRICE\n",
       "0     bra  android    male   46   59.0\n",
       "1     usa  android    male   36   59.0\n",
       "2     fra  android  female   24   59.0\n",
       "3     usa      ios    male   32   54.0\n",
       "4     deu  android  female   36   49.0"
      ]
     },
     "execution_count": 34,
     "metadata": {},
     "output_type": "execute_result"
    }
   ],
   "source": [
    "agg_df = agg_df.reset_index()\n",
    "agg_df.head()"
   ]
  },
  {
   "cell_type": "markdown",
   "id": "800c8f12",
   "metadata": {
    "papermill": {
     "duration": 0.01558,
     "end_time": "2025-02-25T11:06:35.515485",
     "exception": false,
     "start_time": "2025-02-25T11:06:35.499905",
     "status": "completed"
    },
    "tags": []
   },
   "source": [
    "TASK 5: Convert the AGE variable into a categorical variable and add it to agg_df.\n",
    "\n",
    "Convert the AGE numerical variable into a categorical variable. Create intervals that you think are convincing, for example: '0_18', '19_23', '24_30', '31_40', '41_70'."
   ]
  },
  {
   "cell_type": "code",
   "execution_count": 35,
   "id": "b592e183",
   "metadata": {
    "execution": {
     "iopub.execute_input": "2025-02-25T11:06:35.548259Z",
     "iopub.status.busy": "2025-02-25T11:06:35.547917Z",
     "iopub.status.idle": "2025-02-25T11:06:35.563380Z",
     "shell.execute_reply": "2025-02-25T11:06:35.562465Z"
    },
    "papermill": {
     "duration": 0.034042,
     "end_time": "2025-02-25T11:06:35.565098",
     "exception": false,
     "start_time": "2025-02-25T11:06:35.531056",
     "status": "completed"
    },
    "tags": []
   },
   "outputs": [
    {
     "data": {
      "text/html": [
       "<div>\n",
       "<style scoped>\n",
       "    .dataframe tbody tr th:only-of-type {\n",
       "        vertical-align: middle;\n",
       "    }\n",
       "\n",
       "    .dataframe tbody tr th {\n",
       "        vertical-align: top;\n",
       "    }\n",
       "\n",
       "    .dataframe thead th {\n",
       "        text-align: right;\n",
       "    }\n",
       "</style>\n",
       "<table border=\"1\" class=\"dataframe\">\n",
       "  <thead>\n",
       "    <tr style=\"text-align: right;\">\n",
       "      <th></th>\n",
       "      <th>COUNTRY</th>\n",
       "      <th>SOURCE</th>\n",
       "      <th>SEX</th>\n",
       "      <th>AGE</th>\n",
       "      <th>PRICE</th>\n",
       "      <th>AGE_CAT</th>\n",
       "    </tr>\n",
       "  </thead>\n",
       "  <tbody>\n",
       "    <tr>\n",
       "      <th>0</th>\n",
       "      <td>bra</td>\n",
       "      <td>android</td>\n",
       "      <td>male</td>\n",
       "      <td>46</td>\n",
       "      <td>59.0</td>\n",
       "      <td>41_66</td>\n",
       "    </tr>\n",
       "    <tr>\n",
       "      <th>1</th>\n",
       "      <td>usa</td>\n",
       "      <td>android</td>\n",
       "      <td>male</td>\n",
       "      <td>36</td>\n",
       "      <td>59.0</td>\n",
       "      <td>31_40</td>\n",
       "    </tr>\n",
       "    <tr>\n",
       "      <th>2</th>\n",
       "      <td>fra</td>\n",
       "      <td>android</td>\n",
       "      <td>female</td>\n",
       "      <td>24</td>\n",
       "      <td>59.0</td>\n",
       "      <td>24_30</td>\n",
       "    </tr>\n",
       "    <tr>\n",
       "      <th>3</th>\n",
       "      <td>usa</td>\n",
       "      <td>ios</td>\n",
       "      <td>male</td>\n",
       "      <td>32</td>\n",
       "      <td>54.0</td>\n",
       "      <td>31_40</td>\n",
       "    </tr>\n",
       "    <tr>\n",
       "      <th>4</th>\n",
       "      <td>deu</td>\n",
       "      <td>android</td>\n",
       "      <td>female</td>\n",
       "      <td>36</td>\n",
       "      <td>49.0</td>\n",
       "      <td>31_40</td>\n",
       "    </tr>\n",
       "  </tbody>\n",
       "</table>\n",
       "</div>"
      ],
      "text/plain": [
       "  COUNTRY   SOURCE     SEX  AGE  PRICE AGE_CAT\n",
       "0     bra  android    male   46   59.0   41_66\n",
       "1     usa  android    male   36   59.0   31_40\n",
       "2     fra  android  female   24   59.0   24_30\n",
       "3     usa      ios    male   32   54.0   31_40\n",
       "4     deu  android  female   36   49.0   31_40"
      ]
     },
     "execution_count": 35,
     "metadata": {},
     "output_type": "execute_result"
    }
   ],
   "source": [
    "# AGE değişkeninin nerelerden bölüneceğini belirtelim:\n",
    "\n",
    "bins = [0, 18, 23, 30, 40, agg_df[\"AGE\"].max()]\n",
    "\n",
    "# Bölünen noktalara karşılık isimlendirmelerin ne olacağını ifade edelim:\n",
    "\n",
    "mylabels = ['0_18', '19_23', '24_30', '31_40', '41_' + str(agg_df[\"AGE\"].max())]\n",
    "\n",
    "# age'i bölelim:\n",
    "\n",
    "agg_df[\"AGE_CAT\"] = pd.cut(agg_df[\"AGE\"], bins, labels=mylabels)\n",
    "\n",
    "agg_df.head()"
   ]
  },
  {
   "cell_type": "markdown",
   "id": "97300aaa",
   "metadata": {
    "papermill": {
     "duration": 0.015842,
     "end_time": "2025-02-25T11:06:35.597150",
     "exception": false,
     "start_time": "2025-02-25T11:06:35.581308",
     "status": "completed"
    },
    "tags": []
   },
   "source": [
    "TASK 6: Define the new level-based customers and add them as a variable to the dataset.\n",
    "\n",
    "Define a new variable called customers_level_based and add this variable to the dataset.\n",
    "\n",
    "Important: After the customers_level_based values are created using a list comprehension, they need to be deduplicated. For example, multiple entries like USA_ANDROID_MALE_0_18 might exist. These should be grouped by GROUPBY and average PRICE should be calculated for each group."
   ]
  },
  {
   "cell_type": "code",
   "execution_count": 36,
   "id": "d92bfa5b",
   "metadata": {
    "execution": {
     "iopub.execute_input": "2025-02-25T11:06:35.630758Z",
     "iopub.status.busy": "2025-02-25T11:06:35.630386Z",
     "iopub.status.idle": "2025-02-25T11:06:35.636130Z",
     "shell.execute_reply": "2025-02-25T11:06:35.635142Z"
    },
    "papermill": {
     "duration": 0.024188,
     "end_time": "2025-02-25T11:06:35.637754",
     "exception": false,
     "start_time": "2025-02-25T11:06:35.613566",
     "status": "completed"
    },
    "tags": []
   },
   "outputs": [
    {
     "data": {
      "text/plain": [
       "Index(['COUNTRY', 'SOURCE', 'SEX', 'AGE', 'PRICE', 'AGE_CAT'], dtype='object')"
      ]
     },
     "execution_count": 36,
     "metadata": {},
     "output_type": "execute_result"
    }
   ],
   "source": [
    "agg_df.columns # değişken isimleri"
   ]
  },
  {
   "cell_type": "code",
   "execution_count": 37,
   "id": "6aa7765c",
   "metadata": {
    "execution": {
     "iopub.execute_input": "2025-02-25T11:06:35.671972Z",
     "iopub.status.busy": "2025-02-25T11:06:35.671412Z",
     "iopub.status.idle": "2025-02-25T11:06:35.683421Z",
     "shell.execute_reply": "2025-02-25T11:06:35.682277Z"
    },
    "papermill": {
     "duration": 0.031033,
     "end_time": "2025-02-25T11:06:35.685242",
     "exception": false,
     "start_time": "2025-02-25T11:06:35.654209",
     "status": "completed"
    },
    "tags": []
   },
   "outputs": [
    {
     "name": "stdout",
     "output_type": "stream",
     "text": [
      "['bra' 'android' 'male' 46 59.0 '41_66']\n",
      "['usa' 'android' 'male' 36 59.0 '31_40']\n",
      "['fra' 'android' 'female' 24 59.0 '24_30']\n",
      "['usa' 'ios' 'male' 32 54.0 '31_40']\n",
      "['deu' 'android' 'female' 36 49.0 '31_40']\n",
      "['deu' 'android' 'female' 51 49.0 '41_66']\n",
      "['deu' 'ios' 'male' 20 49.0 '19_23']\n",
      "['usa' 'android' 'female' 47 49.0 '41_66']\n",
      "['fra' 'ios' 'male' 20 49.0 '19_23']\n",
      "['usa' 'ios' 'male' 59 46.5 '41_66']\n",
      "['deu' 'android' 'male' 15 46.5 '0_18']\n",
      "['bra' 'android' 'female' 30 45.666666666666664 '24_30']\n",
      "['usa' 'android' 'female' 61 45.666666666666664 '41_66']\n",
      "['tur' 'ios' 'male' 24 45.0 '24_30']\n",
      "['deu' 'android' 'male' 34 45.0 '31_40']\n",
      "['tur' 'ios' 'female' 18 44.0 '0_18']\n",
      "['bra' 'android' 'female' 43 44.0 '41_66']\n",
      "['bra' 'ios' 'female' 22 44.0 '19_23']\n",
      "['tur' 'android' 'female' 32 43.0 '31_40']\n",
      "['bra' 'android' 'female' 39 43.0 '31_40']\n"
     ]
    }
   ],
   "source": [
    "# gözlem değerlerine erişmek için:\n",
    "\n",
    "for row in agg_df.head(20).values:\n",
    "    print(row)\n",
    "\n",
    "# agg_df.values, dataframe'in tüm verilerini Numpy array'i olarak döndürüyor"
   ]
  },
  {
   "cell_type": "code",
   "execution_count": 38,
   "id": "ebf935bb",
   "metadata": {
    "execution": {
     "iopub.execute_input": "2025-02-25T11:06:35.719218Z",
     "iopub.status.busy": "2025-02-25T11:06:35.718889Z",
     "iopub.status.idle": "2025-02-25T11:06:35.734717Z",
     "shell.execute_reply": "2025-02-25T11:06:35.733661Z"
    },
    "papermill": {
     "duration": 0.034684,
     "end_time": "2025-02-25T11:06:35.736450",
     "exception": false,
     "start_time": "2025-02-25T11:06:35.701766",
     "status": "completed"
    },
    "tags": []
   },
   "outputs": [
    {
     "data": {
      "text/html": [
       "<div>\n",
       "<style scoped>\n",
       "    .dataframe tbody tr th:only-of-type {\n",
       "        vertical-align: middle;\n",
       "    }\n",
       "\n",
       "    .dataframe tbody tr th {\n",
       "        vertical-align: top;\n",
       "    }\n",
       "\n",
       "    .dataframe thead th {\n",
       "        text-align: right;\n",
       "    }\n",
       "</style>\n",
       "<table border=\"1\" class=\"dataframe\">\n",
       "  <thead>\n",
       "    <tr style=\"text-align: right;\">\n",
       "      <th></th>\n",
       "      <th>COUNTRY</th>\n",
       "      <th>SOURCE</th>\n",
       "      <th>SEX</th>\n",
       "      <th>AGE</th>\n",
       "      <th>PRICE</th>\n",
       "      <th>AGE_CAT</th>\n",
       "      <th>customers_level_based</th>\n",
       "    </tr>\n",
       "  </thead>\n",
       "  <tbody>\n",
       "    <tr>\n",
       "      <th>0</th>\n",
       "      <td>bra</td>\n",
       "      <td>android</td>\n",
       "      <td>male</td>\n",
       "      <td>46</td>\n",
       "      <td>59.0</td>\n",
       "      <td>41_66</td>\n",
       "      <td>BRA_ANDROID_MALE_41_66</td>\n",
       "    </tr>\n",
       "    <tr>\n",
       "      <th>1</th>\n",
       "      <td>usa</td>\n",
       "      <td>android</td>\n",
       "      <td>male</td>\n",
       "      <td>36</td>\n",
       "      <td>59.0</td>\n",
       "      <td>31_40</td>\n",
       "      <td>USA_ANDROID_MALE_31_40</td>\n",
       "    </tr>\n",
       "    <tr>\n",
       "      <th>2</th>\n",
       "      <td>fra</td>\n",
       "      <td>android</td>\n",
       "      <td>female</td>\n",
       "      <td>24</td>\n",
       "      <td>59.0</td>\n",
       "      <td>24_30</td>\n",
       "      <td>FRA_ANDROID_FEMALE_24_30</td>\n",
       "    </tr>\n",
       "    <tr>\n",
       "      <th>3</th>\n",
       "      <td>usa</td>\n",
       "      <td>ios</td>\n",
       "      <td>male</td>\n",
       "      <td>32</td>\n",
       "      <td>54.0</td>\n",
       "      <td>31_40</td>\n",
       "      <td>USA_IOS_MALE_31_40</td>\n",
       "    </tr>\n",
       "    <tr>\n",
       "      <th>4</th>\n",
       "      <td>deu</td>\n",
       "      <td>android</td>\n",
       "      <td>female</td>\n",
       "      <td>36</td>\n",
       "      <td>49.0</td>\n",
       "      <td>31_40</td>\n",
       "      <td>DEU_ANDROID_FEMALE_31_40</td>\n",
       "    </tr>\n",
       "  </tbody>\n",
       "</table>\n",
       "</div>"
      ],
      "text/plain": [
       "  COUNTRY   SOURCE     SEX  AGE  PRICE AGE_CAT     customers_level_based\n",
       "0     bra  android    male   46   59.0   41_66    BRA_ANDROID_MALE_41_66\n",
       "1     usa  android    male   36   59.0   31_40    USA_ANDROID_MALE_31_40\n",
       "2     fra  android  female   24   59.0   24_30  FRA_ANDROID_FEMALE_24_30\n",
       "3     usa      ios    male   32   54.0   31_40        USA_IOS_MALE_31_40\n",
       "4     deu  android  female   36   49.0   31_40  DEU_ANDROID_FEMALE_31_40"
      ]
     },
     "execution_count": 38,
     "metadata": {},
     "output_type": "execute_result"
    }
   ],
   "source": [
    "# COUNTRY, SOURCE, SEX ve AGE_CAT değişkenlerinin DEĞERLERİNİ yan yana koymak ve alt tireyle birleştirmek istiyoruz:\n",
    "\n",
    "[row[0].upper() + \"_\" + row[1].upper() + \"_\" + row[2].upper() + \"_\" + row[5].upper() for row in agg_df.values]\n",
    "\n",
    "# Veri setine ekleyelim:\n",
    "\n",
    "agg_df[\"customers_level_based\"] = [row[0].upper() + \"_\" + row[1].upper() + \"_\" + row[2].upper() + \"_\" + row[5].upper() for row in agg_df.values]\n",
    "agg_df.head()"
   ]
  },
  {
   "cell_type": "code",
   "execution_count": 39,
   "id": "1386d140",
   "metadata": {
    "execution": {
     "iopub.execute_input": "2025-02-25T11:06:35.770663Z",
     "iopub.status.busy": "2025-02-25T11:06:35.770267Z",
     "iopub.status.idle": "2025-02-25T11:06:35.780599Z",
     "shell.execute_reply": "2025-02-25T11:06:35.779684Z"
    },
    "papermill": {
     "duration": 0.029185,
     "end_time": "2025-02-25T11:06:35.782330",
     "exception": false,
     "start_time": "2025-02-25T11:06:35.753145",
     "status": "completed"
    },
    "tags": []
   },
   "outputs": [
    {
     "data": {
      "text/html": [
       "<div>\n",
       "<style scoped>\n",
       "    .dataframe tbody tr th:only-of-type {\n",
       "        vertical-align: middle;\n",
       "    }\n",
       "\n",
       "    .dataframe tbody tr th {\n",
       "        vertical-align: top;\n",
       "    }\n",
       "\n",
       "    .dataframe thead th {\n",
       "        text-align: right;\n",
       "    }\n",
       "</style>\n",
       "<table border=\"1\" class=\"dataframe\">\n",
       "  <thead>\n",
       "    <tr style=\"text-align: right;\">\n",
       "      <th></th>\n",
       "      <th>customers_level_based</th>\n",
       "      <th>PRICE</th>\n",
       "    </tr>\n",
       "  </thead>\n",
       "  <tbody>\n",
       "    <tr>\n",
       "      <th>0</th>\n",
       "      <td>BRA_ANDROID_MALE_41_66</td>\n",
       "      <td>59.0</td>\n",
       "    </tr>\n",
       "    <tr>\n",
       "      <th>1</th>\n",
       "      <td>USA_ANDROID_MALE_31_40</td>\n",
       "      <td>59.0</td>\n",
       "    </tr>\n",
       "    <tr>\n",
       "      <th>2</th>\n",
       "      <td>FRA_ANDROID_FEMALE_24_30</td>\n",
       "      <td>59.0</td>\n",
       "    </tr>\n",
       "    <tr>\n",
       "      <th>3</th>\n",
       "      <td>USA_IOS_MALE_31_40</td>\n",
       "      <td>54.0</td>\n",
       "    </tr>\n",
       "    <tr>\n",
       "      <th>4</th>\n",
       "      <td>DEU_ANDROID_FEMALE_31_40</td>\n",
       "      <td>49.0</td>\n",
       "    </tr>\n",
       "  </tbody>\n",
       "</table>\n",
       "</div>"
      ],
      "text/plain": [
       "      customers_level_based  PRICE\n",
       "0    BRA_ANDROID_MALE_41_66   59.0\n",
       "1    USA_ANDROID_MALE_31_40   59.0\n",
       "2  FRA_ANDROID_FEMALE_24_30   59.0\n",
       "3        USA_IOS_MALE_31_40   54.0\n",
       "4  DEU_ANDROID_FEMALE_31_40   49.0"
      ]
     },
     "execution_count": 39,
     "metadata": {},
     "output_type": "execute_result"
    }
   ],
   "source": [
    "# Gereksiz değişkenleri çıkaralım:\n",
    "\n",
    "agg_df = agg_df[[\"customers_level_based\", \"PRICE\"]]\n",
    "agg_df.head()"
   ]
  },
  {
   "cell_type": "code",
   "execution_count": 40,
   "id": "55625e82",
   "metadata": {
    "execution": {
     "iopub.execute_input": "2025-02-25T11:06:35.817342Z",
     "iopub.status.busy": "2025-02-25T11:06:35.816963Z",
     "iopub.status.idle": "2025-02-25T11:06:35.825448Z",
     "shell.execute_reply": "2025-02-25T11:06:35.824317Z"
    },
    "papermill": {
     "duration": 0.027572,
     "end_time": "2025-02-25T11:06:35.827058",
     "exception": false,
     "start_time": "2025-02-25T11:06:35.799486",
     "status": "completed"
    },
    "tags": []
   },
   "outputs": [
    {
     "data": {
      "text/plain": [
       "customers_level_based\n",
       "BRA_ANDROID_MALE_24_30      7\n",
       "USA_ANDROID_MALE_41_66      7\n",
       "USA_IOS_FEMALE_24_30        7\n",
       "BRA_ANDROID_FEMALE_24_30    7\n",
       "USA_ANDROID_MALE_24_30      7\n",
       "                           ..\n",
       "TUR_ANDROID_MALE_41_66      1\n",
       "CAN_ANDROID_MALE_19_23      1\n",
       "TUR_IOS_MALE_31_40          1\n",
       "TUR_IOS_MALE_24_30          1\n",
       "CAN_ANDROID_FEMALE_24_30    1\n",
       "Name: count, Length: 109, dtype: int64"
      ]
     },
     "execution_count": 40,
     "metadata": {},
     "output_type": "execute_result"
    }
   ],
   "source": [
    "# Birçok aynı segment olabilir, örneğin USA_ANDROID_MALE_0_18 segmentinden birçok sayıda olabilir\n",
    "# Kontrol edelim:\n",
    "\n",
    "agg_df[\"customers_level_based\"].value_counts()"
   ]
  },
  {
   "cell_type": "code",
   "execution_count": 41,
   "id": "f06d9e13",
   "metadata": {
    "execution": {
     "iopub.execute_input": "2025-02-25T11:06:35.861989Z",
     "iopub.status.busy": "2025-02-25T11:06:35.861621Z",
     "iopub.status.idle": "2025-02-25T11:06:35.868219Z",
     "shell.execute_reply": "2025-02-25T11:06:35.867306Z"
    },
    "papermill": {
     "duration": 0.025732,
     "end_time": "2025-02-25T11:06:35.869729",
     "exception": false,
     "start_time": "2025-02-25T11:06:35.843997",
     "status": "completed"
    },
    "tags": []
   },
   "outputs": [],
   "source": [
    "# Bu sebeple segmentlere göre groupby yaptıktan sonra PRICE ortalamalarını almalı ve segmentleri tekilleştirmeliyiz:\n",
    "\n",
    "agg_df = agg_df.groupby(\"customers_level_based\").agg({\"PRICE\": \"mean\"})"
   ]
  },
  {
   "cell_type": "code",
   "execution_count": 42,
   "id": "fac76099",
   "metadata": {
    "execution": {
     "iopub.execute_input": "2025-02-25T11:06:35.904483Z",
     "iopub.status.busy": "2025-02-25T11:06:35.904106Z",
     "iopub.status.idle": "2025-02-25T11:06:35.912098Z",
     "shell.execute_reply": "2025-02-25T11:06:35.911159Z"
    },
    "papermill": {
     "duration": 0.027254,
     "end_time": "2025-02-25T11:06:35.913779",
     "exception": false,
     "start_time": "2025-02-25T11:06:35.886525",
     "status": "completed"
    },
    "tags": []
   },
   "outputs": [
    {
     "data": {
      "text/html": [
       "<div>\n",
       "<style scoped>\n",
       "    .dataframe tbody tr th:only-of-type {\n",
       "        vertical-align: middle;\n",
       "    }\n",
       "\n",
       "    .dataframe tbody tr th {\n",
       "        vertical-align: top;\n",
       "    }\n",
       "\n",
       "    .dataframe thead th {\n",
       "        text-align: right;\n",
       "    }\n",
       "</style>\n",
       "<table border=\"1\" class=\"dataframe\">\n",
       "  <thead>\n",
       "    <tr style=\"text-align: right;\">\n",
       "      <th></th>\n",
       "      <th>PRICE</th>\n",
       "    </tr>\n",
       "    <tr>\n",
       "      <th>customers_level_based</th>\n",
       "      <th></th>\n",
       "    </tr>\n",
       "  </thead>\n",
       "  <tbody>\n",
       "    <tr>\n",
       "      <th>BRA_ANDROID_FEMALE_0_18</th>\n",
       "      <td>35.645303</td>\n",
       "    </tr>\n",
       "    <tr>\n",
       "      <th>BRA_ANDROID_FEMALE_19_23</th>\n",
       "      <td>34.077340</td>\n",
       "    </tr>\n",
       "    <tr>\n",
       "      <th>BRA_ANDROID_FEMALE_24_30</th>\n",
       "      <td>33.863946</td>\n",
       "    </tr>\n",
       "    <tr>\n",
       "      <th>BRA_ANDROID_FEMALE_31_40</th>\n",
       "      <td>34.898326</td>\n",
       "    </tr>\n",
       "    <tr>\n",
       "      <th>BRA_ANDROID_FEMALE_41_66</th>\n",
       "      <td>36.737179</td>\n",
       "    </tr>\n",
       "  </tbody>\n",
       "</table>\n",
       "</div>"
      ],
      "text/plain": [
       "                              PRICE\n",
       "customers_level_based              \n",
       "BRA_ANDROID_FEMALE_0_18   35.645303\n",
       "BRA_ANDROID_FEMALE_19_23  34.077340\n",
       "BRA_ANDROID_FEMALE_24_30  33.863946\n",
       "BRA_ANDROID_FEMALE_31_40  34.898326\n",
       "BRA_ANDROID_FEMALE_41_66  36.737179"
      ]
     },
     "execution_count": 42,
     "metadata": {},
     "output_type": "execute_result"
    }
   ],
   "source": [
    "# customers_level_based index'te yer alıyormu, kontrol edelim:\n",
    "\n",
    "agg_df.head()"
   ]
  },
  {
   "cell_type": "code",
   "execution_count": 43,
   "id": "fa4c1996",
   "metadata": {
    "execution": {
     "iopub.execute_input": "2025-02-25T11:06:35.948622Z",
     "iopub.status.busy": "2025-02-25T11:06:35.948229Z",
     "iopub.status.idle": "2025-02-25T11:06:35.958003Z",
     "shell.execute_reply": "2025-02-25T11:06:35.956993Z"
    },
    "papermill": {
     "duration": 0.028882,
     "end_time": "2025-02-25T11:06:35.959558",
     "exception": false,
     "start_time": "2025-02-25T11:06:35.930676",
     "status": "completed"
    },
    "tags": []
   },
   "outputs": [
    {
     "data": {
      "text/html": [
       "<div>\n",
       "<style scoped>\n",
       "    .dataframe tbody tr th:only-of-type {\n",
       "        vertical-align: middle;\n",
       "    }\n",
       "\n",
       "    .dataframe tbody tr th {\n",
       "        vertical-align: top;\n",
       "    }\n",
       "\n",
       "    .dataframe thead th {\n",
       "        text-align: right;\n",
       "    }\n",
       "</style>\n",
       "<table border=\"1\" class=\"dataframe\">\n",
       "  <thead>\n",
       "    <tr style=\"text-align: right;\">\n",
       "      <th></th>\n",
       "      <th>customers_level_based</th>\n",
       "      <th>PRICE</th>\n",
       "    </tr>\n",
       "  </thead>\n",
       "  <tbody>\n",
       "    <tr>\n",
       "      <th>0</th>\n",
       "      <td>BRA_ANDROID_FEMALE_0_18</td>\n",
       "      <td>35.645303</td>\n",
       "    </tr>\n",
       "    <tr>\n",
       "      <th>1</th>\n",
       "      <td>BRA_ANDROID_FEMALE_19_23</td>\n",
       "      <td>34.077340</td>\n",
       "    </tr>\n",
       "    <tr>\n",
       "      <th>2</th>\n",
       "      <td>BRA_ANDROID_FEMALE_24_30</td>\n",
       "      <td>33.863946</td>\n",
       "    </tr>\n",
       "    <tr>\n",
       "      <th>3</th>\n",
       "      <td>BRA_ANDROID_FEMALE_31_40</td>\n",
       "      <td>34.898326</td>\n",
       "    </tr>\n",
       "    <tr>\n",
       "      <th>4</th>\n",
       "      <td>BRA_ANDROID_FEMALE_41_66</td>\n",
       "      <td>36.737179</td>\n",
       "    </tr>\n",
       "  </tbody>\n",
       "</table>\n",
       "</div>"
      ],
      "text/plain": [
       "      customers_level_based      PRICE\n",
       "0   BRA_ANDROID_FEMALE_0_18  35.645303\n",
       "1  BRA_ANDROID_FEMALE_19_23  34.077340\n",
       "2  BRA_ANDROID_FEMALE_24_30  33.863946\n",
       "3  BRA_ANDROID_FEMALE_31_40  34.898326\n",
       "4  BRA_ANDROID_FEMALE_41_66  36.737179"
      ]
     },
     "execution_count": 43,
     "metadata": {},
     "output_type": "execute_result"
    }
   ],
   "source": [
    "# Değişkene çevirelim:\n",
    "\n",
    "agg_df = agg_df.reset_index()\n",
    "agg_df.head()"
   ]
  },
  {
   "cell_type": "code",
   "execution_count": 44,
   "id": "a4b0c9fc",
   "metadata": {
    "execution": {
     "iopub.execute_input": "2025-02-25T11:06:35.995577Z",
     "iopub.status.busy": "2025-02-25T11:06:35.995169Z",
     "iopub.status.idle": "2025-02-25T11:06:36.003230Z",
     "shell.execute_reply": "2025-02-25T11:06:36.002217Z"
    },
    "papermill": {
     "duration": 0.028004,
     "end_time": "2025-02-25T11:06:36.004907",
     "exception": false,
     "start_time": "2025-02-25T11:06:35.976903",
     "status": "completed"
    },
    "tags": []
   },
   "outputs": [
    {
     "data": {
      "text/plain": [
       "customers_level_based\n",
       "BRA_ANDROID_FEMALE_0_18    1\n",
       "TUR_ANDROID_FEMALE_0_18    1\n",
       "TUR_IOS_FEMALE_19_23       1\n",
       "TUR_IOS_FEMALE_0_18        1\n",
       "TUR_ANDROID_MALE_41_66     1\n",
       "                          ..\n",
       "CAN_IOS_MALE_41_66         1\n",
       "CAN_IOS_MALE_31_40         1\n",
       "CAN_IOS_MALE_24_30         1\n",
       "CAN_IOS_MALE_0_18          1\n",
       "USA_IOS_MALE_41_66         1\n",
       "Name: count, Length: 109, dtype: int64"
      ]
     },
     "execution_count": 44,
     "metadata": {},
     "output_type": "execute_result"
    }
   ],
   "source": [
    "# Heri bir persona'nın 1 tane olması gerekiyor. Kontrol edelim:\n",
    "\n",
    "agg_df[\"customers_level_based\"].value_counts()"
   ]
  },
  {
   "cell_type": "code",
   "execution_count": 45,
   "id": "fe7c85d3",
   "metadata": {
    "execution": {
     "iopub.execute_input": "2025-02-25T11:06:36.040340Z",
     "iopub.status.busy": "2025-02-25T11:06:36.039970Z",
     "iopub.status.idle": "2025-02-25T11:06:36.048414Z",
     "shell.execute_reply": "2025-02-25T11:06:36.047467Z"
    },
    "papermill": {
     "duration": 0.027995,
     "end_time": "2025-02-25T11:06:36.050056",
     "exception": false,
     "start_time": "2025-02-25T11:06:36.022061",
     "status": "completed"
    },
    "tags": []
   },
   "outputs": [
    {
     "data": {
      "text/html": [
       "<div>\n",
       "<style scoped>\n",
       "    .dataframe tbody tr th:only-of-type {\n",
       "        vertical-align: middle;\n",
       "    }\n",
       "\n",
       "    .dataframe tbody tr th {\n",
       "        vertical-align: top;\n",
       "    }\n",
       "\n",
       "    .dataframe thead th {\n",
       "        text-align: right;\n",
       "    }\n",
       "</style>\n",
       "<table border=\"1\" class=\"dataframe\">\n",
       "  <thead>\n",
       "    <tr style=\"text-align: right;\">\n",
       "      <th></th>\n",
       "      <th>customers_level_based</th>\n",
       "      <th>PRICE</th>\n",
       "    </tr>\n",
       "  </thead>\n",
       "  <tbody>\n",
       "    <tr>\n",
       "      <th>0</th>\n",
       "      <td>BRA_ANDROID_FEMALE_0_18</td>\n",
       "      <td>35.645303</td>\n",
       "    </tr>\n",
       "    <tr>\n",
       "      <th>1</th>\n",
       "      <td>BRA_ANDROID_FEMALE_19_23</td>\n",
       "      <td>34.077340</td>\n",
       "    </tr>\n",
       "    <tr>\n",
       "      <th>2</th>\n",
       "      <td>BRA_ANDROID_FEMALE_24_30</td>\n",
       "      <td>33.863946</td>\n",
       "    </tr>\n",
       "    <tr>\n",
       "      <th>3</th>\n",
       "      <td>BRA_ANDROID_FEMALE_31_40</td>\n",
       "      <td>34.898326</td>\n",
       "    </tr>\n",
       "    <tr>\n",
       "      <th>4</th>\n",
       "      <td>BRA_ANDROID_FEMALE_41_66</td>\n",
       "      <td>36.737179</td>\n",
       "    </tr>\n",
       "  </tbody>\n",
       "</table>\n",
       "</div>"
      ],
      "text/plain": [
       "      customers_level_based      PRICE\n",
       "0   BRA_ANDROID_FEMALE_0_18  35.645303\n",
       "1  BRA_ANDROID_FEMALE_19_23  34.077340\n",
       "2  BRA_ANDROID_FEMALE_24_30  33.863946\n",
       "3  BRA_ANDROID_FEMALE_31_40  34.898326\n",
       "4  BRA_ANDROID_FEMALE_41_66  36.737179"
      ]
     },
     "execution_count": 45,
     "metadata": {},
     "output_type": "execute_result"
    }
   ],
   "source": [
    "agg_df.head()"
   ]
  },
  {
   "cell_type": "markdown",
   "id": "7903a04c",
   "metadata": {
    "papermill": {
     "duration": 0.017053,
     "end_time": "2025-02-25T11:06:36.085863",
     "exception": false,
     "start_time": "2025-02-25T11:06:36.068810",
     "status": "completed"
    },
    "tags": []
   },
   "source": [
    "TASK 7: Divide the new customers (e.g., USA_ANDROID_MALE_0_18) into segments.\n",
    "\n",
    "1. Segment by PRICE.\n",
    "2. Add the segments to agg_df under the name \"SEGMENT\".\n",
    "3. Describe the segments."
   ]
  },
  {
   "cell_type": "code",
   "execution_count": 46,
   "id": "925ff71f",
   "metadata": {
    "execution": {
     "iopub.execute_input": "2025-02-25T11:06:36.121332Z",
     "iopub.status.busy": "2025-02-25T11:06:36.120963Z",
     "iopub.status.idle": "2025-02-25T11:06:36.135253Z",
     "shell.execute_reply": "2025-02-25T11:06:36.134206Z"
    },
    "papermill": {
     "duration": 0.033997,
     "end_time": "2025-02-25T11:06:36.136997",
     "exception": false,
     "start_time": "2025-02-25T11:06:36.103000",
     "status": "completed"
    },
    "tags": []
   },
   "outputs": [
    {
     "data": {
      "text/html": [
       "<div>\n",
       "<style scoped>\n",
       "    .dataframe tbody tr th:only-of-type {\n",
       "        vertical-align: middle;\n",
       "    }\n",
       "\n",
       "    .dataframe tbody tr th {\n",
       "        vertical-align: top;\n",
       "    }\n",
       "\n",
       "    .dataframe thead th {\n",
       "        text-align: right;\n",
       "    }\n",
       "</style>\n",
       "<table border=\"1\" class=\"dataframe\">\n",
       "  <thead>\n",
       "    <tr style=\"text-align: right;\">\n",
       "      <th></th>\n",
       "      <th>customers_level_based</th>\n",
       "      <th>PRICE</th>\n",
       "      <th>SEGMENT</th>\n",
       "    </tr>\n",
       "  </thead>\n",
       "  <tbody>\n",
       "    <tr>\n",
       "      <th>0</th>\n",
       "      <td>BRA_ANDROID_FEMALE_0_18</td>\n",
       "      <td>35.645303</td>\n",
       "      <td>B</td>\n",
       "    </tr>\n",
       "    <tr>\n",
       "      <th>1</th>\n",
       "      <td>BRA_ANDROID_FEMALE_19_23</td>\n",
       "      <td>34.077340</td>\n",
       "      <td>C</td>\n",
       "    </tr>\n",
       "    <tr>\n",
       "      <th>2</th>\n",
       "      <td>BRA_ANDROID_FEMALE_24_30</td>\n",
       "      <td>33.863946</td>\n",
       "      <td>C</td>\n",
       "    </tr>\n",
       "    <tr>\n",
       "      <th>3</th>\n",
       "      <td>BRA_ANDROID_FEMALE_31_40</td>\n",
       "      <td>34.898326</td>\n",
       "      <td>B</td>\n",
       "    </tr>\n",
       "    <tr>\n",
       "      <th>4</th>\n",
       "      <td>BRA_ANDROID_FEMALE_41_66</td>\n",
       "      <td>36.737179</td>\n",
       "      <td>A</td>\n",
       "    </tr>\n",
       "    <tr>\n",
       "      <th>5</th>\n",
       "      <td>BRA_ANDROID_MALE_0_18</td>\n",
       "      <td>34.805861</td>\n",
       "      <td>B</td>\n",
       "    </tr>\n",
       "    <tr>\n",
       "      <th>6</th>\n",
       "      <td>BRA_ANDROID_MALE_19_23</td>\n",
       "      <td>31.673243</td>\n",
       "      <td>D</td>\n",
       "    </tr>\n",
       "    <tr>\n",
       "      <th>7</th>\n",
       "      <td>BRA_ANDROID_MALE_24_30</td>\n",
       "      <td>33.413919</td>\n",
       "      <td>C</td>\n",
       "    </tr>\n",
       "    <tr>\n",
       "      <th>8</th>\n",
       "      <td>BRA_ANDROID_MALE_31_40</td>\n",
       "      <td>34.327381</td>\n",
       "      <td>B</td>\n",
       "    </tr>\n",
       "    <tr>\n",
       "      <th>9</th>\n",
       "      <td>BRA_ANDROID_MALE_41_66</td>\n",
       "      <td>40.041667</td>\n",
       "      <td>A</td>\n",
       "    </tr>\n",
       "  </tbody>\n",
       "</table>\n",
       "</div>"
      ],
      "text/plain": [
       "      customers_level_based      PRICE SEGMENT\n",
       "0   BRA_ANDROID_FEMALE_0_18  35.645303       B\n",
       "1  BRA_ANDROID_FEMALE_19_23  34.077340       C\n",
       "2  BRA_ANDROID_FEMALE_24_30  33.863946       C\n",
       "3  BRA_ANDROID_FEMALE_31_40  34.898326       B\n",
       "4  BRA_ANDROID_FEMALE_41_66  36.737179       A\n",
       "5     BRA_ANDROID_MALE_0_18  34.805861       B\n",
       "6    BRA_ANDROID_MALE_19_23  31.673243       D\n",
       "7    BRA_ANDROID_MALE_24_30  33.413919       C\n",
       "8    BRA_ANDROID_MALE_31_40  34.327381       B\n",
       "9    BRA_ANDROID_MALE_41_66  40.041667       A"
      ]
     },
     "execution_count": 46,
     "metadata": {},
     "output_type": "execute_result"
    }
   ],
   "source": [
    "agg_df[\"SEGMENT\"] = pd.qcut(agg_df[\"PRICE\"], 4, labels=[\"D\", \"C\", \"B\", \"A\"])\n",
    "agg_df.head(10)"
   ]
  },
  {
   "cell_type": "code",
   "execution_count": 47,
   "id": "95b57758",
   "metadata": {
    "execution": {
     "iopub.execute_input": "2025-02-25T11:06:36.174489Z",
     "iopub.status.busy": "2025-02-25T11:06:36.174063Z",
     "iopub.status.idle": "2025-02-25T11:06:36.185414Z",
     "shell.execute_reply": "2025-02-25T11:06:36.184333Z"
    },
    "papermill": {
     "duration": 0.032164,
     "end_time": "2025-02-25T11:06:36.187098",
     "exception": false,
     "start_time": "2025-02-25T11:06:36.154934",
     "status": "completed"
    },
    "tags": []
   },
   "outputs": [
    {
     "data": {
      "text/html": [
       "<div>\n",
       "<style scoped>\n",
       "    .dataframe tbody tr th:only-of-type {\n",
       "        vertical-align: middle;\n",
       "    }\n",
       "\n",
       "    .dataframe tbody tr th {\n",
       "        vertical-align: top;\n",
       "    }\n",
       "\n",
       "    .dataframe thead th {\n",
       "        text-align: right;\n",
       "    }\n",
       "</style>\n",
       "<table border=\"1\" class=\"dataframe\">\n",
       "  <thead>\n",
       "    <tr style=\"text-align: right;\">\n",
       "      <th></th>\n",
       "      <th>PRICE</th>\n",
       "    </tr>\n",
       "    <tr>\n",
       "      <th>SEGMENT</th>\n",
       "      <th></th>\n",
       "    </tr>\n",
       "  </thead>\n",
       "  <tbody>\n",
       "    <tr>\n",
       "      <th>D</th>\n",
       "      <td>29.206780</td>\n",
       "    </tr>\n",
       "    <tr>\n",
       "      <th>C</th>\n",
       "      <td>33.509674</td>\n",
       "    </tr>\n",
       "    <tr>\n",
       "      <th>B</th>\n",
       "      <td>34.999645</td>\n",
       "    </tr>\n",
       "    <tr>\n",
       "      <th>A</th>\n",
       "      <td>38.691234</td>\n",
       "    </tr>\n",
       "  </tbody>\n",
       "</table>\n",
       "</div>"
      ],
      "text/plain": [
       "             PRICE\n",
       "SEGMENT           \n",
       "D        29.206780\n",
       "C        33.509674\n",
       "B        34.999645\n",
       "A        38.691234"
      ]
     },
     "execution_count": 47,
     "metadata": {},
     "output_type": "execute_result"
    }
   ],
   "source": [
    "agg_df.groupby(\"SEGMENT\").agg({\"PRICE\": \"mean\"})"
   ]
  },
  {
   "cell_type": "code",
   "execution_count": 48,
   "id": "d4a9cc33",
   "metadata": {
    "execution": {
     "iopub.execute_input": "2025-02-25T11:06:36.224589Z",
     "iopub.status.busy": "2025-02-25T11:06:36.224195Z",
     "iopub.status.idle": "2025-02-25T11:06:36.234231Z",
     "shell.execute_reply": "2025-02-25T11:06:36.233110Z"
    },
    "papermill": {
     "duration": 0.030713,
     "end_time": "2025-02-25T11:06:36.236320",
     "exception": false,
     "start_time": "2025-02-25T11:06:36.205607",
     "status": "completed"
    },
    "tags": []
   },
   "outputs": [
    {
     "data": {
      "text/html": [
       "<div>\n",
       "<style scoped>\n",
       "    .dataframe tbody tr th:only-of-type {\n",
       "        vertical-align: middle;\n",
       "    }\n",
       "\n",
       "    .dataframe tbody tr th {\n",
       "        vertical-align: top;\n",
       "    }\n",
       "\n",
       "    .dataframe thead th {\n",
       "        text-align: right;\n",
       "    }\n",
       "</style>\n",
       "<table border=\"1\" class=\"dataframe\">\n",
       "  <thead>\n",
       "    <tr style=\"text-align: right;\">\n",
       "      <th></th>\n",
       "      <th>customers_level_based</th>\n",
       "      <th>PRICE</th>\n",
       "      <th>SEGMENT</th>\n",
       "    </tr>\n",
       "  </thead>\n",
       "  <tbody>\n",
       "    <tr>\n",
       "      <th>0</th>\n",
       "      <td>BRA_ANDROID_FEMALE_0_18</td>\n",
       "      <td>35.645303</td>\n",
       "      <td>B</td>\n",
       "    </tr>\n",
       "    <tr>\n",
       "      <th>1</th>\n",
       "      <td>BRA_ANDROID_FEMALE_19_23</td>\n",
       "      <td>34.077340</td>\n",
       "      <td>C</td>\n",
       "    </tr>\n",
       "    <tr>\n",
       "      <th>2</th>\n",
       "      <td>BRA_ANDROID_FEMALE_24_30</td>\n",
       "      <td>33.863946</td>\n",
       "      <td>C</td>\n",
       "    </tr>\n",
       "    <tr>\n",
       "      <th>3</th>\n",
       "      <td>BRA_ANDROID_FEMALE_31_40</td>\n",
       "      <td>34.898326</td>\n",
       "      <td>B</td>\n",
       "    </tr>\n",
       "    <tr>\n",
       "      <th>4</th>\n",
       "      <td>BRA_ANDROID_FEMALE_41_66</td>\n",
       "      <td>36.737179</td>\n",
       "      <td>A</td>\n",
       "    </tr>\n",
       "  </tbody>\n",
       "</table>\n",
       "</div>"
      ],
      "text/plain": [
       "      customers_level_based      PRICE SEGMENT\n",
       "0   BRA_ANDROID_FEMALE_0_18  35.645303       B\n",
       "1  BRA_ANDROID_FEMALE_19_23  34.077340       C\n",
       "2  BRA_ANDROID_FEMALE_24_30  33.863946       C\n",
       "3  BRA_ANDROID_FEMALE_31_40  34.898326       B\n",
       "4  BRA_ANDROID_FEMALE_41_66  36.737179       A"
      ]
     },
     "execution_count": 48,
     "metadata": {},
     "output_type": "execute_result"
    }
   ],
   "source": [
    "agg_df.head()"
   ]
  },
  {
   "cell_type": "markdown",
   "id": "5f66900e",
   "metadata": {
    "papermill": {
     "duration": 0.01749,
     "end_time": "2025-02-25T11:06:36.271983",
     "exception": false,
     "start_time": "2025-02-25T11:06:36.254493",
     "status": "completed"
    },
    "tags": []
   },
   "source": [
    "TASK 8: Classify the new incoming customers and predict how much revenue they could generate.\n",
    "\n",
    "Question 1: Which segment does a 33-year-old Turkish woman using Android belong to, and what is the average revenue she is expected to generate?"
   ]
  },
  {
   "cell_type": "code",
   "execution_count": 49,
   "id": "86a708c3",
   "metadata": {
    "execution": {
     "iopub.execute_input": "2025-02-25T11:06:36.309952Z",
     "iopub.status.busy": "2025-02-25T11:06:36.309575Z",
     "iopub.status.idle": "2025-02-25T11:06:36.319772Z",
     "shell.execute_reply": "2025-02-25T11:06:36.318849Z"
    },
    "papermill": {
     "duration": 0.030854,
     "end_time": "2025-02-25T11:06:36.321479",
     "exception": false,
     "start_time": "2025-02-25T11:06:36.290625",
     "status": "completed"
    },
    "tags": []
   },
   "outputs": [
    {
     "data": {
      "text/html": [
       "<div>\n",
       "<style scoped>\n",
       "    .dataframe tbody tr th:only-of-type {\n",
       "        vertical-align: middle;\n",
       "    }\n",
       "\n",
       "    .dataframe tbody tr th {\n",
       "        vertical-align: top;\n",
       "    }\n",
       "\n",
       "    .dataframe thead th {\n",
       "        text-align: right;\n",
       "    }\n",
       "</style>\n",
       "<table border=\"1\" class=\"dataframe\">\n",
       "  <thead>\n",
       "    <tr style=\"text-align: right;\">\n",
       "      <th></th>\n",
       "      <th>customers_level_based</th>\n",
       "      <th>PRICE</th>\n",
       "      <th>SEGMENT</th>\n",
       "    </tr>\n",
       "  </thead>\n",
       "  <tbody>\n",
       "    <tr>\n",
       "      <th>72</th>\n",
       "      <td>TUR_ANDROID_FEMALE_31_40</td>\n",
       "      <td>41.833333</td>\n",
       "      <td>A</td>\n",
       "    </tr>\n",
       "  </tbody>\n",
       "</table>\n",
       "</div>"
      ],
      "text/plain": [
       "       customers_level_based      PRICE SEGMENT\n",
       "72  TUR_ANDROID_FEMALE_31_40  41.833333       A"
      ]
     },
     "execution_count": 49,
     "metadata": {},
     "output_type": "execute_result"
    }
   ],
   "source": [
    "new_user = \"TUR_ANDROID_FEMALE_31_40\"\n",
    "\n",
    "agg_df[agg_df[\"customers_level_based\"] == new_user]"
   ]
  },
  {
   "cell_type": "markdown",
   "id": "f522e824",
   "metadata": {
    "papermill": {
     "duration": 0.01765,
     "end_time": "2025-02-25T11:06:36.357460",
     "exception": false,
     "start_time": "2025-02-25T11:06:36.339810",
     "status": "completed"
    },
    "tags": []
   },
   "source": [
    "Question 2: Which segment does a 35-year-old French woman using iOS belong to, and what is the average revenue she is expected to generate?"
   ]
  },
  {
   "cell_type": "code",
   "execution_count": 50,
   "id": "030e61e9",
   "metadata": {
    "execution": {
     "iopub.execute_input": "2025-02-25T11:06:36.394370Z",
     "iopub.status.busy": "2025-02-25T11:06:36.394025Z",
     "iopub.status.idle": "2025-02-25T11:06:36.403888Z",
     "shell.execute_reply": "2025-02-25T11:06:36.403017Z"
    },
    "papermill": {
     "duration": 0.030356,
     "end_time": "2025-02-25T11:06:36.405576",
     "exception": false,
     "start_time": "2025-02-25T11:06:36.375220",
     "status": "completed"
    },
    "tags": []
   },
   "outputs": [
    {
     "data": {
      "text/html": [
       "<div>\n",
       "<style scoped>\n",
       "    .dataframe tbody tr th:only-of-type {\n",
       "        vertical-align: middle;\n",
       "    }\n",
       "\n",
       "    .dataframe tbody tr th {\n",
       "        vertical-align: top;\n",
       "    }\n",
       "\n",
       "    .dataframe thead th {\n",
       "        text-align: right;\n",
       "    }\n",
       "</style>\n",
       "<table border=\"1\" class=\"dataframe\">\n",
       "  <thead>\n",
       "    <tr style=\"text-align: right;\">\n",
       "      <th></th>\n",
       "      <th>customers_level_based</th>\n",
       "      <th>PRICE</th>\n",
       "      <th>SEGMENT</th>\n",
       "    </tr>\n",
       "  </thead>\n",
       "  <tbody>\n",
       "    <tr>\n",
       "      <th>63</th>\n",
       "      <td>FRA_IOS_FEMALE_31_40</td>\n",
       "      <td>32.818182</td>\n",
       "      <td>C</td>\n",
       "    </tr>\n",
       "  </tbody>\n",
       "</table>\n",
       "</div>"
      ],
      "text/plain": [
       "   customers_level_based      PRICE SEGMENT\n",
       "63  FRA_IOS_FEMALE_31_40  32.818182       C"
      ]
     },
     "execution_count": 50,
     "metadata": {},
     "output_type": "execute_result"
    }
   ],
   "source": [
    "new_user = \"FRA_IOS_FEMALE_31_40\"\n",
    "\n",
    "agg_df[agg_df[\"customers_level_based\"] == new_user]"
   ]
  }
 ],
 "metadata": {
  "kaggle": {
   "accelerator": "none",
   "dataSources": [
    {
     "datasetId": 6725468,
     "sourceId": 10830880,
     "sourceType": "datasetVersion"
    }
   ],
   "dockerImageVersionId": 30918,
   "isGpuEnabled": false,
   "isInternetEnabled": true,
   "language": "python",
   "sourceType": "notebook"
  },
  "kernelspec": {
   "display_name": "Python 3",
   "language": "python",
   "name": "python3"
  },
  "language_info": {
   "codemirror_mode": {
    "name": "ipython",
    "version": 3
   },
   "file_extension": ".py",
   "mimetype": "text/x-python",
   "name": "python",
   "nbconvert_exporter": "python",
   "pygments_lexer": "ipython3",
   "version": "3.10.12"
  },
  "papermill": {
   "default_parameters": {},
   "duration": 7.378934,
   "end_time": "2025-02-25T11:06:37.044774",
   "environment_variables": {},
   "exception": null,
   "input_path": "__notebook__.ipynb",
   "output_path": "__notebook__.ipynb",
   "parameters": {},
   "start_time": "2025-02-25T11:06:29.665840",
   "version": "2.6.0"
  }
 },
 "nbformat": 4,
 "nbformat_minor": 5
}
